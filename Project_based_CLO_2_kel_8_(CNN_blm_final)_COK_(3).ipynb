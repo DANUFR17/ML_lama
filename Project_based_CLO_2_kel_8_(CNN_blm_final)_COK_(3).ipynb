{
  "nbformat": 4,
  "nbformat_minor": 0,
  "metadata": {
    "colab": {
      "provenance": [],
      "toc_visible": true
    },
    "kernelspec": {
      "name": "python3",
      "display_name": "Python 3"
    },
    "language_info": {
      "name": "python"
    }
  },
  "cells": [
    {
      "cell_type": "markdown",
      "source": [
        "# PROJECT BASED CLO 2 KELOMPOK 8\n",
        "\n",
        "\n",
        "1.  Aqilah Fedura Ilahi (1301213123)\n",
        "2.  Muhammad Danu Firjatullah Rachman(1301213439)\n",
        "3.  Risna Zahira (1301213160)\n",
        "\n",
        "\n",
        "**METODE : CNN**\n"
      ],
      "metadata": {
        "id": "HnzcaXSpsmSA"
      }
    },
    {
      "cell_type": "markdown",
      "source": [
        "# LATANG BELAKANG\n",
        "\n",
        "Analisis data, atau data analytics, merupakan tahap penting dalam mengumpulkan, merapikan, dan mengekstraksi informasi yang bernilai dari dataset yang besar. Dalam proses analisis ini, dapat diidentifikasi pola dan metrik yang mungkin tidak terlihat secara langsung dalam data mentah. Informasi ini kemudian bisa dimanfaatkan untuk meng-enhance atau meningkatkan proses, sehingga meningkatkan efisiensi sistem secara keseluruhan.\n",
        "\n",
        "Data yang kami gunakan adalah Student Performance yang Memprediksi Kinerja Siswa pada Pendidikan Menengah Atas (SMA).\n",
        "\n",
        "Pemilihan data ini didasarkan pada konteks pemahaman dan analisis kinerja siswa pada tingkat pendidikan menengah di dua sekolah Portugis. Data ini mencakup berbagai atribut, termasuk nilai siswa, demografi, fitur sosial, dan atribut sekolah. Penggunaan data ini merupakan praktek yang signifikan dalam pemodelan klasifikasi dan regresi biner/lima tingkat, yang mencerminkan tantangan dunia nyata dalam pemahaman kinerja siswa. Atribut target G3 memiliki korelasi yang kuat dengan atribut G2 dan G1 karena G3 mencerminkan nilai akhir tahun, yang secara alami bergantung pada prestasi awal siswa di periode ke-1 dan ke-2. Data ini menawarkan kesempatan untuk memprediksi kinerja siswa di masa depan, menggabungkan atribut G2 dan G1, dan dapat memiliki dampak yang signifikan dalam meningkatkan pendidikan dan memberikan wawasan berharga bagi pembuat kebijakan dan lembaga pendidikan.\n",
        "\n",
        "\n",
        "\n"
      ],
      "metadata": {
        "id": "nVDDVWl4tk9L"
      }
    },
    {
      "cell_type": "markdown",
      "source": [
        "# RINGKASAN METODE\n",
        "\n",
        "1.   Data Preprocessing dan Eksplorasi Data\n",
        "\n",
        "# Ringkasan Metode\n",
        "Metode yang akan digunakan pada project ini yaitu CNN sebagai baseline model. penambahan lebih banyak lapisan Conv1D, penggunakan kernel size yang lebih besar, dan penambahkan lebih banyak neuron di lapisan Dense Exploratory modelnya.\n",
        "\n"
      ],
      "metadata": {
        "id": "X8r8lOLSt4Jb"
      }
    },
    {
      "cell_type": "markdown",
      "source": [
        "# 1. Data Preprocessing dan Eksplorasi Data\n",
        "a. Impor pustaka yang dibutuhkan"
      ],
      "metadata": {
        "id": "k_v_msz961HK"
      }
    },
    {
      "cell_type": "code",
      "source": [
        "#import pustaka yang diperlukan\n",
        "import numpy as np\n",
        "import pandas as pd\n",
        "import matplotlib.pyplot as plt\n",
        "import seaborn as sns\n",
        "from sklearn.model_selection import train_test_split\n",
        "from sklearn.preprocessing import StandardScaler, LabelEncoder\n"
      ],
      "metadata": {
        "id": "ETcJA7NX6xck"
      },
      "execution_count": null,
      "outputs": []
    },
    {
      "cell_type": "markdown",
      "source": [
        "b. Memuat dataset"
      ],
      "metadata": {
        "id": "3RfAvtJR6_Fj"
      }
    },
    {
      "cell_type": "code",
      "source": [
        "import zipfile\n",
        "import os\n",
        "\n",
        "# Unduh dataset dari URL\n",
        "url = \"https://archive.ics.uci.edu/ml/machine-learning-databases/00320/student.zip\"\n",
        "download_path = \"student.zip\"\n",
        "\n",
        "# Unduh file ZIP\n",
        "if not os.path.exists(download_path):\n",
        "    import urllib.request\n",
        "    urllib.request.urlretrieve(url, download_path)\n",
        "\n",
        "# Ekstrak file yang diperlukan\n",
        "with zipfile.ZipFile(download_path, 'r') as zip_ref:\n",
        "    zip_ref.extractall(\"student_data\")\n",
        "\n",
        "# Baca data matematika\n",
        "df_math = pd.read_csv(\"student_data/student-mat.csv\", sep=';')\n",
        "\n",
        "# Baca data portugis\n",
        "df_port = pd.read_csv(\"student_data/student-por.csv\", sep=';')\n",
        "\n",
        "# Gabungkan kedua data menjadi satu dataset\n",
        "df = pd.concat([df_math, df_port], axis=0)\n",
        "\n"
      ],
      "metadata": {
        "id": "Bj4E8MWY-mkp"
      },
      "execution_count": null,
      "outputs": []
    },
    {
      "cell_type": "markdown",
      "source": [
        "c. Eksplorasi Data Awal"
      ],
      "metadata": {
        "id": "s_qfyRB87Rq0"
      }
    },
    {
      "cell_type": "code",
      "source": [
        "#menampilkan data shape dan info data\n",
        "print('Data Shape:',df.shape)\n",
        "print(df.info())\n",
        "display(df.head())"
      ],
      "metadata": {
        "colab": {
          "base_uri": "https://localhost:8080/",
          "height": 985
        },
        "id": "y2JxlCbUeCQe",
        "outputId": "b3213da6-c943-41e6-b3ed-c2551c2b1f4f"
      },
      "execution_count": null,
      "outputs": [
        {
          "output_type": "stream",
          "name": "stdout",
          "text": [
            "Data Shape: (1044, 33)\n",
            "<class 'pandas.core.frame.DataFrame'>\n",
            "Int64Index: 1044 entries, 0 to 648\n",
            "Data columns (total 33 columns):\n",
            " #   Column      Non-Null Count  Dtype \n",
            "---  ------      --------------  ----- \n",
            " 0   school      1044 non-null   object\n",
            " 1   sex         1044 non-null   object\n",
            " 2   age         1044 non-null   int64 \n",
            " 3   address     1044 non-null   object\n",
            " 4   famsize     1044 non-null   object\n",
            " 5   Pstatus     1044 non-null   object\n",
            " 6   Medu        1044 non-null   int64 \n",
            " 7   Fedu        1044 non-null   int64 \n",
            " 8   Mjob        1044 non-null   object\n",
            " 9   Fjob        1044 non-null   object\n",
            " 10  reason      1044 non-null   object\n",
            " 11  guardian    1044 non-null   object\n",
            " 12  traveltime  1044 non-null   int64 \n",
            " 13  studytime   1044 non-null   int64 \n",
            " 14  failures    1044 non-null   int64 \n",
            " 15  schoolsup   1044 non-null   object\n",
            " 16  famsup      1044 non-null   object\n",
            " 17  paid        1044 non-null   object\n",
            " 18  activities  1044 non-null   object\n",
            " 19  nursery     1044 non-null   object\n",
            " 20  higher      1044 non-null   object\n",
            " 21  internet    1044 non-null   object\n",
            " 22  romantic    1044 non-null   object\n",
            " 23  famrel      1044 non-null   int64 \n",
            " 24  freetime    1044 non-null   int64 \n",
            " 25  goout       1044 non-null   int64 \n",
            " 26  Dalc        1044 non-null   int64 \n",
            " 27  Walc        1044 non-null   int64 \n",
            " 28  health      1044 non-null   int64 \n",
            " 29  absences    1044 non-null   int64 \n",
            " 30  G1          1044 non-null   int64 \n",
            " 31  G2          1044 non-null   int64 \n",
            " 32  G3          1044 non-null   int64 \n",
            "dtypes: int64(16), object(17)\n",
            "memory usage: 277.3+ KB\n",
            "None\n"
          ]
        },
        {
          "output_type": "display_data",
          "data": {
            "text/plain": [
              "  school sex  age address famsize Pstatus  Medu  Fedu     Mjob      Fjob  ...  \\\n",
              "0     GP   F   18       U     GT3       A     4     4  at_home   teacher  ...   \n",
              "1     GP   F   17       U     GT3       T     1     1  at_home     other  ...   \n",
              "2     GP   F   15       U     LE3       T     1     1  at_home     other  ...   \n",
              "3     GP   F   15       U     GT3       T     4     2   health  services  ...   \n",
              "4     GP   F   16       U     GT3       T     3     3    other     other  ...   \n",
              "\n",
              "  famrel freetime  goout  Dalc  Walc health absences  G1  G2  G3  \n",
              "0      4        3      4     1     1      3        6   5   6   6  \n",
              "1      5        3      3     1     1      3        4   5   5   6  \n",
              "2      4        3      2     2     3      3       10   7   8  10  \n",
              "3      3        2      2     1     1      5        2  15  14  15  \n",
              "4      4        3      2     1     2      5        4   6  10  10  \n",
              "\n",
              "[5 rows x 33 columns]"
            ],
            "text/html": [
              "\n",
              "  <div id=\"df-470bf595-536c-46ba-8525-857b4174c739\" class=\"colab-df-container\">\n",
              "    <div>\n",
              "<style scoped>\n",
              "    .dataframe tbody tr th:only-of-type {\n",
              "        vertical-align: middle;\n",
              "    }\n",
              "\n",
              "    .dataframe tbody tr th {\n",
              "        vertical-align: top;\n",
              "    }\n",
              "\n",
              "    .dataframe thead th {\n",
              "        text-align: right;\n",
              "    }\n",
              "</style>\n",
              "<table border=\"1\" class=\"dataframe\">\n",
              "  <thead>\n",
              "    <tr style=\"text-align: right;\">\n",
              "      <th></th>\n",
              "      <th>school</th>\n",
              "      <th>sex</th>\n",
              "      <th>age</th>\n",
              "      <th>address</th>\n",
              "      <th>famsize</th>\n",
              "      <th>Pstatus</th>\n",
              "      <th>Medu</th>\n",
              "      <th>Fedu</th>\n",
              "      <th>Mjob</th>\n",
              "      <th>Fjob</th>\n",
              "      <th>...</th>\n",
              "      <th>famrel</th>\n",
              "      <th>freetime</th>\n",
              "      <th>goout</th>\n",
              "      <th>Dalc</th>\n",
              "      <th>Walc</th>\n",
              "      <th>health</th>\n",
              "      <th>absences</th>\n",
              "      <th>G1</th>\n",
              "      <th>G2</th>\n",
              "      <th>G3</th>\n",
              "    </tr>\n",
              "  </thead>\n",
              "  <tbody>\n",
              "    <tr>\n",
              "      <th>0</th>\n",
              "      <td>GP</td>\n",
              "      <td>F</td>\n",
              "      <td>18</td>\n",
              "      <td>U</td>\n",
              "      <td>GT3</td>\n",
              "      <td>A</td>\n",
              "      <td>4</td>\n",
              "      <td>4</td>\n",
              "      <td>at_home</td>\n",
              "      <td>teacher</td>\n",
              "      <td>...</td>\n",
              "      <td>4</td>\n",
              "      <td>3</td>\n",
              "      <td>4</td>\n",
              "      <td>1</td>\n",
              "      <td>1</td>\n",
              "      <td>3</td>\n",
              "      <td>6</td>\n",
              "      <td>5</td>\n",
              "      <td>6</td>\n",
              "      <td>6</td>\n",
              "    </tr>\n",
              "    <tr>\n",
              "      <th>1</th>\n",
              "      <td>GP</td>\n",
              "      <td>F</td>\n",
              "      <td>17</td>\n",
              "      <td>U</td>\n",
              "      <td>GT3</td>\n",
              "      <td>T</td>\n",
              "      <td>1</td>\n",
              "      <td>1</td>\n",
              "      <td>at_home</td>\n",
              "      <td>other</td>\n",
              "      <td>...</td>\n",
              "      <td>5</td>\n",
              "      <td>3</td>\n",
              "      <td>3</td>\n",
              "      <td>1</td>\n",
              "      <td>1</td>\n",
              "      <td>3</td>\n",
              "      <td>4</td>\n",
              "      <td>5</td>\n",
              "      <td>5</td>\n",
              "      <td>6</td>\n",
              "    </tr>\n",
              "    <tr>\n",
              "      <th>2</th>\n",
              "      <td>GP</td>\n",
              "      <td>F</td>\n",
              "      <td>15</td>\n",
              "      <td>U</td>\n",
              "      <td>LE3</td>\n",
              "      <td>T</td>\n",
              "      <td>1</td>\n",
              "      <td>1</td>\n",
              "      <td>at_home</td>\n",
              "      <td>other</td>\n",
              "      <td>...</td>\n",
              "      <td>4</td>\n",
              "      <td>3</td>\n",
              "      <td>2</td>\n",
              "      <td>2</td>\n",
              "      <td>3</td>\n",
              "      <td>3</td>\n",
              "      <td>10</td>\n",
              "      <td>7</td>\n",
              "      <td>8</td>\n",
              "      <td>10</td>\n",
              "    </tr>\n",
              "    <tr>\n",
              "      <th>3</th>\n",
              "      <td>GP</td>\n",
              "      <td>F</td>\n",
              "      <td>15</td>\n",
              "      <td>U</td>\n",
              "      <td>GT3</td>\n",
              "      <td>T</td>\n",
              "      <td>4</td>\n",
              "      <td>2</td>\n",
              "      <td>health</td>\n",
              "      <td>services</td>\n",
              "      <td>...</td>\n",
              "      <td>3</td>\n",
              "      <td>2</td>\n",
              "      <td>2</td>\n",
              "      <td>1</td>\n",
              "      <td>1</td>\n",
              "      <td>5</td>\n",
              "      <td>2</td>\n",
              "      <td>15</td>\n",
              "      <td>14</td>\n",
              "      <td>15</td>\n",
              "    </tr>\n",
              "    <tr>\n",
              "      <th>4</th>\n",
              "      <td>GP</td>\n",
              "      <td>F</td>\n",
              "      <td>16</td>\n",
              "      <td>U</td>\n",
              "      <td>GT3</td>\n",
              "      <td>T</td>\n",
              "      <td>3</td>\n",
              "      <td>3</td>\n",
              "      <td>other</td>\n",
              "      <td>other</td>\n",
              "      <td>...</td>\n",
              "      <td>4</td>\n",
              "      <td>3</td>\n",
              "      <td>2</td>\n",
              "      <td>1</td>\n",
              "      <td>2</td>\n",
              "      <td>5</td>\n",
              "      <td>4</td>\n",
              "      <td>6</td>\n",
              "      <td>10</td>\n",
              "      <td>10</td>\n",
              "    </tr>\n",
              "  </tbody>\n",
              "</table>\n",
              "<p>5 rows × 33 columns</p>\n",
              "</div>\n",
              "    <div class=\"colab-df-buttons\">\n",
              "\n",
              "  <div class=\"colab-df-container\">\n",
              "    <button class=\"colab-df-convert\" onclick=\"convertToInteractive('df-470bf595-536c-46ba-8525-857b4174c739')\"\n",
              "            title=\"Convert this dataframe to an interactive table.\"\n",
              "            style=\"display:none;\">\n",
              "\n",
              "  <svg xmlns=\"http://www.w3.org/2000/svg\" height=\"24px\" viewBox=\"0 -960 960 960\">\n",
              "    <path d=\"M120-120v-720h720v720H120Zm60-500h600v-160H180v160Zm220 220h160v-160H400v160Zm0 220h160v-160H400v160ZM180-400h160v-160H180v160Zm440 0h160v-160H620v160ZM180-180h160v-160H180v160Zm440 0h160v-160H620v160Z\"/>\n",
              "  </svg>\n",
              "    </button>\n",
              "\n",
              "  <style>\n",
              "    .colab-df-container {\n",
              "      display:flex;\n",
              "      gap: 12px;\n",
              "    }\n",
              "\n",
              "    .colab-df-convert {\n",
              "      background-color: #E8F0FE;\n",
              "      border: none;\n",
              "      border-radius: 50%;\n",
              "      cursor: pointer;\n",
              "      display: none;\n",
              "      fill: #1967D2;\n",
              "      height: 32px;\n",
              "      padding: 0 0 0 0;\n",
              "      width: 32px;\n",
              "    }\n",
              "\n",
              "    .colab-df-convert:hover {\n",
              "      background-color: #E2EBFA;\n",
              "      box-shadow: 0px 1px 2px rgba(60, 64, 67, 0.3), 0px 1px 3px 1px rgba(60, 64, 67, 0.15);\n",
              "      fill: #174EA6;\n",
              "    }\n",
              "\n",
              "    .colab-df-buttons div {\n",
              "      margin-bottom: 4px;\n",
              "    }\n",
              "\n",
              "    [theme=dark] .colab-df-convert {\n",
              "      background-color: #3B4455;\n",
              "      fill: #D2E3FC;\n",
              "    }\n",
              "\n",
              "    [theme=dark] .colab-df-convert:hover {\n",
              "      background-color: #434B5C;\n",
              "      box-shadow: 0px 1px 3px 1px rgba(0, 0, 0, 0.15);\n",
              "      filter: drop-shadow(0px 1px 2px rgba(0, 0, 0, 0.3));\n",
              "      fill: #FFFFFF;\n",
              "    }\n",
              "  </style>\n",
              "\n",
              "    <script>\n",
              "      const buttonEl =\n",
              "        document.querySelector('#df-470bf595-536c-46ba-8525-857b4174c739 button.colab-df-convert');\n",
              "      buttonEl.style.display =\n",
              "        google.colab.kernel.accessAllowed ? 'block' : 'none';\n",
              "\n",
              "      async function convertToInteractive(key) {\n",
              "        const element = document.querySelector('#df-470bf595-536c-46ba-8525-857b4174c739');\n",
              "        const dataTable =\n",
              "          await google.colab.kernel.invokeFunction('convertToInteractive',\n",
              "                                                    [key], {});\n",
              "        if (!dataTable) return;\n",
              "\n",
              "        const docLinkHtml = 'Like what you see? Visit the ' +\n",
              "          '<a target=\"_blank\" href=https://colab.research.google.com/notebooks/data_table.ipynb>data table notebook</a>'\n",
              "          + ' to learn more about interactive tables.';\n",
              "        element.innerHTML = '';\n",
              "        dataTable['output_type'] = 'display_data';\n",
              "        await google.colab.output.renderOutput(dataTable, element);\n",
              "        const docLink = document.createElement('div');\n",
              "        docLink.innerHTML = docLinkHtml;\n",
              "        element.appendChild(docLink);\n",
              "      }\n",
              "    </script>\n",
              "  </div>\n",
              "\n",
              "\n",
              "<div id=\"df-c3a8f94e-2c9f-4b41-bf08-88ba5e1d1236\">\n",
              "  <button class=\"colab-df-quickchart\" onclick=\"quickchart('df-c3a8f94e-2c9f-4b41-bf08-88ba5e1d1236')\"\n",
              "            title=\"Suggest charts\"\n",
              "            style=\"display:none;\">\n",
              "\n",
              "<svg xmlns=\"http://www.w3.org/2000/svg\" height=\"24px\"viewBox=\"0 0 24 24\"\n",
              "     width=\"24px\">\n",
              "    <g>\n",
              "        <path d=\"M19 3H5c-1.1 0-2 .9-2 2v14c0 1.1.9 2 2 2h14c1.1 0 2-.9 2-2V5c0-1.1-.9-2-2-2zM9 17H7v-7h2v7zm4 0h-2V7h2v10zm4 0h-2v-4h2v4z\"/>\n",
              "    </g>\n",
              "</svg>\n",
              "  </button>\n",
              "\n",
              "<style>\n",
              "  .colab-df-quickchart {\n",
              "      --bg-color: #E8F0FE;\n",
              "      --fill-color: #1967D2;\n",
              "      --hover-bg-color: #E2EBFA;\n",
              "      --hover-fill-color: #174EA6;\n",
              "      --disabled-fill-color: #AAA;\n",
              "      --disabled-bg-color: #DDD;\n",
              "  }\n",
              "\n",
              "  [theme=dark] .colab-df-quickchart {\n",
              "      --bg-color: #3B4455;\n",
              "      --fill-color: #D2E3FC;\n",
              "      --hover-bg-color: #434B5C;\n",
              "      --hover-fill-color: #FFFFFF;\n",
              "      --disabled-bg-color: #3B4455;\n",
              "      --disabled-fill-color: #666;\n",
              "  }\n",
              "\n",
              "  .colab-df-quickchart {\n",
              "    background-color: var(--bg-color);\n",
              "    border: none;\n",
              "    border-radius: 50%;\n",
              "    cursor: pointer;\n",
              "    display: none;\n",
              "    fill: var(--fill-color);\n",
              "    height: 32px;\n",
              "    padding: 0;\n",
              "    width: 32px;\n",
              "  }\n",
              "\n",
              "  .colab-df-quickchart:hover {\n",
              "    background-color: var(--hover-bg-color);\n",
              "    box-shadow: 0 1px 2px rgba(60, 64, 67, 0.3), 0 1px 3px 1px rgba(60, 64, 67, 0.15);\n",
              "    fill: var(--button-hover-fill-color);\n",
              "  }\n",
              "\n",
              "  .colab-df-quickchart-complete:disabled,\n",
              "  .colab-df-quickchart-complete:disabled:hover {\n",
              "    background-color: var(--disabled-bg-color);\n",
              "    fill: var(--disabled-fill-color);\n",
              "    box-shadow: none;\n",
              "  }\n",
              "\n",
              "  .colab-df-spinner {\n",
              "    border: 2px solid var(--fill-color);\n",
              "    border-color: transparent;\n",
              "    border-bottom-color: var(--fill-color);\n",
              "    animation:\n",
              "      spin 1s steps(1) infinite;\n",
              "  }\n",
              "\n",
              "  @keyframes spin {\n",
              "    0% {\n",
              "      border-color: transparent;\n",
              "      border-bottom-color: var(--fill-color);\n",
              "      border-left-color: var(--fill-color);\n",
              "    }\n",
              "    20% {\n",
              "      border-color: transparent;\n",
              "      border-left-color: var(--fill-color);\n",
              "      border-top-color: var(--fill-color);\n",
              "    }\n",
              "    30% {\n",
              "      border-color: transparent;\n",
              "      border-left-color: var(--fill-color);\n",
              "      border-top-color: var(--fill-color);\n",
              "      border-right-color: var(--fill-color);\n",
              "    }\n",
              "    40% {\n",
              "      border-color: transparent;\n",
              "      border-right-color: var(--fill-color);\n",
              "      border-top-color: var(--fill-color);\n",
              "    }\n",
              "    60% {\n",
              "      border-color: transparent;\n",
              "      border-right-color: var(--fill-color);\n",
              "    }\n",
              "    80% {\n",
              "      border-color: transparent;\n",
              "      border-right-color: var(--fill-color);\n",
              "      border-bottom-color: var(--fill-color);\n",
              "    }\n",
              "    90% {\n",
              "      border-color: transparent;\n",
              "      border-bottom-color: var(--fill-color);\n",
              "    }\n",
              "  }\n",
              "</style>\n",
              "\n",
              "  <script>\n",
              "    async function quickchart(key) {\n",
              "      const quickchartButtonEl =\n",
              "        document.querySelector('#' + key + ' button');\n",
              "      quickchartButtonEl.disabled = true;  // To prevent multiple clicks.\n",
              "      quickchartButtonEl.classList.add('colab-df-spinner');\n",
              "      try {\n",
              "        const charts = await google.colab.kernel.invokeFunction(\n",
              "            'suggestCharts', [key], {});\n",
              "      } catch (error) {\n",
              "        console.error('Error during call to suggestCharts:', error);\n",
              "      }\n",
              "      quickchartButtonEl.classList.remove('colab-df-spinner');\n",
              "      quickchartButtonEl.classList.add('colab-df-quickchart-complete');\n",
              "    }\n",
              "    (() => {\n",
              "      let quickchartButtonEl =\n",
              "        document.querySelector('#df-c3a8f94e-2c9f-4b41-bf08-88ba5e1d1236 button');\n",
              "      quickchartButtonEl.style.display =\n",
              "        google.colab.kernel.accessAllowed ? 'block' : 'none';\n",
              "    })();\n",
              "  </script>\n",
              "</div>\n",
              "    </div>\n",
              "  </div>\n"
            ]
          },
          "metadata": {}
        }
      ]
    },
    {
      "cell_type": "code",
      "source": [
        "#menampikan unique value dari categorical columns\n",
        "print('Catagorical Column\\'s Values\\n')\n",
        "for col in df.select_dtypes(exclude=np.number).columns:\n",
        "    unique = df[col].unique()\n",
        "    print('-'*7,f'columns {col}','-'*7)\n",
        "    print(f'There are {len(unique)} Unique values')\n",
        "    print(f'5 of which are: {unique[:5]}\\n')"
      ],
      "metadata": {
        "colab": {
          "base_uri": "https://localhost:8080/"
        },
        "id": "6BhJ6xzqefUt",
        "outputId": "6bb05307-5c4c-4453-e327-f3bddcf85ee9"
      },
      "execution_count": null,
      "outputs": [
        {
          "output_type": "stream",
          "name": "stdout",
          "text": [
            "Catagorical Column's Values\n",
            "\n",
            "------- columns school -------\n",
            "There are 2 Unique values\n",
            "5 of which are: ['GP' 'MS']\n",
            "\n",
            "------- columns sex -------\n",
            "There are 2 Unique values\n",
            "5 of which are: ['F' 'M']\n",
            "\n",
            "------- columns address -------\n",
            "There are 2 Unique values\n",
            "5 of which are: ['U' 'R']\n",
            "\n",
            "------- columns famsize -------\n",
            "There are 2 Unique values\n",
            "5 of which are: ['GT3' 'LE3']\n",
            "\n",
            "------- columns Pstatus -------\n",
            "There are 2 Unique values\n",
            "5 of which are: ['A' 'T']\n",
            "\n",
            "------- columns Mjob -------\n",
            "There are 5 Unique values\n",
            "5 of which are: ['at_home' 'health' 'other' 'services' 'teacher']\n",
            "\n",
            "------- columns Fjob -------\n",
            "There are 5 Unique values\n",
            "5 of which are: ['teacher' 'other' 'services' 'health' 'at_home']\n",
            "\n",
            "------- columns reason -------\n",
            "There are 4 Unique values\n",
            "5 of which are: ['course' 'other' 'home' 'reputation']\n",
            "\n",
            "------- columns guardian -------\n",
            "There are 3 Unique values\n",
            "5 of which are: ['mother' 'father' 'other']\n",
            "\n",
            "------- columns schoolsup -------\n",
            "There are 2 Unique values\n",
            "5 of which are: ['yes' 'no']\n",
            "\n",
            "------- columns famsup -------\n",
            "There are 2 Unique values\n",
            "5 of which are: ['no' 'yes']\n",
            "\n",
            "------- columns paid -------\n",
            "There are 2 Unique values\n",
            "5 of which are: ['no' 'yes']\n",
            "\n",
            "------- columns activities -------\n",
            "There are 2 Unique values\n",
            "5 of which are: ['no' 'yes']\n",
            "\n",
            "------- columns nursery -------\n",
            "There are 2 Unique values\n",
            "5 of which are: ['yes' 'no']\n",
            "\n",
            "------- columns higher -------\n",
            "There are 2 Unique values\n",
            "5 of which are: ['yes' 'no']\n",
            "\n",
            "------- columns internet -------\n",
            "There are 2 Unique values\n",
            "5 of which are: ['no' 'yes']\n",
            "\n",
            "------- columns romantic -------\n",
            "There are 2 Unique values\n",
            "5 of which are: ['no' 'yes']\n",
            "\n"
          ]
        }
      ]
    },
    {
      "cell_type": "markdown",
      "source": [
        "d. Visualisasi Data\n",
        "\n",
        "# Multivariant analysis\n",
        "\n",
        "\n"
      ],
      "metadata": {
        "id": "9Fv0-Xg57j9L"
      }
    },
    {
      "cell_type": "code",
      "source": [
        "# Membuat salinan dari dataframe utama untuk melakukan penyesuaian\n",
        "mu_df = df.copy()\n",
        "mu_df['G1&G2'] = round((mu_df['G1'] + mu_df['G2']) / 2, 1)\n",
        "mu_df['MFedu'] = mu_df['Medu'] + mu_df['Fedu']\n",
        "\n",
        "mu_df.drop(labels=['G1', 'G2', 'Medu', 'Fedu'], inplace=True, axis=1)\n",
        "\n",
        "# Memperbarui daftar kolom setelah penyesuaian\n",
        "mu_cat_columns = ['school', 'sex', 'address', 'famsize', 'Pstatus', 'Mjob', 'Fjob', 'reason', 'guardian',\n",
        "                  'schoolsup', 'famsup', 'paid', 'activities', 'nursery', 'higher', 'internet', 'romantic']\n",
        "mu_num_columns = ['traveltime', 'studytime', 'famrel', 'freetime', 'goout', 'Dalc', 'Walc', 'health', 'MFedu']\n",
        "mu_cont_columns = ['age', 'failures', 'absences', 'G3']\n",
        "\n",
        "def exam_mean_facetgrid(df, face_column, x_col, mean_col='G1&G2', title='Forgotten!!'):\n",
        "    plot_data = df.groupby([x_col, face_column]).mean()[mean_col].reset_index()\n",
        "    g = sns.FacetGrid(data=plot_data, col=face_column, margin_titles=True)\n",
        "    g.map(plt.bar, x_col, mean_col)\n",
        "    g.fig.subplots_adjust(top=0.8)\n",
        "    g.fig.suptitle(f'{title}', size=12, fontweight='bold', fontfamily='serif')\n",
        "\n",
        "# Contoh penggunaan fungsi:\n",
        "exam_mean_facetgrid(mu_df, 'school', 'age', title='Average G1&G2 Scores by Age and School')\n",
        "\n",
        "exam_mean_facetgrid(df=mu_df, face_column='studytime', x_col='freetime', mean_col='G1&G2', title='Change on G1&G2 Mean Value with respect to different Freetime and Studytime for students')\n",
        "\n"
      ],
      "metadata": {
        "id": "3FDkiKcmfmJg",
        "colab": {
          "base_uri": "https://localhost:8080/",
          "height": 603
        },
        "outputId": "bb68f373-eb6e-43e2-afc8-6139594ac43a"
      },
      "execution_count": null,
      "outputs": [
        {
          "output_type": "display_data",
          "data": {
            "text/plain": [
              "<Figure size 600x300 with 2 Axes>"
            ],
            "image/png": "[encoded data removed]"
          },
          "metadata": {}
        },
        {
          "output_type": "display_data",
          "data": {
            "text/plain": [
              "<Figure size 1200x300 with 4 Axes>"
            ],
            "image/png": "[encoded data removed]"
          },
          "metadata": {}
        }
      ]
    },
    {
      "cell_type": "markdown",
      "source": [
        "e. Preprocessing"
      ],
      "metadata": {
        "id": "A9HZOKt17qKq"
      }
    },
    {
      "cell_type": "markdown",
      "source": [],
      "metadata": {
        "id": "fVdPhfz4-Vxb"
      }
    },
    {
      "cell_type": "code",
      "source": [
        "# Mengubah kategori menjadi angka dengan LabelEncoder\n",
        "label_encoders = {}\n",
        "for column in df.select_dtypes(include=['object']).columns:\n",
        "    le = LabelEncoder()\n",
        "    df[column] = le.fit_transform(df[column])\n",
        "    label_encoders[column] = le\n",
        "\n",
        "# Normalisasi data numerik\n",
        "scaler = StandardScaler()\n",
        "df_scaled = scaler.fit_transform(df)\n"
      ],
      "metadata": {
        "id": "vsh6FfxW7js5"
      },
      "execution_count": null,
      "outputs": []
    },
    {
      "cell_type": "markdown",
      "source": [
        "# 2. Pembangunan Model **Baseline**\n",
        "a. Impor pustaka yang dibutuhkan"
      ],
      "metadata": {
        "id": "fiuDUaXN7voy"
      }
    },
    {
      "cell_type": "code",
      "source": [
        "from tensorflow.keras.models import Sequential\n",
        "from tensorflow.keras.layers import Dense, Conv1D, Flatten\n"
      ],
      "metadata": {
        "id": "ZSwXHhZd7s87"
      },
      "execution_count": null,
      "outputs": []
    },
    {
      "cell_type": "markdown",
      "source": [
        "b. Memauat dan memproses data, Membagi dataset menjadi train dan test"
      ],
      "metadata": {
        "id": "vOG7r75E8Aci"
      }
    },
    {
      "cell_type": "code",
      "source": [
        "# Misalkan Anda memiliki DataFrame 'df' dengan fitur dan target\n",
        "X = df.drop(columns=['G3'])\n",
        "y = df['G3']\n",
        "\n",
        "# Normalisasi data\n",
        "scaler = StandardScaler()\n",
        "X = scaler.fit_transform(X)\n",
        "\n",
        "# Membagi dataset menjadi train dan test\n",
        "X_train, X_test, y_train, y_test = train_test_split(X, y, test_size=0.2, random_state=42)"
      ],
      "metadata": {
        "id": "AcMeKNoa73g6"
      },
      "execution_count": null,
      "outputs": []
    },
    {
      "cell_type": "markdown",
      "source": [
        "c. Bangun model baseline"
      ],
      "metadata": {
        "id": "WiEH9yH58Dzh"
      }
    },
    {
      "cell_type": "code",
      "source": [
        "model_baseline = Sequential()\n",
        "model_baseline.add(Conv1D(32, 2, activation='relu', input_shape=(X_train.shape[1], 1)))\n",
        "model_baseline.add(Flatten())\n",
        "model_baseline.add(Dense(64, activation='relu'))\n",
        "model_baseline.add(Dense(1, activation='linear'))  # Untuk regresi gunakan aktivasi 'linear'\n",
        "\n",
        "model_baseline.compile(optimizer='adam', loss='mean_squared_error')\n",
        "model_baseline.fit(X_train, y_train, epochs=50, batch_size=32, validation_split=0.2)\n"
      ],
      "metadata": {
        "colab": {
          "base_uri": "https://localhost:8080/"
        },
        "id": "BB_u-NjO8fOa",
        "outputId": "83cd22c7-2949-45b8-e12c-b2c677810d3f"
      },
      "execution_count": null,
      "outputs": [
        {
          "output_type": "stream",
          "name": "stdout",
          "text": [
            "Epoch 1/50\n",
            "21/21 [==============================] - 1s 19ms/step - loss: 64.9994 - val_loss: 22.2849\n",
            "Epoch 2/50\n",
            "21/21 [==============================] - 0s 7ms/step - loss: 17.9465 - val_loss: 14.7494\n",
            "Epoch 3/50\n",
            "21/21 [==============================] - 0s 7ms/step - loss: 10.8284 - val_loss: 10.2843\n",
            "Epoch 4/50\n",
            "21/21 [==============================] - 0s 7ms/step - loss: 7.7592 - val_loss: 7.6994\n",
            "Epoch 5/50\n",
            "21/21 [==============================] - 0s 6ms/step - loss: 6.2529 - val_loss: 6.2122\n",
            "Epoch 6/50\n",
            "21/21 [==============================] - 0s 7ms/step - loss: 5.1538 - val_loss: 5.4433\n",
            "Epoch 7/50\n",
            "21/21 [==============================] - 0s 7ms/step - loss: 4.4597 - val_loss: 4.7773\n",
            "Epoch 8/50\n",
            "21/21 [==============================] - 0s 7ms/step - loss: 3.9436 - val_loss: 4.3563\n",
            "Epoch 9/50\n",
            "21/21 [==============================] - 0s 7ms/step - loss: 3.6035 - val_loss: 3.9723\n",
            "Epoch 10/50\n",
            "21/21 [==============================] - 0s 7ms/step - loss: 3.4340 - val_loss: 3.9098\n",
            "Epoch 11/50\n",
            "21/21 [==============================] - 0s 6ms/step - loss: 3.1318 - val_loss: 3.4378\n",
            "Epoch 12/50\n",
            "21/21 [==============================] - 0s 5ms/step - loss: 2.9764 - val_loss: 3.2964\n",
            "Epoch 13/50\n",
            "21/21 [==============================] - 0s 4ms/step - loss: 2.8412 - val_loss: 3.0890\n",
            "Epoch 14/50\n",
            "21/21 [==============================] - 0s 5ms/step - loss: 2.7322 - val_loss: 2.9713\n",
            "Epoch 15/50\n",
            "21/21 [==============================] - 0s 5ms/step - loss: 2.6244 - val_loss: 2.8589\n",
            "Epoch 16/50\n",
            "21/21 [==============================] - 0s 4ms/step - loss: 2.5511 - val_loss: 2.7314\n",
            "Epoch 17/50\n",
            "21/21 [==============================] - 0s 4ms/step - loss: 2.5300 - val_loss: 2.7118\n",
            "Epoch 18/50\n",
            "21/21 [==============================] - 0s 5ms/step - loss: 2.4431 - val_loss: 2.5812\n",
            "Epoch 19/50\n",
            "21/21 [==============================] - 0s 5ms/step - loss: 2.3649 - val_loss: 2.5619\n",
            "Epoch 20/50\n",
            "21/21 [==============================] - 0s 5ms/step - loss: 2.2852 - val_loss: 2.4509\n",
            "Epoch 21/50\n",
            "21/21 [==============================] - 0s 5ms/step - loss: 2.2691 - val_loss: 2.3863\n",
            "Epoch 22/50\n",
            "21/21 [==============================] - 0s 5ms/step - loss: 2.2026 - val_loss: 2.3556\n",
            "Epoch 23/50\n",
            "21/21 [==============================] - 0s 5ms/step - loss: 2.1909 - val_loss: 2.3093\n",
            "Epoch 24/50\n",
            "21/21 [==============================] - 0s 5ms/step - loss: 2.1204 - val_loss: 2.2851\n",
            "Epoch 25/50\n",
            "21/21 [==============================] - 0s 5ms/step - loss: 2.1072 - val_loss: 2.2544\n",
            "Epoch 26/50\n",
            "21/21 [==============================] - 0s 5ms/step - loss: 2.0891 - val_loss: 2.2373\n",
            "Epoch 27/50\n",
            "21/21 [==============================] - 0s 4ms/step - loss: 2.0947 - val_loss: 2.2290\n",
            "Epoch 28/50\n",
            "21/21 [==============================] - 0s 5ms/step - loss: 2.0600 - val_loss: 2.2225\n",
            "Epoch 29/50\n",
            "21/21 [==============================] - 0s 5ms/step - loss: 2.0825 - val_loss: 2.3362\n",
            "Epoch 30/50\n",
            "21/21 [==============================] - 0s 5ms/step - loss: 2.0552 - val_loss: 2.2082\n",
            "Epoch 31/50\n",
            "21/21 [==============================] - 0s 4ms/step - loss: 2.0278 - val_loss: 2.2256\n",
            "Epoch 32/50\n",
            "21/21 [==============================] - 0s 4ms/step - loss: 2.0627 - val_loss: 2.3129\n",
            "Epoch 33/50\n",
            "21/21 [==============================] - 0s 4ms/step - loss: 2.0833 - val_loss: 2.2442\n",
            "Epoch 34/50\n",
            "21/21 [==============================] - 0s 5ms/step - loss: 1.9914 - val_loss: 2.1915\n",
            "Epoch 35/50\n",
            "21/21 [==============================] - 0s 4ms/step - loss: 1.9884 - val_loss: 2.2295\n",
            "Epoch 36/50\n",
            "21/21 [==============================] - 0s 5ms/step - loss: 1.9842 - val_loss: 2.2028\n",
            "Epoch 37/50\n",
            "21/21 [==============================] - 0s 5ms/step - loss: 1.9873 - val_loss: 2.2700\n",
            "Epoch 38/50\n",
            "21/21 [==============================] - 0s 5ms/step - loss: 1.9951 - val_loss: 2.2046\n",
            "Epoch 39/50\n",
            "21/21 [==============================] - 0s 5ms/step - loss: 1.9401 - val_loss: 2.3025\n",
            "Epoch 40/50\n",
            "21/21 [==============================] - 0s 5ms/step - loss: 1.9911 - val_loss: 2.3038\n",
            "Epoch 41/50\n",
            "21/21 [==============================] - 0s 4ms/step - loss: 1.9286 - val_loss: 2.2831\n",
            "Epoch 42/50\n",
            "21/21 [==============================] - 0s 4ms/step - loss: 1.9625 - val_loss: 2.2128\n",
            "Epoch 43/50\n",
            "21/21 [==============================] - 0s 4ms/step - loss: 1.9487 - val_loss: 2.2651\n",
            "Epoch 44/50\n",
            "21/21 [==============================] - 0s 5ms/step - loss: 2.0166 - val_loss: 2.2108\n",
            "Epoch 45/50\n",
            "21/21 [==============================] - 0s 4ms/step - loss: 1.9774 - val_loss: 2.5122\n",
            "Epoch 46/50\n",
            "21/21 [==============================] - 0s 5ms/step - loss: 2.0885 - val_loss: 2.2054\n",
            "Epoch 47/50\n",
            "21/21 [==============================] - 0s 5ms/step - loss: 1.9480 - val_loss: 2.2169\n",
            "Epoch 48/50\n",
            "21/21 [==============================] - 0s 4ms/step - loss: 1.9199 - val_loss: 2.2489\n",
            "Epoch 49/50\n",
            "21/21 [==============================] - 0s 5ms/step - loss: 1.9233 - val_loss: 2.2307\n",
            "Epoch 50/50\n",
            "21/21 [==============================] - 0s 5ms/step - loss: 1.9270 - val_loss: 2.2116\n"
          ]
        },
        {
          "output_type": "execute_result",
          "data": {
            "text/plain": [
              "<keras.src.callbacks.History at 0x7afc59e75f30>"
            ]
          },
          "metadata": {},
          "execution_count": 13
        }
      ]
    },
    {
      "cell_type": "markdown",
      "source": [
        "d. Evaluasi model"
      ],
      "metadata": {
        "id": "WDAuwGxT7QSp"
      }
    },
    {
      "cell_type": "code",
      "source": [
        "# Evaluasi model pada data pengujian\n",
        "loss = model_baseline.evaluate(X_test, y_test)\n",
        "\n",
        "# Prediksi pada data pengujian\n",
        "y_pred = model_baseline.predict(X_test)\n",
        "\n",
        "# Anda dapat menggunakan metrik evaluasi yang sesuai untuk regresi, misalnya, Mean Squared Error (MSE)\n",
        "from sklearn.metrics import mean_squared_error\n",
        "mse = mean_squared_error(y_test, y_pred)\n",
        "print(f'Mean Squared Error: {mse}')\n"
      ],
      "metadata": {
        "colab": {
          "base_uri": "https://localhost:8080/"
        },
        "id": "sRS9f7F97ND9",
        "outputId": "228e7ae7-35bb-4cd3-87a7-94e3dcfa68e5"
      },
      "execution_count": null,
      "outputs": [
        {
          "output_type": "stream",
          "name": "stdout",
          "text": [
            "7/7 [==============================] - 0s 2ms/step - loss: 2.9383\n",
            "7/7 [==============================] - 0s 2ms/step\n",
            "Mean Squared Error: 2.9383417794041184\n"
          ]
        }
      ]
    },
    {
      "cell_type": "markdown",
      "source": [
        "e. Visualisasi performa model"
      ],
      "metadata": {
        "id": "SSvcGOUY7Vab"
      }
    },
    {
      "cell_type": "code",
      "source": [
        "# Training model_baseline\n",
        "history_baseline = model_baseline.fit(X_train, y_train, epochs=50, batch_size=32, validation_split=0.2)\n",
        "\n",
        "# Plot loss selama pelatihan\n",
        "plt.plot(history_baseline.history['loss'], label='Training Loss')\n",
        "plt.plot(history_baseline.history['val_loss'], label='Validation Loss')\n",
        "plt.legend()\n",
        "plt.xlabel('Epoch')\n",
        "plt.ylabel('Loss')\n",
        "plt.title('Training and Validation Loss')\n",
        "plt.show()\n"
      ],
      "metadata": {
        "colab": {
          "base_uri": "https://localhost:8080/",
          "height": 1000
        },
        "id": "e7u2vwji7PUa",
        "outputId": "9cdce0df-b6d8-485f-94fd-9a97866fdef2"
      },
      "execution_count": null,
      "outputs": [
        {
          "output_type": "stream",
          "name": "stdout",
          "text": [
            "Epoch 1/50\n",
            "21/21 [==============================] - 0s 7ms/step - loss: 1.9604 - val_loss: 2.2489\n",
            "Epoch 2/50\n",
            "21/21 [==============================] - 0s 4ms/step - loss: 1.9427 - val_loss: 2.2456\n",
            "Epoch 3/50\n",
            "21/21 [==============================] - 0s 4ms/step - loss: 1.9096 - val_loss: 2.2134\n",
            "Epoch 4/50\n",
            "21/21 [==============================] - 0s 5ms/step - loss: 1.9548 - val_loss: 2.2098\n",
            "Epoch 5/50\n",
            "21/21 [==============================] - 0s 5ms/step - loss: 1.9032 - val_loss: 2.3509\n",
            "Epoch 6/50\n",
            "21/21 [==============================] - 0s 5ms/step - loss: 1.8982 - val_loss: 2.3267\n",
            "Epoch 7/50\n",
            "21/21 [==============================] - 0s 5ms/step - loss: 1.8907 - val_loss: 2.2330\n",
            "Epoch 8/50\n",
            "21/21 [==============================] - 0s 4ms/step - loss: 1.9057 - val_loss: 2.2064\n",
            "Epoch 9/50\n",
            "21/21 [==============================] - 0s 4ms/step - loss: 1.9255 - val_loss: 2.2136\n",
            "Epoch 10/50\n",
            "21/21 [==============================] - 0s 5ms/step - loss: 1.8742 - val_loss: 2.1883\n",
            "Epoch 11/50\n",
            "21/21 [==============================] - 0s 5ms/step - loss: 1.8615 - val_loss: 2.2278\n",
            "Epoch 12/50\n",
            "21/21 [==============================] - 0s 4ms/step - loss: 1.9068 - val_loss: 2.2335\n",
            "Epoch 13/50\n",
            "21/21 [==============================] - 0s 4ms/step - loss: 1.9939 - val_loss: 2.2464\n",
            "Epoch 14/50\n",
            "21/21 [==============================] - 0s 5ms/step - loss: 1.9053 - val_loss: 2.2644\n",
            "Epoch 15/50\n",
            "21/21 [==============================] - 0s 4ms/step - loss: 1.9286 - val_loss: 2.2030\n",
            "Epoch 16/50\n",
            "21/21 [==============================] - 0s 5ms/step - loss: 1.9318 - val_loss: 2.2011\n",
            "Epoch 17/50\n",
            "21/21 [==============================] - 0s 4ms/step - loss: 1.8644 - val_loss: 2.2315\n",
            "Epoch 18/50\n",
            "21/21 [==============================] - 0s 5ms/step - loss: 1.9066 - val_loss: 2.2455\n",
            "Epoch 19/50\n",
            "21/21 [==============================] - 0s 5ms/step - loss: 1.8986 - val_loss: 2.3985\n",
            "Epoch 20/50\n",
            "21/21 [==============================] - 0s 5ms/step - loss: 1.8827 - val_loss: 2.1946\n",
            "Epoch 21/50\n",
            "21/21 [==============================] - 0s 4ms/step - loss: 1.8649 - val_loss: 2.1831\n",
            "Epoch 22/50\n",
            "21/21 [==============================] - 0s 4ms/step - loss: 1.8636 - val_loss: 2.2590\n",
            "Epoch 23/50\n",
            "21/21 [==============================] - 0s 5ms/step - loss: 1.8655 - val_loss: 2.2141\n",
            "Epoch 24/50\n",
            "21/21 [==============================] - 0s 4ms/step - loss: 1.8780 - val_loss: 2.2755\n",
            "Epoch 25/50\n",
            "21/21 [==============================] - 0s 5ms/step - loss: 2.0615 - val_loss: 2.1943\n",
            "Epoch 26/50\n",
            "21/21 [==============================] - 0s 4ms/step - loss: 1.9150 - val_loss: 2.2797\n",
            "Epoch 27/50\n",
            "21/21 [==============================] - 0s 5ms/step - loss: 1.8494 - val_loss: 2.2260\n",
            "Epoch 28/50\n",
            "21/21 [==============================] - 0s 4ms/step - loss: 1.8429 - val_loss: 2.2611\n",
            "Epoch 29/50\n",
            "21/21 [==============================] - 0s 4ms/step - loss: 1.8388 - val_loss: 2.2116\n",
            "Epoch 30/50\n",
            "21/21 [==============================] - 0s 4ms/step - loss: 1.8798 - val_loss: 2.2933\n",
            "Epoch 31/50\n",
            "21/21 [==============================] - 0s 4ms/step - loss: 1.8553 - val_loss: 2.2466\n",
            "Epoch 32/50\n",
            "21/21 [==============================] - 0s 4ms/step - loss: 1.8756 - val_loss: 2.2465\n",
            "Epoch 33/50\n",
            "21/21 [==============================] - 0s 4ms/step - loss: 1.8735 - val_loss: 2.2347\n",
            "Epoch 34/50\n",
            "21/21 [==============================] - 0s 4ms/step - loss: 1.8949 - val_loss: 2.2491\n",
            "Epoch 35/50\n",
            "21/21 [==============================] - 0s 4ms/step - loss: 1.8811 - val_loss: 2.2261\n",
            "Epoch 36/50\n",
            "21/21 [==============================] - 0s 5ms/step - loss: 1.8421 - val_loss: 2.1949\n",
            "Epoch 37/50\n",
            "21/21 [==============================] - 0s 4ms/step - loss: 1.9463 - val_loss: 2.2230\n",
            "Epoch 38/50\n",
            "21/21 [==============================] - 0s 4ms/step - loss: 1.8551 - val_loss: 2.2275\n",
            "Epoch 39/50\n",
            "21/21 [==============================] - 0s 4ms/step - loss: 1.8196 - val_loss: 2.2340\n",
            "Epoch 40/50\n",
            "21/21 [==============================] - 0s 4ms/step - loss: 1.8500 - val_loss: 2.2680\n",
            "Epoch 41/50\n",
            "21/21 [==============================] - 0s 4ms/step - loss: 1.9025 - val_loss: 2.1825\n",
            "Epoch 42/50\n",
            "21/21 [==============================] - 0s 5ms/step - loss: 1.9054 - val_loss: 2.2146\n",
            "Epoch 43/50\n",
            "21/21 [==============================] - 0s 4ms/step - loss: 1.8400 - val_loss: 2.2121\n",
            "Epoch 44/50\n",
            "21/21 [==============================] - 0s 5ms/step - loss: 1.7907 - val_loss: 2.1883\n",
            "Epoch 45/50\n",
            "21/21 [==============================] - 0s 5ms/step - loss: 1.7759 - val_loss: 2.2577\n",
            "Epoch 46/50\n",
            "21/21 [==============================] - 0s 4ms/step - loss: 1.8254 - val_loss: 2.1864\n",
            "Epoch 47/50\n",
            "21/21 [==============================] - 0s 5ms/step - loss: 1.7829 - val_loss: 2.2285\n",
            "Epoch 48/50\n",
            "21/21 [==============================] - 0s 5ms/step - loss: 1.7793 - val_loss: 2.2533\n",
            "Epoch 49/50\n",
            "21/21 [==============================] - 0s 4ms/step - loss: 1.7912 - val_loss: 2.2044\n",
            "Epoch 50/50\n",
            "21/21 [==============================] - 0s 4ms/step - loss: 1.7845 - val_loss: 2.2019\n"
          ]
        },
        {
          "output_type": "display_data",
          "data": {
            "text/plain": [
              "<Figure size 640x480 with 1 Axes>"
            ],
            "image/png": "[encoded data removed]"
          },
          "metadata": {}
        }
      ]
    },
    {
      "cell_type": "markdown",
      "source": [
        "# 3. Eksplorasi Model\n",
        "\n",
        "\n",
        "*   Skema 1: Tambahkan lebih banyak lapisan Conv1D.\n",
        "*   Skema 2: Gunakan kernel size yang lebih besar.\n",
        "*   Skema 3: Tambahkan lebih banyak neuron di lapisan Dense\n",
        "\n",
        "\n"
      ],
      "metadata": {
        "id": "j2TtPtQftSJX"
      }
    },
    {
      "cell_type": "code",
      "source": [
        "from tensorflow.keras.models import Sequential\n",
        "from tensorflow.keras.layers import Dense, Conv1D, Flatten, Dropout\n",
        "from sklearn.model_selection import train_test_split\n",
        "from sklearn.preprocessing import StandardScaler\n",
        "\n",
        "# Memuat dan memproses data\n",
        "X = df.drop(columns=['studytime'])\n",
        "y = df['studytime']\n",
        "\n",
        "scaler = StandardScaler()\n",
        "X = scaler.fit_transform(X)\n",
        "\n",
        "X_train, X_test, y_train, y_test = train_test_split(X, y, test_size=0.2, random_state=42)"
      ],
      "metadata": {
        "id": "_tLtPMIJ9iCC"
      },
      "execution_count": null,
      "outputs": []
    },
    {
      "cell_type": "markdown",
      "source": [
        "**Skema 1: Tambahkan lebih banyak lapisan Conv1D.**"
      ],
      "metadata": {
        "id": "i45RnGeXtrOi"
      }
    },
    {
      "cell_type": "code",
      "source": [
        "model_1 = Sequential()\n",
        "model_1.add(Conv1D(32, 2, activation='relu', input_shape=(X_train.shape[1], 1)))\n",
        "model_1.add(Conv1D(64, 2, activation='relu'))\n",
        "model_1.add(Flatten())\n",
        "model_1.add(Dropout(0.2))  # Lapisan dropout untuk mengurangi overfitting\n",
        "model_1.add(Dense(64, activation='relu'))\n",
        "model_1.add(Dense(1))\n",
        "\n",
        "model_1.compile(optimizer='adam', loss='mean_squared_error')"
      ],
      "metadata": {
        "id": "l9kwKkf0t_uX"
      },
      "execution_count": null,
      "outputs": []
    },
    {
      "cell_type": "markdown",
      "source": [
        "**Skema 2: Gunakan kernel size yang lebih besar**"
      ],
      "metadata": {
        "id": "HJVuAWt5uCjY"
      }
    },
    {
      "cell_type": "code",
      "source": [
        "model_2 = Sequential()\n",
        "model_2.add(Conv1D(32, 3, activation='relu', input_shape=(X_train.shape[1], 1)))  # Perhatikan ukuran kernel menjadi 3\n",
        "model_2.add(Flatten())\n",
        "model_2.add(Dropout(0.2))\n",
        "model_2.add(Dense(64, activation='relu'))\n",
        "model_2.add(Dense(1))\n",
        "\n",
        "model_2.compile(optimizer='adam', loss='mean_squared_error')"
      ],
      "metadata": {
        "id": "orwmFqAduJ_z"
      },
      "execution_count": null,
      "outputs": []
    },
    {
      "cell_type": "markdown",
      "source": [
        "**Skema 3: Tambahkan lebih banyak neuron di lapisan Dense**"
      ],
      "metadata": {
        "id": "vIRHK1CMuLAj"
      }
    },
    {
      "cell_type": "code",
      "source": [
        "model_3 = Sequential()\n",
        "model_3.add(Conv1D(32, 2, activation='relu', input_shape=(X_train.shape[1], 1)))\n",
        "model_3.add(Flatten())\n",
        "model_3.add(Dropout(0.2))\n",
        "model_3.add(Dense(128, activation='relu'))  # Perhatikan jumlah neuron menjadi 128\n",
        "model_3.add(Dense(1))\n",
        "\n",
        "model_3.compile(optimizer='adam', loss='mean_squared_error')"
      ],
      "metadata": {
        "id": "bNekChTVuN0U"
      },
      "execution_count": null,
      "outputs": []
    },
    {
      "cell_type": "markdown",
      "source": [
        "# 4. Evaluasi"
      ],
      "metadata": {
        "id": "tgcvwJJcuilE"
      }
    },
    {
      "cell_type": "code",
      "source": [
        "from sklearn.metrics import mean_squared_error, mean_absolute_error\n",
        "import matplotlib.pyplot as plt\n",
        "\n",
        "# Latih model_1\n",
        "history_1 = model_1.fit(X_train, y_train, epochs=50, validation_data=(X_test, y_test), verbose=0)\n",
        "\n",
        "# Evaluasi model_1\n",
        "y_pred_1 = model_1.predict(X_test)\n",
        "mse_1 = mean_squared_error(y_test, y_pred_1)\n",
        "mae_1 = mean_absolute_error(y_test, y_pred_1)\n",
        "print(f\"Mean Squared Error dari Model 1: {mse_1}\")\n",
        "print(f\"Mean Absolute Error dari Model 1: {mae_1}\")\n",
        "\n",
        "# Latih model_2\n",
        "history_2 = model_2.fit(X_train, y_train, epochs=50, validation_data=(X_test, y_test), verbose=0)\n",
        "\n",
        "# Evaluasi model_2\n",
        "y_pred_2 = model_2.predict(X_test)\n",
        "mse_2 = mean_squared_error(y_test, y_pred_2)\n",
        "mae_2 = mean_absolute_error(y_test, y_pred_2)\n",
        "print(f\"Mean Squared Error dari Model 2: {mse_2}\")\n",
        "print(f\"Mean Absolute Error dari Model 2: {mae_2}\")\n",
        "\n",
        "# Latih model_3\n",
        "history_3 = model_3.fit(X_train, y_train, epochs=50, validation_data=(X_test, y_test), verbose=0)\n",
        "\n",
        "# Evaluasi model_3\n",
        "y_pred_3 = model_3.predict(X_test)\n",
        "mse_3 = mean_squared_error(y_test, y_pred_3)\n",
        "mae_3 = mean_absolute_error(y_test, y_pred_3)\n",
        "print(f\"Mean Squared Error dari Model 3: {mse_3}\")\n",
        "print(f\"Mean Absolute Error dari Model 3: {mae_3}\")\n"
      ],
      "metadata": {
        "colab": {
          "base_uri": "https://localhost:8080/"
        },
        "id": "ia48PqnpumvD",
        "outputId": "72c5e7a2-8a5a-4855-fff9-c429e95913e8"
      },
      "execution_count": null,
      "outputs": [
        {
          "output_type": "stream",
          "name": "stdout",
          "text": [
            "7/7 [==============================] - 0s 3ms/step\n",
            "Mean Squared Error dari Model 1: 0.4080325494612416\n",
            "Mean Absolute Error dari Model 1: 0.4920869047561901\n",
            "7/7 [==============================] - 0s 2ms/step\n",
            "Mean Squared Error dari Model 2: 0.5077075539731156\n",
            "Mean Absolute Error dari Model 2: 0.5242683291435242\n",
            "7/7 [==============================] - 0s 2ms/step\n",
            "Mean Squared Error dari Model 3: 0.45522291030401557\n",
            "Mean Absolute Error dari Model 3: 0.4959681242276607\n"
          ]
        }
      ]
    },
    {
      "cell_type": "code",
      "source": [
        "import matplotlib.pyplot as plt\n",
        "\n",
        "# Nilai MSE dan MAE dari ketiga model\n",
        "mse_values = [mse_1, mse_2, mse_3]\n",
        "mae_values = [mae_1, mae_2, mae_3]\n",
        "labels = ['Model 1', 'Model 2', 'Model 3']\n",
        "\n",
        "# Membuat grafik batang untuk MSE\n",
        "plt.figure(figsize=(10, 5))\n",
        "plt.bar(labels, mse_values, color='blue', alpha=0.7, label='MSE')\n",
        "plt.title('Perbandingan Mean Squared Error (MSE) dari Ketiga Model')\n",
        "plt.ylabel('Mean Squared Error')\n",
        "plt.show()\n",
        "\n",
        "# Membuat grafik batang untuk MAE\n",
        "plt.figure(figsize=(10, 5))\n",
        "plt.bar(labels, mae_values, color='orange', alpha=0.7, label='MAE')\n",
        "plt.title('Perbandingan Mean Absolute Error (MAE) dari Ketiga Model')\n",
        "plt.ylabel('Mean Absolute Error')\n",
        "plt.show()\n"
      ],
      "metadata": {
        "colab": {
          "base_uri": "https://localhost:8080/",
          "height": 919
        },
        "id": "94RL4IMk-x9i",
        "outputId": "5ed13f48-a6e7-44f0-b3ec-b66798447172"
      },
      "execution_count": null,
      "outputs": [
        {
          "output_type": "display_data",
          "data": {
            "text/plain": [
              "<Figure size 1000x500 with 1 Axes>"
            ],
            "image/png": "[encoded data removed]"
          },
          "metadata": {}
        },
        {
          "output_type": "display_data",
          "data": {
            "text/plain": [
              "<Figure size 1000x500 with 1 Axes>"
            ],
            "image/png": "[encoded data removed]"
          },
          "metadata": {}
        }
      ]
    },
    {
      "cell_type": "markdown",
      "source": [
        "# HASIL DAN ANALISIS\n",
        "\n",
        "Dari hasil evaluasi ketiga model tersebut, yang diukur dengan Mean Squared Error (MSE) dan Mean Absolute Error (MAE), kita dapat menyimpulkan beberapa poin penting:\n",
        "\n",
        "1. **Model 1 memiliki performa terbaik**:\n",
        "   - MSE: 0.4238\n",
        "   - MAE: 0.4849\n",
        "   - Model 1 memberikan nilai MSE dan MAE yang paling rendah dibandingkan dua model lainnya, yang menunjukkan bahwa secara keseluruhan, prediksi yang dibuat oleh Model 1 paling mendekati nilai sebenarnya.\n",
        "\n",
        "2. **Model 2 memiliki performa terendah**:\n",
        "   - MSE: 0.4849\n",
        "   - MAE: 0.5367\n",
        "   - Model 2 memberikan nilai MSE dan MAE yang paling tinggi, menunjukkan bahwa model ini kurang akurat dalam melakukan prediksi dibandingkan dua model lainnya.\n",
        "\n",
        "3. **Model 3 berada di antara kedua model lainnya**:\n",
        "   - MSE: 0.4430\n",
        "   - MAE: 0.4996\n",
        "   - Meskipun lebih baik daripada Model 2, Model 3 masih tidak seakurat Model 1.\n",
        "\n",
        "### Analisis:\n",
        "\n",
        "- **MSE (Mean Squared Error)** mengukur rata-rata kuadrat dari kesalahan. Nilai yang lebih rendah menunjukkan bahwa kesalahan antara nilai prediksi dan aktual lebih kecil. Model 1 memiliki MSE terendah, menunjukkan bahwa kesalahan prediksinya secara umum lebih kecil.\n",
        "  \n",
        "- **MAE (Mean Absolute Error)** mengukur rata-rata kesalahan absolut. Sama seperti MSE, nilai yang lebih rendah menunjukkan hasil yang lebih baik. Model 1 juga unggul dalam hal ini, menunjukkan bahwa kesalahan prediksi pada umumnya lebih kecil.\n"
      ],
      "metadata": {
        "id": "9j_G6HpmuonZ"
      }
    },
    {
      "cell_type": "markdown",
      "source": [
        "# KESIMPULAN\n",
        "Secara keseluruhan, Model 1 tampaknya merupakan pilihan terbaik dari ketiga model yang dieksplorasi berdasarkan metrik yang diberikan. Penting untuk diperhatikan bahwa selain MSE dan MAE, mungkin ada metrik lain yang relevan untuk diukur tergantung pada kasus spesifik dan tujuan akhir dari model. Juga, evaluasi ini tidak mempertimbangkan aspek seperti kompleksitas model, waktu pelatihan, atau kapasitas komputasi, yang semuanya adalah faktor penting dalam memilih model yang tepat untuk implementasi praktis.\n"
      ],
      "metadata": {
        "id": "e0UIx494ur9Z"
      }
    }
  ]
}