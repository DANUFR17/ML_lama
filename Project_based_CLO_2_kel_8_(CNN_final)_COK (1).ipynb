{
  "cells": [
    {
      "cell_type": "markdown",
      "metadata": {
        "id": "HnzcaXSpsmSA"
      },
      "source": [
        "# PROJECT BASED CLO 2 KELOMPOK 8\n",
        "\n",
        "\n",
        "1.  Aqilah Fedura Ilahi (1301213123)\n",
        "2.  Muhammad Danu Firjatullah Rachman(1301213439)\n",
        "3.  Risna Zahira (1301213160)\n",
        "\n",
        "\n",
        "**METODE : CNN**\n"
      ]
    },
    {
      "cell_type": "markdown",
      "metadata": {
        "id": "nVDDVWl4tk9L"
      },
      "source": [
        "# LATANG BELAKANG\n",
        "\n",
        "Analisis data, atau data analytics, merupakan tahap penting dalam mengumpulkan, merapikan, dan mengekstraksi informasi yang bernilai dari dataset yang besar. Dalam proses analisis ini, dapat diidentifikasi pola dan metrik yang mungkin tidak terlihat secara langsung dalam data mentah. Informasi ini kemudian bisa dimanfaatkan untuk meng-enhance atau meningkatkan proses, sehingga meningkatkan efisiensi sistem secara keseluruhan.\n",
        "\n",
        "Data yang kami gunakan adalah Student Performance yang Memprediksi Kinerja Siswa pada Pendidikan Menengah Atas (SMA).\n",
        "\n",
        "Pemilihan data ini didasarkan pada konteks pemahaman dan analisis kinerja siswa pada tingkat pendidikan menengah di dua sekolah Portugis. Data ini mencakup berbagai atribut, termasuk nilai siswa, demografi, fitur sosial, dan atribut sekolah. Penggunaan data ini merupakan praktek yang signifikan dalam pemodelan klasifikasi dan regresi biner/lima tingkat, yang mencerminkan tantangan dunia nyata dalam pemahaman kinerja siswa. Atribut target G3 memiliki korelasi yang kuat dengan atribut G2 dan G1 karena G3 mencerminkan nilai akhir tahun, yang secara alami bergantung pada prestasi awal siswa di periode ke-1 dan ke-2. Data ini menawarkan kesempatan untuk memprediksi kinerja siswa di masa depan, menggabungkan atribut G2 dan G1, dan dapat memiliki dampak yang signifikan dalam meningkatkan pendidikan dan memberikan wawasan berharga bagi pembuat kebijakan dan lembaga pendidikan.\n",
        "\n",
        "\n",
        "\n"
      ]
    },
    {
      "cell_type": "markdown",
      "metadata": {
        "id": "X8r8lOLSt4Jb"
      },
      "source": [
        "# Ringkasan Metode\n",
        "Metode yang akan digunakan pada project ini yaitu Convolutional Neural Network atau CNN sebagai baseline model. Kami melakukan ekplorasi model dengan penambahan lebih banyak lapisan Conv1D, penggunakan kernel size yang lebih besar, dan penambahkan lebih banyak neuron di lapisan Dense Exploratory modelnya.\n",
        "\n",
        "Sehingga didapatkan hasil akhir perbandingan MSE dan MAE, lalu didapatkan performa model terbaik dari 3 model yang dikembangkan.\n",
        "\n",
        "\n"
      ]
    },
    {
      "cell_type": "markdown",
      "metadata": {
        "id": "k_v_msz961HK"
      },
      "source": [
        "# 1. Data Preprocessing dan Eksplorasi Data\n",
        "a. Impor pustaka yang dibutuhkan"
      ]
    },
    {
      "cell_type": "code",
      "execution_count": 68,
      "metadata": {
        "id": "ETcJA7NX6xck"
      },
      "outputs": [],
      "source": [
        "#import pustaka yang diperlukan\n",
        "import numpy as np\n",
        "import pandas as pd\n",
        "import zipfile\n",
        "import os\n",
        "import matplotlib.pyplot as plt\n",
        "import seaborn as sns\n",
        "from sklearn.model_selection import train_test_split\n",
        "from sklearn.preprocessing import StandardScaler, LabelEncoder\n",
        "from sklearn.metrics import mean_squared_error, mean_absolute_error\n",
        "from tensorflow.keras.models import Sequential\n",
        "from tensorflow.keras.layers import Dense, Conv1D, Flatten\n",
        "from tensorflow.keras.optimizers import Adam\n"
      ]
    },
    {
      "cell_type": "markdown",
      "metadata": {
        "id": "3RfAvtJR6_Fj"
      },
      "source": [
        "b. Memuat dataset"
      ]
    },
    {
      "cell_type": "code",
      "execution_count": 69,
      "metadata": {
        "id": "Bj4E8MWY-mkp"
      },
      "outputs": [],
      "source": [
        "# Unduh dataset dari URL\n",
        "url = \"https://archive.ics.uci.edu/ml/machine-learning-databases/00320/student.zip\"\n",
        "download_path = \"student.zip\"\n",
        "\n",
        "# Unduh file ZIP\n",
        "if not os.path.exists(download_path):\n",
        "    import urllib.request\n",
        "    urllib.request.urlretrieve(url, download_path)\n",
        "\n",
        "# Ekstrak file yang diperlukan\n",
        "with zipfile.ZipFile(download_path, 'r') as zip_ref:\n",
        "    zip_ref.extractall(\"student_data\")\n",
        "\n",
        "# Baca data matematika\n",
        "df_math = pd.read_csv(\"student_data/student-mat.csv\", sep=';')\n",
        "\n",
        "# Baca data portugis\n",
        "df_port = pd.read_csv(\"student_data/student-por.csv\", sep=';')\n",
        "\n",
        "# Gabungkan kedua data menjadi satu dataset\n",
        "df = pd.concat([df_math, df_port], axis=0)\n",
        "\n"
      ]
    },
    {
      "cell_type": "markdown",
      "metadata": {
        "id": "s_qfyRB87Rq0"
      },
      "source": [
        "c. Eksplorasi Data Awal"
      ]
    },
    {
      "cell_type": "code",
      "execution_count": 70,
      "metadata": {
        "id": "y2JxlCbUeCQe",
        "colab": {
          "base_uri": "https://localhost:8080/",
          "height": 984
        },
        "outputId": "dff73a63-b0fe-4740-d5ec-dcfd72dcd3a5"
      },
      "outputs": [
        {
          "output_type": "stream",
          "name": "stdout",
          "text": [
            "Data Shape: (1044, 33)\n",
            "<class 'pandas.core.frame.DataFrame'>\n",
            "Int64Index: 1044 entries, 0 to 648\n",
            "Data columns (total 33 columns):\n",
            " #   Column      Non-Null Count  Dtype \n",
            "---  ------      --------------  ----- \n",
            " 0   school      1044 non-null   object\n",
            " 1   sex         1044 non-null   object\n",
            " 2   age         1044 non-null   int64 \n",
            " 3   address     1044 non-null   object\n",
            " 4   famsize     1044 non-null   object\n",
            " 5   Pstatus     1044 non-null   object\n",
            " 6   Medu        1044 non-null   int64 \n",
            " 7   Fedu        1044 non-null   int64 \n",
            " 8   Mjob        1044 non-null   object\n",
            " 9   Fjob        1044 non-null   object\n",
            " 10  reason      1044 non-null   object\n",
            " 11  guardian    1044 non-null   object\n",
            " 12  traveltime  1044 non-null   int64 \n",
            " 13  studytime   1044 non-null   int64 \n",
            " 14  failures    1044 non-null   int64 \n",
            " 15  schoolsup   1044 non-null   object\n",
            " 16  famsup      1044 non-null   object\n",
            " 17  paid        1044 non-null   object\n",
            " 18  activities  1044 non-null   object\n",
            " 19  nursery     1044 non-null   object\n",
            " 20  higher      1044 non-null   object\n",
            " 21  internet    1044 non-null   object\n",
            " 22  romantic    1044 non-null   object\n",
            " 23  famrel      1044 non-null   int64 \n",
            " 24  freetime    1044 non-null   int64 \n",
            " 25  goout       1044 non-null   int64 \n",
            " 26  Dalc        1044 non-null   int64 \n",
            " 27  Walc        1044 non-null   int64 \n",
            " 28  health      1044 non-null   int64 \n",
            " 29  absences    1044 non-null   int64 \n",
            " 30  G1          1044 non-null   int64 \n",
            " 31  G2          1044 non-null   int64 \n",
            " 32  G3          1044 non-null   int64 \n",
            "dtypes: int64(16), object(17)\n",
            "memory usage: 277.3+ KB\n",
            "None\n"
          ]
        },
        {
          "output_type": "display_data",
          "data": {
            "text/plain": [
              "  school sex  age address famsize Pstatus  Medu  Fedu     Mjob      Fjob  ...  \\\n",
              "0     GP   F   18       U     GT3       A     4     4  at_home   teacher  ...   \n",
              "1     GP   F   17       U     GT3       T     1     1  at_home     other  ...   \n",
              "2     GP   F   15       U     LE3       T     1     1  at_home     other  ...   \n",
              "3     GP   F   15       U     GT3       T     4     2   health  services  ...   \n",
              "4     GP   F   16       U     GT3       T     3     3    other     other  ...   \n",
              "\n",
              "  famrel freetime  goout  Dalc  Walc health absences  G1  G2  G3  \n",
              "0      4        3      4     1     1      3        6   5   6   6  \n",
              "1      5        3      3     1     1      3        4   5   5   6  \n",
              "2      4        3      2     2     3      3       10   7   8  10  \n",
              "3      3        2      2     1     1      5        2  15  14  15  \n",
              "4      4        3      2     1     2      5        4   6  10  10  \n",
              "\n",
              "[5 rows x 33 columns]"
            ],
            "text/html": [
              "\n",
              "  <div id=\"df-05f78e92-5d71-4055-abc0-ad3de474d288\" class=\"colab-df-container\">\n",
              "    <div>\n",
              "<style scoped>\n",
              "    .dataframe tbody tr th:only-of-type {\n",
              "        vertical-align: middle;\n",
              "    }\n",
              "\n",
              "    .dataframe tbody tr th {\n",
              "        vertical-align: top;\n",
              "    }\n",
              "\n",
              "    .dataframe thead th {\n",
              "        text-align: right;\n",
              "    }\n",
              "</style>\n",
              "<table border=\"1\" class=\"dataframe\">\n",
              "  <thead>\n",
              "    <tr style=\"text-align: right;\">\n",
              "      <th></th>\n",
              "      <th>school</th>\n",
              "      <th>sex</th>\n",
              "      <th>age</th>\n",
              "      <th>address</th>\n",
              "      <th>famsize</th>\n",
              "      <th>Pstatus</th>\n",
              "      <th>Medu</th>\n",
              "      <th>Fedu</th>\n",
              "      <th>Mjob</th>\n",
              "      <th>Fjob</th>\n",
              "      <th>...</th>\n",
              "      <th>famrel</th>\n",
              "      <th>freetime</th>\n",
              "      <th>goout</th>\n",
              "      <th>Dalc</th>\n",
              "      <th>Walc</th>\n",
              "      <th>health</th>\n",
              "      <th>absences</th>\n",
              "      <th>G1</th>\n",
              "      <th>G2</th>\n",
              "      <th>G3</th>\n",
              "    </tr>\n",
              "  </thead>\n",
              "  <tbody>\n",
              "    <tr>\n",
              "      <th>0</th>\n",
              "      <td>GP</td>\n",
              "      <td>F</td>\n",
              "      <td>18</td>\n",
              "      <td>U</td>\n",
              "      <td>GT3</td>\n",
              "      <td>A</td>\n",
              "      <td>4</td>\n",
              "      <td>4</td>\n",
              "      <td>at_home</td>\n",
              "      <td>teacher</td>\n",
              "      <td>...</td>\n",
              "      <td>4</td>\n",
              "      <td>3</td>\n",
              "      <td>4</td>\n",
              "      <td>1</td>\n",
              "      <td>1</td>\n",
              "      <td>3</td>\n",
              "      <td>6</td>\n",
              "      <td>5</td>\n",
              "      <td>6</td>\n",
              "      <td>6</td>\n",
              "    </tr>\n",
              "    <tr>\n",
              "      <th>1</th>\n",
              "      <td>GP</td>\n",
              "      <td>F</td>\n",
              "      <td>17</td>\n",
              "      <td>U</td>\n",
              "      <td>GT3</td>\n",
              "      <td>T</td>\n",
              "      <td>1</td>\n",
              "      <td>1</td>\n",
              "      <td>at_home</td>\n",
              "      <td>other</td>\n",
              "      <td>...</td>\n",
              "      <td>5</td>\n",
              "      <td>3</td>\n",
              "      <td>3</td>\n",
              "      <td>1</td>\n",
              "      <td>1</td>\n",
              "      <td>3</td>\n",
              "      <td>4</td>\n",
              "      <td>5</td>\n",
              "      <td>5</td>\n",
              "      <td>6</td>\n",
              "    </tr>\n",
              "    <tr>\n",
              "      <th>2</th>\n",
              "      <td>GP</td>\n",
              "      <td>F</td>\n",
              "      <td>15</td>\n",
              "      <td>U</td>\n",
              "      <td>LE3</td>\n",
              "      <td>T</td>\n",
              "      <td>1</td>\n",
              "      <td>1</td>\n",
              "      <td>at_home</td>\n",
              "      <td>other</td>\n",
              "      <td>...</td>\n",
              "      <td>4</td>\n",
              "      <td>3</td>\n",
              "      <td>2</td>\n",
              "      <td>2</td>\n",
              "      <td>3</td>\n",
              "      <td>3</td>\n",
              "      <td>10</td>\n",
              "      <td>7</td>\n",
              "      <td>8</td>\n",
              "      <td>10</td>\n",
              "    </tr>\n",
              "    <tr>\n",
              "      <th>3</th>\n",
              "      <td>GP</td>\n",
              "      <td>F</td>\n",
              "      <td>15</td>\n",
              "      <td>U</td>\n",
              "      <td>GT3</td>\n",
              "      <td>T</td>\n",
              "      <td>4</td>\n",
              "      <td>2</td>\n",
              "      <td>health</td>\n",
              "      <td>services</td>\n",
              "      <td>...</td>\n",
              "      <td>3</td>\n",
              "      <td>2</td>\n",
              "      <td>2</td>\n",
              "      <td>1</td>\n",
              "      <td>1</td>\n",
              "      <td>5</td>\n",
              "      <td>2</td>\n",
              "      <td>15</td>\n",
              "      <td>14</td>\n",
              "      <td>15</td>\n",
              "    </tr>\n",
              "    <tr>\n",
              "      <th>4</th>\n",
              "      <td>GP</td>\n",
              "      <td>F</td>\n",
              "      <td>16</td>\n",
              "      <td>U</td>\n",
              "      <td>GT3</td>\n",
              "      <td>T</td>\n",
              "      <td>3</td>\n",
              "      <td>3</td>\n",
              "      <td>other</td>\n",
              "      <td>other</td>\n",
              "      <td>...</td>\n",
              "      <td>4</td>\n",
              "      <td>3</td>\n",
              "      <td>2</td>\n",
              "      <td>1</td>\n",
              "      <td>2</td>\n",
              "      <td>5</td>\n",
              "      <td>4</td>\n",
              "      <td>6</td>\n",
              "      <td>10</td>\n",
              "      <td>10</td>\n",
              "    </tr>\n",
              "  </tbody>\n",
              "</table>\n",
              "<p>5 rows × 33 columns</p>\n",
              "</div>\n",
              "    <div class=\"colab-df-buttons\">\n",
              "\n",
              "  <div class=\"colab-df-container\">\n",
              "    <button class=\"colab-df-convert\" onclick=\"convertToInteractive('df-05f78e92-5d71-4055-abc0-ad3de474d288')\"\n",
              "            title=\"Convert this dataframe to an interactive table.\"\n",
              "            style=\"display:none;\">\n",
              "\n",
              "  <svg xmlns=\"http://www.w3.org/2000/svg\" height=\"24px\" viewBox=\"0 -960 960 960\">\n",
              "    <path d=\"M120-120v-720h720v720H120Zm60-500h600v-160H180v160Zm220 220h160v-160H400v160Zm0 220h160v-160H400v160ZM180-400h160v-160H180v160Zm440 0h160v-160H620v160ZM180-180h160v-160H180v160Zm440 0h160v-160H620v160Z\"/>\n",
              "  </svg>\n",
              "    </button>\n",
              "\n",
              "  <style>\n",
              "    .colab-df-container {\n",
              "      display:flex;\n",
              "      gap: 12px;\n",
              "    }\n",
              "\n",
              "    .colab-df-convert {\n",
              "      background-color: #E8F0FE;\n",
              "      border: none;\n",
              "      border-radius: 50%;\n",
              "      cursor: pointer;\n",
              "      display: none;\n",
              "      fill: #1967D2;\n",
              "      height: 32px;\n",
              "      padding: 0 0 0 0;\n",
              "      width: 32px;\n",
              "    }\n",
              "\n",
              "    .colab-df-convert:hover {\n",
              "      background-color: #E2EBFA;\n",
              "      box-shadow: 0px 1px 2px rgba(60, 64, 67, 0.3), 0px 1px 3px 1px rgba(60, 64, 67, 0.15);\n",
              "      fill: #174EA6;\n",
              "    }\n",
              "\n",
              "    .colab-df-buttons div {\n",
              "      margin-bottom: 4px;\n",
              "    }\n",
              "\n",
              "    [theme=dark] .colab-df-convert {\n",
              "      background-color: #3B4455;\n",
              "      fill: #D2E3FC;\n",
              "    }\n",
              "\n",
              "    [theme=dark] .colab-df-convert:hover {\n",
              "      background-color: #434B5C;\n",
              "      box-shadow: 0px 1px 3px 1px rgba(0, 0, 0, 0.15);\n",
              "      filter: drop-shadow(0px 1px 2px rgba(0, 0, 0, 0.3));\n",
              "      fill: #FFFFFF;\n",
              "    }\n",
              "  </style>\n",
              "\n",
              "    <script>\n",
              "      const buttonEl =\n",
              "        document.querySelector('#df-05f78e92-5d71-4055-abc0-ad3de474d288 button.colab-df-convert');\n",
              "      buttonEl.style.display =\n",
              "        google.colab.kernel.accessAllowed ? 'block' : 'none';\n",
              "\n",
              "      async function convertToInteractive(key) {\n",
              "        const element = document.querySelector('#df-05f78e92-5d71-4055-abc0-ad3de474d288');\n",
              "        const dataTable =\n",
              "          await google.colab.kernel.invokeFunction('convertToInteractive',\n",
              "                                                    [key], {});\n",
              "        if (!dataTable) return;\n",
              "\n",
              "        const docLinkHtml = 'Like what you see? Visit the ' +\n",
              "          '<a target=\"_blank\" href=https://colab.research.google.com/notebooks/data_table.ipynb>data table notebook</a>'\n",
              "          + ' to learn more about interactive tables.';\n",
              "        element.innerHTML = '';\n",
              "        dataTable['output_type'] = 'display_data';\n",
              "        await google.colab.output.renderOutput(dataTable, element);\n",
              "        const docLink = document.createElement('div');\n",
              "        docLink.innerHTML = docLinkHtml;\n",
              "        element.appendChild(docLink);\n",
              "      }\n",
              "    </script>\n",
              "  </div>\n",
              "\n",
              "\n",
              "<div id=\"df-a2541f9e-f121-46c3-842f-75d6286af420\">\n",
              "  <button class=\"colab-df-quickchart\" onclick=\"quickchart('df-a2541f9e-f121-46c3-842f-75d6286af420')\"\n",
              "            title=\"Suggest charts\"\n",
              "            style=\"display:none;\">\n",
              "\n",
              "<svg xmlns=\"http://www.w3.org/2000/svg\" height=\"24px\"viewBox=\"0 0 24 24\"\n",
              "     width=\"24px\">\n",
              "    <g>\n",
              "        <path d=\"M19 3H5c-1.1 0-2 .9-2 2v14c0 1.1.9 2 2 2h14c1.1 0 2-.9 2-2V5c0-1.1-.9-2-2-2zM9 17H7v-7h2v7zm4 0h-2V7h2v10zm4 0h-2v-4h2v4z\"/>\n",
              "    </g>\n",
              "</svg>\n",
              "  </button>\n",
              "\n",
              "<style>\n",
              "  .colab-df-quickchart {\n",
              "      --bg-color: #E8F0FE;\n",
              "      --fill-color: #1967D2;\n",
              "      --hover-bg-color: #E2EBFA;\n",
              "      --hover-fill-color: #174EA6;\n",
              "      --disabled-fill-color: #AAA;\n",
              "      --disabled-bg-color: #DDD;\n",
              "  }\n",
              "\n",
              "  [theme=dark] .colab-df-quickchart {\n",
              "      --bg-color: #3B4455;\n",
              "      --fill-color: #D2E3FC;\n",
              "      --hover-bg-color: #434B5C;\n",
              "      --hover-fill-color: #FFFFFF;\n",
              "      --disabled-bg-color: #3B4455;\n",
              "      --disabled-fill-color: #666;\n",
              "  }\n",
              "\n",
              "  .colab-df-quickchart {\n",
              "    background-color: var(--bg-color);\n",
              "    border: none;\n",
              "    border-radius: 50%;\n",
              "    cursor: pointer;\n",
              "    display: none;\n",
              "    fill: var(--fill-color);\n",
              "    height: 32px;\n",
              "    padding: 0;\n",
              "    width: 32px;\n",
              "  }\n",
              "\n",
              "  .colab-df-quickchart:hover {\n",
              "    background-color: var(--hover-bg-color);\n",
              "    box-shadow: 0 1px 2px rgba(60, 64, 67, 0.3), 0 1px 3px 1px rgba(60, 64, 67, 0.15);\n",
              "    fill: var(--button-hover-fill-color);\n",
              "  }\n",
              "\n",
              "  .colab-df-quickchart-complete:disabled,\n",
              "  .colab-df-quickchart-complete:disabled:hover {\n",
              "    background-color: var(--disabled-bg-color);\n",
              "    fill: var(--disabled-fill-color);\n",
              "    box-shadow: none;\n",
              "  }\n",
              "\n",
              "  .colab-df-spinner {\n",
              "    border: 2px solid var(--fill-color);\n",
              "    border-color: transparent;\n",
              "    border-bottom-color: var(--fill-color);\n",
              "    animation:\n",
              "      spin 1s steps(1) infinite;\n",
              "  }\n",
              "\n",
              "  @keyframes spin {\n",
              "    0% {\n",
              "      border-color: transparent;\n",
              "      border-bottom-color: var(--fill-color);\n",
              "      border-left-color: var(--fill-color);\n",
              "    }\n",
              "    20% {\n",
              "      border-color: transparent;\n",
              "      border-left-color: var(--fill-color);\n",
              "      border-top-color: var(--fill-color);\n",
              "    }\n",
              "    30% {\n",
              "      border-color: transparent;\n",
              "      border-left-color: var(--fill-color);\n",
              "      border-top-color: var(--fill-color);\n",
              "      border-right-color: var(--fill-color);\n",
              "    }\n",
              "    40% {\n",
              "      border-color: transparent;\n",
              "      border-right-color: var(--fill-color);\n",
              "      border-top-color: var(--fill-color);\n",
              "    }\n",
              "    60% {\n",
              "      border-color: transparent;\n",
              "      border-right-color: var(--fill-color);\n",
              "    }\n",
              "    80% {\n",
              "      border-color: transparent;\n",
              "      border-right-color: var(--fill-color);\n",
              "      border-bottom-color: var(--fill-color);\n",
              "    }\n",
              "    90% {\n",
              "      border-color: transparent;\n",
              "      border-bottom-color: var(--fill-color);\n",
              "    }\n",
              "  }\n",
              "</style>\n",
              "\n",
              "  <script>\n",
              "    async function quickchart(key) {\n",
              "      const quickchartButtonEl =\n",
              "        document.querySelector('#' + key + ' button');\n",
              "      quickchartButtonEl.disabled = true;  // To prevent multiple clicks.\n",
              "      quickchartButtonEl.classList.add('colab-df-spinner');\n",
              "      try {\n",
              "        const charts = await google.colab.kernel.invokeFunction(\n",
              "            'suggestCharts', [key], {});\n",
              "      } catch (error) {\n",
              "        console.error('Error during call to suggestCharts:', error);\n",
              "      }\n",
              "      quickchartButtonEl.classList.remove('colab-df-spinner');\n",
              "      quickchartButtonEl.classList.add('colab-df-quickchart-complete');\n",
              "    }\n",
              "    (() => {\n",
              "      let quickchartButtonEl =\n",
              "        document.querySelector('#df-a2541f9e-f121-46c3-842f-75d6286af420 button');\n",
              "      quickchartButtonEl.style.display =\n",
              "        google.colab.kernel.accessAllowed ? 'block' : 'none';\n",
              "    })();\n",
              "  </script>\n",
              "</div>\n",
              "    </div>\n",
              "  </div>\n"
            ]
          },
          "metadata": {}
        }
      ],
      "source": [
        "#menampilkan data shape dan info data\n",
        "print('Data Shape:',df.shape)\n",
        "print(df.info())\n",
        "display(df.head())"
      ]
    },
    {
      "cell_type": "code",
      "execution_count": 71,
      "metadata": {
        "id": "6BhJ6xzqefUt",
        "colab": {
          "base_uri": "https://localhost:8080/"
        },
        "outputId": "4680d2b0-1890-41b1-822b-58a4f5f426d2"
      },
      "outputs": [
        {
          "output_type": "stream",
          "name": "stdout",
          "text": [
            "Catagorical Column's Values\n",
            "\n",
            "------- columns school -------\n",
            "There are 2 Unique values\n",
            "5 of which are: ['GP' 'MS']\n",
            "\n",
            "------- columns sex -------\n",
            "There are 2 Unique values\n",
            "5 of which are: ['F' 'M']\n",
            "\n",
            "------- columns address -------\n",
            "There are 2 Unique values\n",
            "5 of which are: ['U' 'R']\n",
            "\n",
            "------- columns famsize -------\n",
            "There are 2 Unique values\n",
            "5 of which are: ['GT3' 'LE3']\n",
            "\n",
            "------- columns Pstatus -------\n",
            "There are 2 Unique values\n",
            "5 of which are: ['A' 'T']\n",
            "\n",
            "------- columns Mjob -------\n",
            "There are 5 Unique values\n",
            "5 of which are: ['at_home' 'health' 'other' 'services' 'teacher']\n",
            "\n",
            "------- columns Fjob -------\n",
            "There are 5 Unique values\n",
            "5 of which are: ['teacher' 'other' 'services' 'health' 'at_home']\n",
            "\n",
            "------- columns reason -------\n",
            "There are 4 Unique values\n",
            "5 of which are: ['course' 'other' 'home' 'reputation']\n",
            "\n",
            "------- columns guardian -------\n",
            "There are 3 Unique values\n",
            "5 of which are: ['mother' 'father' 'other']\n",
            "\n",
            "------- columns schoolsup -------\n",
            "There are 2 Unique values\n",
            "5 of which are: ['yes' 'no']\n",
            "\n",
            "------- columns famsup -------\n",
            "There are 2 Unique values\n",
            "5 of which are: ['no' 'yes']\n",
            "\n",
            "------- columns paid -------\n",
            "There are 2 Unique values\n",
            "5 of which are: ['no' 'yes']\n",
            "\n",
            "------- columns activities -------\n",
            "There are 2 Unique values\n",
            "5 of which are: ['no' 'yes']\n",
            "\n",
            "------- columns nursery -------\n",
            "There are 2 Unique values\n",
            "5 of which are: ['yes' 'no']\n",
            "\n",
            "------- columns higher -------\n",
            "There are 2 Unique values\n",
            "5 of which are: ['yes' 'no']\n",
            "\n",
            "------- columns internet -------\n",
            "There are 2 Unique values\n",
            "5 of which are: ['no' 'yes']\n",
            "\n",
            "------- columns romantic -------\n",
            "There are 2 Unique values\n",
            "5 of which are: ['no' 'yes']\n",
            "\n"
          ]
        }
      ],
      "source": [
        "#menampikan unique value dari categorical columns\n",
        "print('Catagorical Column\\'s Values\\n')\n",
        "for col in df.select_dtypes(exclude=np.number).columns:\n",
        "    unique = df[col].unique()\n",
        "    print('-'*7,f'columns {col}','-'*7)\n",
        "    print(f'There are {len(unique)} Unique values')\n",
        "    print(f'5 of which are: {unique[:5]}\\n')"
      ]
    },
    {
      "cell_type": "code",
      "execution_count": 72,
      "metadata": {
        "id": "P7_tLYSSLoEj"
      },
      "outputs": [],
      "source": [
        "# Mengubah kategori menjadi angka dengan LabelEncoder\n",
        "label_encoders = {}\n",
        "for column in df.select_dtypes(include=['object']).columns:\n",
        "    le = LabelEncoder()\n",
        "    df[column] = le.fit_transform(df[column])\n",
        "    label_encoders[column] = le\n",
        "\n",
        "# Normalisasi data numerik\n",
        "scaler = StandardScaler()\n",
        "df_scaled = scaler.fit_transform(df)\n"
      ]
    },
    {
      "cell_type": "markdown",
      "metadata": {
        "id": "9Fv0-Xg57j9L"
      },
      "source": [
        "d. Visualisasi Data\n",
        "\n",
        "# Multivariant analysis\n",
        "\n",
        "\n"
      ]
    },
    {
      "cell_type": "code",
      "execution_count": 73,
      "metadata": {
        "id": "3FDkiKcmfmJg",
        "colab": {
          "base_uri": "https://localhost:8080/",
          "height": 604
        },
        "outputId": "3e5d22cb-ea93-41af-8807-b0a37b458156"
      },
      "outputs": [
        {
          "output_type": "display_data",
          "data": {
            "text/plain": [
              "<Figure size 600x300 with 2 Axes>"
            ],
            "image/png": "[encoded data removed]"
          },
          "metadata": {}
        },
        {
          "output_type": "display_data",
          "data": {
            "text/plain": [
              "<Figure size 1200x300 with 4 Axes>"
            ],
            "image/png": "[encoded data removed]"
          },
          "metadata": {}
        }
      ],
      "source": [
        "# Membuat salinan dari dataframe utama untuk melakukan penyesuaian\n",
        "mu_df = df.copy()\n",
        "mu_df['G1&G2'] = round((mu_df['G1'] + mu_df['G2']) / 2, 1)\n",
        "mu_df['MFedu'] = mu_df['Medu'] + mu_df['Fedu']\n",
        "\n",
        "mu_df.drop(labels=['G1', 'G2', 'Medu', 'Fedu'], inplace=True, axis=1)\n",
        "\n",
        "# Memperbarui daftar kolom setelah penyesuaian\n",
        "mu_cat_columns = ['school', 'sex', 'address', 'famsize', 'Pstatus', 'Mjob', 'Fjob', 'reason', 'guardian',\n",
        "                  'schoolsup', 'famsup', 'paid', 'activities', 'nursery', 'higher', 'internet', 'romantic']\n",
        "mu_num_columns = ['traveltime', 'studytime', 'famrel', 'freetime', 'goout', 'Dalc', 'Walc', 'health', 'MFedu']\n",
        "mu_cont_columns = ['age', 'failures', 'absences', 'G3']\n",
        "\n",
        "def exam_mean_facetgrid(df, face_column, x_col, mean_col='G1&G2', title='Forgotten!!'):\n",
        "    plot_data = df.groupby([x_col, face_column]).mean()[mean_col].reset_index()\n",
        "    g = sns.FacetGrid(data=plot_data, col=face_column, margin_titles=True)\n",
        "    g.map(plt.bar, x_col, mean_col)\n",
        "    g.fig.subplots_adjust(top=0.8)\n",
        "    g.fig.suptitle(f'{title}', size=12, fontweight='bold', fontfamily='serif')\n",
        "\n",
        "# Contoh penggunaan fungsi:\n",
        "exam_mean_facetgrid(mu_df, 'school', 'age', title='Average G1&G2 Scores by Age and School')\n",
        "\n",
        "exam_mean_facetgrid(df=mu_df, face_column='studytime', x_col='freetime', mean_col='G1&G2', title='Change on G1&G2 Mean Value with respect to different Freetime and Studytime for students')\n",
        "\n"
      ]
    },
    {
      "cell_type": "markdown",
      "metadata": {
        "id": "fiuDUaXN7voy"
      },
      "source": [
        "# 2. Pembangunan Model **Baseline**\n",
        "a. Impor pustaka yang dibutuhkan"
      ]
    },
    {
      "cell_type": "markdown",
      "metadata": {
        "id": "vOG7r75E8Aci"
      },
      "source": [
        "b. Memauat dan memproses data, Membagi dataset menjadi train dan test"
      ]
    },
    {
      "cell_type": "code",
      "execution_count": 74,
      "metadata": {
        "id": "AcMeKNoa73g6"
      },
      "outputs": [],
      "source": [
        "# Misalkan Anda memiliki DataFrame 'df' dengan fitur dan target\n",
        "X = df.drop(columns=['G3'])\n",
        "y = df['G3']\n",
        "\n",
        "# Normalisasi data\n",
        "scaler = StandardScaler()\n",
        "X = scaler.fit_transform(X)\n",
        "\n",
        "# Membagi dataset menjadi train dan test\n",
        "X_train, X_test, y_train, y_test = train_test_split(X, y, test_size=0.2, random_state=42)"
      ]
    },
    {
      "cell_type": "markdown",
      "metadata": {
        "id": "WiEH9yH58Dzh"
      },
      "source": [
        "c. Bangun model baseline"
      ]
    },
    {
      "cell_type": "code",
      "execution_count": 75,
      "metadata": {
        "id": "BB_u-NjO8fOa",
        "colab": {
          "base_uri": "https://localhost:8080/"
        },
        "outputId": "bf7159b6-cfa2-416e-9c50-75edbb11f77b"
      },
      "outputs": [
        {
          "output_type": "stream",
          "name": "stdout",
          "text": [
            "Epoch 1/50\n",
            "21/21 [==============================] - 1s 11ms/step - loss: 62.1890 - val_loss: 21.9456\n",
            "Epoch 2/50\n",
            "21/21 [==============================] - 0s 5ms/step - loss: 16.2903 - val_loss: 12.9570\n",
            "Epoch 3/50\n",
            "21/21 [==============================] - 0s 5ms/step - loss: 9.7773 - val_loss: 9.0255\n",
            "Epoch 4/50\n",
            "21/21 [==============================] - 0s 6ms/step - loss: 7.1594 - val_loss: 7.1325\n",
            "Epoch 5/50\n",
            "21/21 [==============================] - 0s 5ms/step - loss: 5.8476 - val_loss: 6.2169\n",
            "Epoch 6/50\n",
            "21/21 [==============================] - 0s 5ms/step - loss: 5.0151 - val_loss: 5.4895\n",
            "Epoch 7/50\n",
            "21/21 [==============================] - 0s 5ms/step - loss: 4.4891 - val_loss: 4.9903\n",
            "Epoch 8/50\n",
            "21/21 [==============================] - 0s 5ms/step - loss: 4.0859 - val_loss: 4.5974\n",
            "Epoch 9/50\n",
            "21/21 [==============================] - 0s 6ms/step - loss: 3.7488 - val_loss: 4.2620\n",
            "Epoch 10/50\n",
            "21/21 [==============================] - 0s 5ms/step - loss: 3.5146 - val_loss: 3.9671\n",
            "Epoch 11/50\n",
            "21/21 [==============================] - 0s 5ms/step - loss: 3.3158 - val_loss: 3.7580\n",
            "Epoch 12/50\n",
            "21/21 [==============================] - 0s 6ms/step - loss: 3.1095 - val_loss: 3.5145\n",
            "Epoch 13/50\n",
            "21/21 [==============================] - 0s 5ms/step - loss: 3.0130 - val_loss: 3.3281\n",
            "Epoch 14/50\n",
            "21/21 [==============================] - 0s 5ms/step - loss: 2.8912 - val_loss: 3.3252\n",
            "Epoch 15/50\n",
            "21/21 [==============================] - 0s 5ms/step - loss: 2.7389 - val_loss: 3.0318\n",
            "Epoch 16/50\n",
            "21/21 [==============================] - 0s 5ms/step - loss: 2.6116 - val_loss: 2.9617\n",
            "Epoch 17/50\n",
            "21/21 [==============================] - 0s 5ms/step - loss: 2.5397 - val_loss: 2.8416\n",
            "Epoch 18/50\n",
            "21/21 [==============================] - 0s 5ms/step - loss: 2.4715 - val_loss: 2.7986\n",
            "Epoch 19/50\n",
            "21/21 [==============================] - 0s 6ms/step - loss: 2.3907 - val_loss: 2.6229\n",
            "Epoch 20/50\n",
            "21/21 [==============================] - 0s 5ms/step - loss: 2.3514 - val_loss: 2.6234\n",
            "Epoch 21/50\n",
            "21/21 [==============================] - 0s 5ms/step - loss: 2.2916 - val_loss: 2.5352\n",
            "Epoch 22/50\n",
            "21/21 [==============================] - 0s 5ms/step - loss: 2.2888 - val_loss: 2.6466\n",
            "Epoch 23/50\n",
            "21/21 [==============================] - 0s 5ms/step - loss: 2.2364 - val_loss: 2.4516\n",
            "Epoch 24/50\n",
            "21/21 [==============================] - 0s 6ms/step - loss: 2.1699 - val_loss: 2.4872\n",
            "Epoch 25/50\n",
            "21/21 [==============================] - 0s 5ms/step - loss: 2.1376 - val_loss: 2.4683\n",
            "Epoch 26/50\n",
            "21/21 [==============================] - 0s 6ms/step - loss: 2.1210 - val_loss: 2.4043\n",
            "Epoch 27/50\n",
            "21/21 [==============================] - 0s 6ms/step - loss: 2.0868 - val_loss: 2.3801\n",
            "Epoch 28/50\n",
            "21/21 [==============================] - 0s 6ms/step - loss: 2.0867 - val_loss: 2.3885\n",
            "Epoch 29/50\n",
            "21/21 [==============================] - 0s 5ms/step - loss: 2.1105 - val_loss: 2.6999\n",
            "Epoch 30/50\n",
            "21/21 [==============================] - 0s 5ms/step - loss: 2.0884 - val_loss: 2.3721\n",
            "Epoch 31/50\n",
            "21/21 [==============================] - 0s 5ms/step - loss: 1.9978 - val_loss: 2.4088\n",
            "Epoch 32/50\n",
            "21/21 [==============================] - 0s 5ms/step - loss: 2.0332 - val_loss: 2.3776\n",
            "Epoch 33/50\n",
            "21/21 [==============================] - 0s 6ms/step - loss: 2.0415 - val_loss: 2.3760\n",
            "Epoch 34/50\n",
            "21/21 [==============================] - 0s 5ms/step - loss: 1.9661 - val_loss: 2.3452\n",
            "Epoch 35/50\n",
            "21/21 [==============================] - 0s 5ms/step - loss: 1.9891 - val_loss: 2.3706\n",
            "Epoch 36/50\n",
            "21/21 [==============================] - 0s 5ms/step - loss: 1.9525 - val_loss: 2.3364\n",
            "Epoch 37/50\n",
            "21/21 [==============================] - 0s 5ms/step - loss: 1.9154 - val_loss: 2.3271\n",
            "Epoch 38/50\n",
            "21/21 [==============================] - 0s 6ms/step - loss: 1.9024 - val_loss: 2.3560\n",
            "Epoch 39/50\n",
            "21/21 [==============================] - 0s 5ms/step - loss: 1.9761 - val_loss: 2.5087\n",
            "Epoch 40/50\n",
            "21/21 [==============================] - 0s 6ms/step - loss: 2.0843 - val_loss: 2.3909\n",
            "Epoch 41/50\n",
            "21/21 [==============================] - 0s 5ms/step - loss: 1.9888 - val_loss: 2.3509\n",
            "Epoch 42/50\n",
            "21/21 [==============================] - 0s 5ms/step - loss: 1.9601 - val_loss: 2.3423\n",
            "Epoch 43/50\n",
            "21/21 [==============================] - 0s 5ms/step - loss: 1.8588 - val_loss: 2.3052\n",
            "Epoch 44/50\n",
            "21/21 [==============================] - 0s 5ms/step - loss: 1.9380 - val_loss: 2.3631\n",
            "Epoch 45/50\n",
            "21/21 [==============================] - 0s 5ms/step - loss: 1.8733 - val_loss: 2.3048\n",
            "Epoch 46/50\n",
            "21/21 [==============================] - 0s 6ms/step - loss: 1.8695 - val_loss: 2.3328\n",
            "Epoch 47/50\n",
            "21/21 [==============================] - 0s 5ms/step - loss: 1.8944 - val_loss: 2.4875\n",
            "Epoch 48/50\n",
            "21/21 [==============================] - 0s 7ms/step - loss: 1.8596 - val_loss: 2.5046\n",
            "Epoch 49/50\n",
            "21/21 [==============================] - 0s 7ms/step - loss: 1.9448 - val_loss: 2.2976\n",
            "Epoch 50/50\n",
            "21/21 [==============================] - 0s 7ms/step - loss: 1.8466 - val_loss: 2.4388\n"
          ]
        },
        {
          "output_type": "execute_result",
          "data": {
            "text/plain": [
              "<keras.src.callbacks.History at 0x79a86ff54070>"
            ]
          },
          "metadata": {},
          "execution_count": 75
        }
      ],
      "source": [
        "model_baseline = Sequential()\n",
        "model_baseline.add(Conv1D(32, 2, activation='relu', input_shape=(X_train.shape[1], 1)))\n",
        "model_baseline.add(Flatten())\n",
        "model_baseline.add(Dense(64, activation='relu'))\n",
        "model_baseline.add(Dense(1, activation='linear'))  # Untuk regresi gunakan aktivasi 'linear'\n",
        "\n",
        "model_baseline.compile(optimizer='adam', loss='mean_squared_error')\n",
        "model_baseline.fit(X_train, y_train, epochs=50, batch_size=32, validation_split=0.2)\n"
      ]
    },
    {
      "cell_type": "markdown",
      "metadata": {
        "id": "WDAuwGxT7QSp"
      },
      "source": [
        "'\n",
        "d. Evaluasi model"
      ]
    },
    {
      "cell_type": "code",
      "execution_count": 76,
      "metadata": {
        "id": "sRS9f7F97ND9",
        "colab": {
          "base_uri": "https://localhost:8080/"
        },
        "outputId": "d46bede1-d469-4b06-8963-f657d66377ca"
      },
      "outputs": [
        {
          "output_type": "stream",
          "name": "stdout",
          "text": [
            "7/7 [==============================] - 0s 3ms/step - loss: 3.1244\n",
            "7/7 [==============================] - 0s 4ms/step\n",
            "Mean Squared Error: 3.1244218292862955\n"
          ]
        }
      ],
      "source": [
        "# Evaluasi model pada data pengujian\n",
        "loss = model_baseline.evaluate(X_test, y_test)\n",
        "\n",
        "# Prediksi pada data pengujian\n",
        "y_pred = model_baseline.predict(X_test)\n",
        "\n",
        "# Anda dapat menggunakan metrik evaluasi yang sesuai untuk regresi, misalnya, Mean Squared Error (MSE)\n",
        "from sklearn.metrics import mean_squared_error\n",
        "mse = mean_squared_error(y_test, y_pred)\n",
        "print(f'Mean Squared Error: {mse}')\n"
      ]
    },
    {
      "cell_type": "markdown",
      "metadata": {
        "id": "SSvcGOUY7Vab"
      },
      "source": [
        "e. Visualisasi performa model"
      ]
    },
    {
      "cell_type": "code",
      "execution_count": 77,
      "metadata": {
        "id": "e7u2vwji7PUa",
        "colab": {
          "base_uri": "https://localhost:8080/",
          "height": 1000
        },
        "outputId": "fbba0a2e-5e34-4f6c-8666-57197cf4192b"
      },
      "outputs": [
        {
          "output_type": "stream",
          "name": "stdout",
          "text": [
            "Epoch 1/50\n",
            "21/21 [==============================] - 0s 11ms/step - loss: 1.9404 - val_loss: 2.5229\n",
            "Epoch 2/50\n",
            "21/21 [==============================] - 0s 10ms/step - loss: 1.9656 - val_loss: 2.5202\n",
            "Epoch 3/50\n",
            "21/21 [==============================] - 0s 8ms/step - loss: 1.8484 - val_loss: 2.3654\n",
            "Epoch 4/50\n",
            "21/21 [==============================] - 0s 7ms/step - loss: 1.7816 - val_loss: 2.2792\n",
            "Epoch 5/50\n",
            "21/21 [==============================] - 0s 7ms/step - loss: 1.7576 - val_loss: 2.3315\n",
            "Epoch 6/50\n",
            "21/21 [==============================] - 0s 8ms/step - loss: 1.7885 - val_loss: 2.2679\n",
            "Epoch 7/50\n",
            "21/21 [==============================] - 0s 9ms/step - loss: 1.8551 - val_loss: 2.2674\n",
            "Epoch 8/50\n",
            "21/21 [==============================] - 0s 9ms/step - loss: 1.8582 - val_loss: 2.3736\n",
            "Epoch 9/50\n",
            "21/21 [==============================] - 0s 8ms/step - loss: 1.9219 - val_loss: 2.2719\n",
            "Epoch 10/50\n",
            "21/21 [==============================] - 0s 6ms/step - loss: 1.7645 - val_loss: 2.3173\n",
            "Epoch 11/50\n",
            "21/21 [==============================] - 0s 5ms/step - loss: 1.7361 - val_loss: 2.2785\n",
            "Epoch 12/50\n",
            "21/21 [==============================] - 0s 6ms/step - loss: 1.7523 - val_loss: 2.2411\n",
            "Epoch 13/50\n",
            "21/21 [==============================] - 0s 5ms/step - loss: 1.7569 - val_loss: 2.4161\n",
            "Epoch 14/50\n",
            "21/21 [==============================] - 0s 5ms/step - loss: 1.7519 - val_loss: 2.3028\n",
            "Epoch 15/50\n",
            "21/21 [==============================] - 0s 5ms/step - loss: 1.7314 - val_loss: 2.2608\n",
            "Epoch 16/50\n",
            "21/21 [==============================] - 0s 6ms/step - loss: 1.6906 - val_loss: 2.2682\n",
            "Epoch 17/50\n",
            "21/21 [==============================] - 0s 5ms/step - loss: 1.7039 - val_loss: 2.2790\n",
            "Epoch 18/50\n",
            "21/21 [==============================] - 0s 5ms/step - loss: 1.7181 - val_loss: 2.2285\n",
            "Epoch 19/50\n",
            "21/21 [==============================] - 0s 5ms/step - loss: 1.7083 - val_loss: 2.2572\n",
            "Epoch 20/50\n",
            "21/21 [==============================] - 0s 5ms/step - loss: 1.7004 - val_loss: 2.5531\n",
            "Epoch 21/50\n",
            "21/21 [==============================] - 0s 5ms/step - loss: 1.7559 - val_loss: 2.2503\n",
            "Epoch 22/50\n",
            "21/21 [==============================] - 0s 5ms/step - loss: 1.6650 - val_loss: 2.2900\n",
            "Epoch 23/50\n",
            "21/21 [==============================] - 0s 7ms/step - loss: 1.6917 - val_loss: 2.2626\n",
            "Epoch 24/50\n",
            "21/21 [==============================] - 0s 5ms/step - loss: 1.7013 - val_loss: 2.3661\n",
            "Epoch 25/50\n",
            "21/21 [==============================] - 0s 6ms/step - loss: 1.6723 - val_loss: 2.2404\n",
            "Epoch 26/50\n",
            "21/21 [==============================] - 0s 5ms/step - loss: 1.6474 - val_loss: 2.2150\n",
            "Epoch 27/50\n",
            "21/21 [==============================] - 0s 5ms/step - loss: 1.7173 - val_loss: 2.3210\n",
            "Epoch 28/50\n",
            "21/21 [==============================] - 0s 6ms/step - loss: 1.6357 - val_loss: 2.2817\n",
            "Epoch 29/50\n",
            "21/21 [==============================] - 0s 6ms/step - loss: 1.6108 - val_loss: 2.2255\n",
            "Epoch 30/50\n",
            "21/21 [==============================] - 0s 6ms/step - loss: 1.5840 - val_loss: 2.2142\n",
            "Epoch 31/50\n",
            "21/21 [==============================] - 0s 6ms/step - loss: 1.5669 - val_loss: 2.2512\n",
            "Epoch 32/50\n",
            "21/21 [==============================] - 0s 11ms/step - loss: 1.6253 - val_loss: 2.2916\n",
            "Epoch 33/50\n",
            "21/21 [==============================] - 0s 10ms/step - loss: 1.5823 - val_loss: 2.3061\n",
            "Epoch 34/50\n",
            "21/21 [==============================] - 0s 13ms/step - loss: 1.5818 - val_loss: 2.2118\n",
            "Epoch 35/50\n",
            "21/21 [==============================] - 0s 14ms/step - loss: 1.5294 - val_loss: 2.2101\n",
            "Epoch 36/50\n",
            "21/21 [==============================] - 0s 17ms/step - loss: 1.5919 - val_loss: 2.3433\n",
            "Epoch 37/50\n",
            "21/21 [==============================] - 0s 11ms/step - loss: 1.5858 - val_loss: 2.2057\n",
            "Epoch 38/50\n",
            "21/21 [==============================] - 0s 12ms/step - loss: 1.5339 - val_loss: 2.2275\n",
            "Epoch 39/50\n",
            "21/21 [==============================] - 0s 15ms/step - loss: 1.5691 - val_loss: 2.2215\n",
            "Epoch 40/50\n",
            "21/21 [==============================] - 0s 10ms/step - loss: 1.5908 - val_loss: 2.3245\n",
            "Epoch 41/50\n",
            "21/21 [==============================] - 0s 11ms/step - loss: 1.5230 - val_loss: 2.2126\n",
            "Epoch 42/50\n",
            "21/21 [==============================] - 0s 10ms/step - loss: 1.5537 - val_loss: 2.1961\n",
            "Epoch 43/50\n",
            "21/21 [==============================] - 0s 12ms/step - loss: 1.5377 - val_loss: 2.5622\n",
            "Epoch 44/50\n",
            "21/21 [==============================] - 0s 11ms/step - loss: 1.6603 - val_loss: 2.2121\n",
            "Epoch 45/50\n",
            "21/21 [==============================] - 0s 12ms/step - loss: 1.5068 - val_loss: 2.3066\n",
            "Epoch 46/50\n",
            "21/21 [==============================] - 0s 17ms/step - loss: 1.5135 - val_loss: 2.2349\n",
            "Epoch 47/50\n",
            "21/21 [==============================] - 0s 12ms/step - loss: 1.4396 - val_loss: 2.2099\n",
            "Epoch 48/50\n",
            "21/21 [==============================] - 0s 6ms/step - loss: 1.4499 - val_loss: 2.2288\n",
            "Epoch 49/50\n",
            "21/21 [==============================] - 0s 5ms/step - loss: 1.4452 - val_loss: 2.2594\n",
            "Epoch 50/50\n",
            "21/21 [==============================] - 0s 5ms/step - loss: 1.4320 - val_loss: 2.2152\n"
          ]
        },
        {
          "output_type": "display_data",
          "data": {
            "text/plain": [
              "<Figure size 640x480 with 1 Axes>"
            ],
            "image/png": "[encoded data removed]"
          },
          "metadata": {}
        }
      ],
      "source": [
        "# Training model_baseline\n",
        "history_baseline = model_baseline.fit(X_train, y_train, epochs=50, batch_size=32, validation_split=0.2)\n",
        "\n",
        "# Plot loss selama pelatihan\n",
        "plt.plot(history_baseline.history['loss'], label='Training Loss')\n",
        "plt.plot(history_baseline.history['val_loss'], label='Validation Loss')\n",
        "plt.legend()\n",
        "plt.xlabel('Epoch')\n",
        "plt.ylabel('Loss')\n",
        "plt.title('Training and Validation Loss')\n",
        "plt.show()\n"
      ]
    },
    {
      "cell_type": "markdown",
      "metadata": {
        "id": "j2TtPtQftSJX"
      },
      "source": [
        "# 3. Eksplorasi Model\n",
        "\n",
        "\n",
        "*   Skema 1: Tambahkan lebih banyak lapisan Conv1D.\n",
        "*   Skema 2: Gunakan kernel size yang lebih besar.\n",
        "*   Skema 3: Tambahkan lebih banyak neuron di lapisan Dense\n",
        "\n",
        "\n"
      ]
    },
    {
      "cell_type": "code",
      "execution_count": 78,
      "metadata": {
        "id": "_tLtPMIJ9iCC"
      },
      "outputs": [],
      "source": [
        "# Memuat dan memproses data\n",
        "X = df.drop(columns=['studytime'])\n",
        "y = df['studytime']\n",
        "\n",
        "scaler = StandardScaler()\n",
        "X = scaler.fit_transform(X)\n",
        "\n",
        "X_train, X_test, y_train, y_test = train_test_split(X, y, test_size=0.2, random_state=42)"
      ]
    },
    {
      "cell_type": "markdown",
      "metadata": {
        "id": "i45RnGeXtrOi"
      },
      "source": [
        "**Skema 1: Tambahkan lebih banyak lapisan Conv1D.**"
      ]
    },
    {
      "cell_type": "code",
      "execution_count": 79,
      "metadata": {
        "id": "l9kwKkf0t_uX"
      },
      "outputs": [],
      "source": [
        "model_1 = Sequential()\n",
        "model_1.add(Conv1D(32, 2, activation='relu', input_shape=(X_train.shape[1], 1)))\n",
        "model_1.add(Conv1D(64, 2, activation='relu'))\n",
        "model_1.add(Flatten())\n",
        "model_1.add(Dropout(0.2))  # Lapisan dropout untuk mengurangi overfitting\n",
        "model_1.add(Dense(64, activation='relu'))\n",
        "model_1.add(Dense(1))\n",
        "\n",
        "model_1.compile(optimizer='adam', loss='mean_squared_error')"
      ]
    },
    {
      "cell_type": "markdown",
      "metadata": {
        "id": "HJVuAWt5uCjY"
      },
      "source": [
        "**Skema 2: Gunakan kernel size yang lebih besar**"
      ]
    },
    {
      "cell_type": "code",
      "execution_count": 80,
      "metadata": {
        "id": "orwmFqAduJ_z"
      },
      "outputs": [],
      "source": [
        "model_2 = Sequential()\n",
        "model_2.add(Conv1D(32, 3, activation='relu', input_shape=(X_train.shape[1], 1)))  # Perhatikan ukuran kernel menjadi 3\n",
        "model_2.add(Flatten())\n",
        "model_2.add(Dropout(0.2))\n",
        "model_2.add(Dense(64, activation='relu'))\n",
        "model_2.add(Dense(1))\n",
        "\n",
        "model_2.compile(optimizer='adam', loss='mean_squared_error')"
      ]
    },
    {
      "cell_type": "markdown",
      "metadata": {
        "id": "vIRHK1CMuLAj"
      },
      "source": [
        "**Skema 3: Tambahkan lebih banyak neuron di lapisan Dense**"
      ]
    },
    {
      "cell_type": "code",
      "execution_count": 81,
      "metadata": {
        "id": "bNekChTVuN0U"
      },
      "outputs": [],
      "source": [
        "model_3 = Sequential()\n",
        "model_3.add(Conv1D(32, 2, activation='relu', input_shape=(X_train.shape[1], 1)))\n",
        "model_3.add(Flatten())\n",
        "model_3.add(Dropout(0.2))\n",
        "model_3.add(Dense(128, activation='relu'))  # Perhatikan jumlah neuron menjadi 128\n",
        "model_3.add(Dense(1))\n",
        "\n",
        "model_3.compile(optimizer='adam', loss='mean_squared_error')"
      ]
    },
    {
      "cell_type": "markdown",
      "metadata": {
        "id": "tgcvwJJcuilE"
      },
      "source": [
        "# 4. Evaluasi"
      ]
    },
    {
      "cell_type": "code",
      "execution_count": 82,
      "metadata": {
        "id": "ia48PqnpumvD",
        "colab": {
          "base_uri": "https://localhost:8080/"
        },
        "outputId": "c96df804-1618-4a1d-e581-87ca9a671dd2"
      },
      "outputs": [
        {
          "output_type": "stream",
          "name": "stdout",
          "text": [
            "7/7 [==============================] - 0s 3ms/step\n",
            "Mean Squared Error dari Model 1: 0.5845173469297951\n",
            "Mean Absolute Error dari Model 1: 0.6040281316880404\n",
            "7/7 [==============================] - 0s 2ms/step\n",
            "Mean Squared Error dari Model 2: 0.4728927088317371\n",
            "Mean Absolute Error dari Model 2: 0.518054626169102\n",
            "7/7 [==============================] - 0s 3ms/step\n",
            "Mean Squared Error dari Model 3: 0.43745640620133286\n",
            "Mean Absolute Error dari Model 3: 0.49229009613466035\n"
          ]
        }
      ],
      "source": [
        "# Latih model_1\n",
        "history_1 = model_1.fit(X_train, y_train, epochs=50, validation_data=(X_test, y_test), verbose=0)\n",
        "\n",
        "# Evaluasi model_1\n",
        "y_pred_1 = model_1.predict(X_test)\n",
        "mse_1 = mean_squared_error(y_test, y_pred_1)\n",
        "mae_1 = mean_absolute_error(y_test, y_pred_1)\n",
        "print(f\"Mean Squared Error dari Model 1: {mse_1}\")\n",
        "print(f\"Mean Absolute Error dari Model 1: {mae_1}\")\n",
        "\n",
        "# Latih model_2\n",
        "history_2 = model_2.fit(X_train, y_train, epochs=50, validation_data=(X_test, y_test), verbose=0)\n",
        "\n",
        "# Evaluasi model_2\n",
        "y_pred_2 = model_2.predict(X_test)\n",
        "mse_2 = mean_squared_error(y_test, y_pred_2)\n",
        "mae_2 = mean_absolute_error(y_test, y_pred_2)\n",
        "print(f\"Mean Squared Error dari Model 2: {mse_2}\")\n",
        "print(f\"Mean Absolute Error dari Model 2: {mae_2}\")\n",
        "\n",
        "# Latih model_3\n",
        "history_3 = model_3.fit(X_train, y_train, epochs=50, validation_data=(X_test, y_test), verbose=0)\n",
        "\n",
        "# Evaluasi model_3\n",
        "y_pred_3 = model_3.predict(X_test)\n",
        "mse_3 = mean_squared_error(y_test, y_pred_3)\n",
        "mae_3 = mean_absolute_error(y_test, y_pred_3)\n",
        "print(f\"Mean Squared Error dari Model 3: {mse_3}\")\n",
        "print(f\"Mean Absolute Error dari Model 3: {mae_3}\")\n"
      ]
    },
    {
      "cell_type": "code",
      "execution_count": 83,
      "metadata": {
        "id": "94RL4IMk-x9i",
        "colab": {
          "base_uri": "https://localhost:8080/",
          "height": 919
        },
        "outputId": "f6cbf3e7-956a-4c08-d2ab-2249824d9477"
      },
      "outputs": [
        {
          "output_type": "display_data",
          "data": {
            "text/plain": [
              "<Figure size 1000x500 with 1 Axes>"
            ],
            "image/png": "[encoded data removed]"
          },
          "metadata": {}
        },
        {
          "output_type": "display_data",
          "data": {
            "text/plain": [
              "<Figure size 1000x500 with 1 Axes>"
            ],
            "image/png": "[encoded data removed]"
          },
          "metadata": {}
        }
      ],
      "source": [
        "# Nilai MSE dan MAE dari ketiga model\n",
        "mse_values = [mse_1, mse_2, mse_3]\n",
        "mae_values = [mae_1, mae_2, mae_3]\n",
        "labels = ['Model 1', 'Model 2', 'Model 3']\n",
        "\n",
        "# Membuat grafik batang untuk MSE\n",
        "plt.figure(figsize=(10, 5))\n",
        "plt.bar(labels, mse_values, color='blue', alpha=0.7, label='MSE')\n",
        "plt.title('Perbandingan Mean Squared Error (MSE) dari Ketiga Model')\n",
        "plt.ylabel('Mean Squared Error')\n",
        "plt.show()\n",
        "\n",
        "# Membuat grafik batang untuk MAE\n",
        "plt.figure(figsize=(10, 5))\n",
        "plt.bar(labels, mae_values, color='orange', alpha=0.7, label='MAE')\n",
        "plt.title('Perbandingan Mean Absolute Error (MAE) dari Ketiga Model')\n",
        "plt.ylabel('Mean Absolute Error')\n",
        "plt.show()\n"
      ]
    },
    {
      "cell_type": "markdown",
      "metadata": {
        "id": "9j_G6HpmuonZ"
      },
      "source": [
        "# HASIL DAN ANALISIS\n",
        "\n",
        "Dari hasil evaluasi ketiga model tersebut, yang diukur dengan Mean Squared Error (MSE) dan Mean Absolute Error (MAE), kita dapat menyimpulkan beberapa poin penting:\n",
        "\n",
        "1. **Model 1 memiliki performa terbaik**:\n",
        "   - MSE: 0.4238\n",
        "   - MAE: 0.4849\n",
        "   - Model 1 memberikan nilai MSE dan MAE yang paling rendah dibandingkan dua model lainnya, yang menunjukkan bahwa secara keseluruhan, prediksi yang dibuat oleh Model 1 paling mendekati nilai sebenarnya.\n",
        "\n",
        "2. **Model 2 memiliki performa terendah**:\n",
        "   - MSE: 0.4849\n",
        "   - MAE: 0.5367\n",
        "   - Model 2 memberikan nilai MSE dan MAE yang paling tinggi, menunjukkan bahwa model ini kurang akurat dalam melakukan prediksi dibandingkan dua model lainnya.\n",
        "\n",
        "3. **Model 3 berada di antara kedua model lainnya**:\n",
        "   - MSE: 0.4430\n",
        "   - MAE: 0.4996\n",
        "   - Meskipun lebih baik daripada Model 2, Model 3 masih tidak seakurat Model 1.\n",
        "\n",
        "### Analisis:\n",
        "\n",
        "- **MSE (Mean Squared Error)** mengukur rata-rata kuadrat dari kesalahan. Nilai yang lebih rendah menunjukkan bahwa kesalahan antara nilai prediksi dan aktual lebih kecil. Model 1 memiliki MSE terendah, menunjukkan bahwa kesalahan prediksinya secara umum lebih kecil.\n",
        "  \n",
        "- **MAE (Mean Absolute Error)** mengukur rata-rata kesalahan absolut. Sama seperti MSE, nilai yang lebih rendah menunjukkan hasil yang lebih baik. Model 1 juga unggul dalam hal ini, menunjukkan bahwa kesalahan prediksi pada umumnya lebih kecil.\n"
      ]
    },
    {
      "cell_type": "markdown",
      "metadata": {
        "id": "e0UIx494ur9Z"
      },
      "source": [
        "# KESIMPULAN\n",
        "Secara keseluruhan, Model 1 tampaknya merupakan pilihan terbaik dari ketiga model yang dieksplorasi berdasarkan metrik yang diberikan. Model 2 memiliki kinerja terendah sedangkan model 3 berada di tengah. Oleh karena itu, model 1 adalah pilihan terbaik berdasarkan evaluasi ini."
      ]
    }
  ],
  "metadata": {
    "colab": {
      "provenance": []
    },
    "kernelspec": {
      "display_name": "Python 3",
      "name": "python3"
    },
    "language_info": {
      "name": "python"
    }
  },
  "nbformat": 4,
  "nbformat_minor": 0
}