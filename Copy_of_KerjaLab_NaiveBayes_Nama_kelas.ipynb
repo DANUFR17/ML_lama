{
  "nbformat": 4,
  "nbformat_minor": 0,
  "metadata": {
    "colab": {
      "provenance": []
    },
    "kernelspec": {
      "name": "python3",
      "display_name": "Python 3"
    },
    "language_info": {
      "name": "python"
    }
  },
  "cells": [
    {
      "cell_type": "code",
      "source": [
        "\"\"\"\n",
        "Nam   :\n",
        "NIM   :\n",
        "Kelas :\n",
        "\"\"\""
      ],
      "metadata": {
        "id": "AEKRTHYrPNGP"
      },
      "execution_count": null,
      "outputs": []
    },
    {
      "cell_type": "code",
      "execution_count": null,
      "metadata": {
        "id": "U_cf6zqkPEY6"
      },
      "outputs": [],
      "source": [
        "#pip install openpyxl\n",
        "#pip install pandas\n",
        "#pip install numpy\n",
        "#pip install math"
      ]
    },
    {
      "cell_type": "code",
      "source": [
        "import pandas as pd\n",
        "import math"
      ],
      "metadata": {
        "id": "0C2i9UIkPFS_"
      },
      "execution_count": null,
      "outputs": []
    },
    {
      "cell_type": "markdown",
      "source": [
        "# Download Dataset"
      ],
      "metadata": {
        "id": "dC3ytoA-QND0"
      }
    },
    {
      "cell_type": "code",
      "source": [
        "def read_excel(path, sheet_target): # read excel data\n",
        "    data = pd.read_excel(path, sheet_name=sheet_target)\n",
        "    return pd.DataFrame(data)"
      ],
      "metadata": {
        "id": "28vg4ObjPdAq"
      },
      "execution_count": null,
      "outputs": []
    },
    {
      "cell_type": "code",
      "source": [
        "#https://docs.google.com/spreadsheets/d/1dmBRPuty1lWTddfrXMep0bQsZkniWc0A/edit?usp=share_link&ouid=108502851386751876518&rtpof=true&sd=true\n",
        "!gdown 1dmBRPuty1lWTddfrXMep0bQsZkniWc0A\n",
        "\n",
        "#https://docs.google.com/spreadsheets/d/1OQlnJe52HY2WpSEbNbtXuN_3pKKNJV8t/edit?usp=share_link&ouid=108502851386751876518&rtpof=true&sd=true\n",
        "!gdown 1OQlnJe52HY2WpSEbNbtXuN_3pKKNJV8t\n",
        "\n",
        "#https://docs.google.com/spreadsheets/d/1gRHnK84TO1uAyFDRfYBs4BRpjn0QoY1Z/edit?usp=share_link&ouid=108502851386751876518&rtpof=true&sd=true\n",
        "!gdown 1gRHnK84TO1uAyFDRfYBs4BRpjn0QoY1Z"
      ],
      "metadata": {
        "colab": {
          "base_uri": "https://localhost:8080/"
        },
        "id": "aTxfy34tPqW6",
        "outputId": "a35020d7-13ac-46bb-9ae2-0f60da91cca5"
      },
      "execution_count": null,
      "outputs": [
        {
          "output_type": "stream",
          "name": "stdout",
          "text": [
            "Downloading...\n",
            "From: https://drive.google.com/uc?id=1dmBRPuty1lWTddfrXMep0bQsZkniWc0A\n",
            "To: /content/newTrain.xlsx\n",
            "100% 13.6k/13.6k [00:00<00:00, 67.6MB/s]\n",
            "Downloading...\n",
            "From: https://drive.google.com/uc?id=1OQlnJe52HY2WpSEbNbtXuN_3pKKNJV8t\n",
            "To: /content/newTest.xlsx\n",
            "100% 8.77k/8.77k [00:00<00:00, 50.3MB/s]\n",
            "Downloading...\n",
            "From: https://drive.google.com/uc?id=1gRHnK84TO1uAyFDRfYBs4BRpjn0QoY1Z\n",
            "To: /content/newTestGroundTruth.xlsx\n",
            "100% 8.76k/8.76k [00:00<00:00, 39.5MB/s]\n"
          ]
        }
      ]
    },
    {
      "cell_type": "code",
      "source": [
        "dataTrain = read_excel(\"newTrain.xlsx\",sheet_target=\"train\")\n",
        "dataTest = read_excel(\"newTest.xlsx\",sheet_target=\"Sheet1\")\n",
        "dataTruth = read_excel(\"newTestGroundTruth.xlsx\",sheet_target=\"Sheet1\")"
      ],
      "metadata": {
        "id": "4_N1s8aaPmsJ"
      },
      "execution_count": null,
      "outputs": []
    }
  ]
}