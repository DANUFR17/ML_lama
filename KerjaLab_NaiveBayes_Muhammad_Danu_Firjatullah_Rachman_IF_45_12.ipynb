{
  "nbformat": 4,
  "nbformat_minor": 0,
  "metadata": {
    "colab": {
      "provenance": []
    },
    "kernelspec": {
      "name": "python3",
      "display_name": "Python 3"
    },
    "language_info": {
      "name": "python"
    }
  },
  "cells": [
    {
      "cell_type": "code",
      "source": [
        "\"\"\"\n",
        "Nama  :Muhammad Danu Firjatullah Rachman\n",
        "NIM   :1301213439\n",
        "Kelas :IF-45-12\n",
        "\"\"\""
      ],
      "metadata": {
        "id": "AEKRTHYrPNGP",
        "colab": {
          "base_uri": "https://localhost:8080/",
          "height": 36
        },
        "outputId": "bb667698-e4f2-47db-d7aa-0ffd8990cc62"
      },
      "execution_count": 1,
      "outputs": [
        {
          "output_type": "execute_result",
          "data": {
            "text/plain": [
              "'\\nNama  :Muhammad Danu Firjatullah Rachman\\nNIM   :1301213439\\nKelas :IF-45-12\\n'"
            ],
            "application/vnd.google.colaboratory.intrinsic+json": {
              "type": "string"
            }
          },
          "metadata": {},
          "execution_count": 1
        }
      ]
    },
    {
      "cell_type": "code",
      "execution_count": 2,
      "metadata": {
        "id": "U_cf6zqkPEY6"
      },
      "outputs": [],
      "source": [
        "#pip install openpyxl\n",
        "#pip install pandas\n",
        "#pip install numpy\n",
        "#pip install math"
      ]
    },
    {
      "cell_type": "code",
      "source": [
        "import pandas as pd\n",
        "import math"
      ],
      "metadata": {
        "id": "0C2i9UIkPFS_"
      },
      "execution_count": 3,
      "outputs": []
    },
    {
      "cell_type": "markdown",
      "source": [
        "# Download Dataset"
      ],
      "metadata": {
        "id": "dC3ytoA-QND0"
      }
    },
    {
      "cell_type": "code",
      "source": [
        "def read_excel(path, sheet_target): # read excel data\n",
        "    data = pd.read_excel(path, sheet_name=sheet_target)\n",
        "    return pd.DataFrame(data)"
      ],
      "metadata": {
        "id": "28vg4ObjPdAq"
      },
      "execution_count": 4,
      "outputs": []
    },
    {
      "cell_type": "code",
      "source": [
        "#https://docs.google.com/spreadsheets/d/1dmBRPuty1lWTddfrXMep0bQsZkniWc0A/edit?usp=share_link&ouid=108502851386751876518&rtpof=true&sd=true\n",
        "!gdown 1dmBRPuty1lWTddfrXMep0bQsZkniWc0A\n",
        "\n",
        "#https://docs.google.com/spreadsheets/d/1OQlnJe52HY2WpSEbNbtXuN_3pKKNJV8t/edit?usp=share_link&ouid=108502851386751876518&rtpof=true&sd=true\n",
        "!gdown 1OQlnJe52HY2WpSEbNbtXuN_3pKKNJV8t\n",
        "\n",
        "#https://docs.google.com/spreadsheets/d/1gRHnK84TO1uAyFDRfYBs4BRpjn0QoY1Z/edit?usp=share_link&ouid=108502851386751876518&rtpof=true&sd=true\n",
        "!gdown 1gRHnK84TO1uAyFDRfYBs4BRpjn0QoY1Z"
      ],
      "metadata": {
        "colab": {
          "base_uri": "https://localhost:8080/"
        },
        "id": "aTxfy34tPqW6",
        "outputId": "3fbf6271-7b23-4604-8939-b98139e2a11a"
      },
      "execution_count": 5,
      "outputs": [
        {
          "output_type": "stream",
          "name": "stdout",
          "text": [
            "Downloading...\n",
            "From: https://drive.google.com/uc?id=1dmBRPuty1lWTddfrXMep0bQsZkniWc0A\n",
            "To: /content/newTrain.xlsx\n",
            "100% 13.6k/13.6k [00:00<00:00, 57.8MB/s]\n",
            "Downloading...\n",
            "From: https://drive.google.com/uc?id=1OQlnJe52HY2WpSEbNbtXuN_3pKKNJV8t\n",
            "To: /content/newTest.xlsx\n",
            "100% 8.77k/8.77k [00:00<00:00, 50.8MB/s]\n",
            "Downloading...\n",
            "From: https://drive.google.com/uc?id=1gRHnK84TO1uAyFDRfYBs4BRpjn0QoY1Z\n",
            "To: /content/newTestGroundTruth.xlsx\n",
            "100% 8.76k/8.76k [00:00<00:00, 41.5MB/s]\n"
          ]
        }
      ]
    },
    {
      "cell_type": "code",
      "source": [
        "dataTrain = read_excel(\"newTrain.xlsx\",sheet_target=\"train\")\n",
        "dataTest = read_excel(\"newTest.xlsx\",sheet_target=\"Sheet1\")\n",
        "dataTruth = read_excel(\"newTestGroundTruth.xlsx\",sheet_target=\"Sheet1\")"
      ],
      "metadata": {
        "id": "4_N1s8aaPmsJ"
      },
      "execution_count": 6,
      "outputs": []
    },
    {
      "cell_type": "code",
      "source": [
        "dataTrain.head()"
      ],
      "metadata": {
        "colab": {
          "base_uri": "https://localhost:8080/",
          "height": 206
        },
        "id": "y9Mo6W92UNKw",
        "outputId": "500fdc0f-ac93-461f-fe93-832a197cdd78"
      },
      "execution_count": 7,
      "outputs": [
        {
          "output_type": "execute_result",
          "data": {
            "text/plain": [
              "   Unnamed: 0  id  x1  x2  x3  y\n",
              "0           0   1  93  71  48  1\n",
              "1           1   2  35  67  87  1\n",
              "2           2   3  66  97  27  0\n",
              "3           3   4  43  35  24  1\n",
              "4           4   5  15  85  86  0"
            ],
            "text/html": [
              "\n",
              "  <div id=\"df-af7408d3-f8c4-4268-b835-76538ce7177c\">\n",
              "    <div class=\"colab-df-container\">\n",
              "      <div>\n",
              "<style scoped>\n",
              "    .dataframe tbody tr th:only-of-type {\n",
              "        vertical-align: middle;\n",
              "    }\n",
              "\n",
              "    .dataframe tbody tr th {\n",
              "        vertical-align: top;\n",
              "    }\n",
              "\n",
              "    .dataframe thead th {\n",
              "        text-align: right;\n",
              "    }\n",
              "</style>\n",
              "<table border=\"1\" class=\"dataframe\">\n",
              "  <thead>\n",
              "    <tr style=\"text-align: right;\">\n",
              "      <th></th>\n",
              "      <th>Unnamed: 0</th>\n",
              "      <th>id</th>\n",
              "      <th>x1</th>\n",
              "      <th>x2</th>\n",
              "      <th>x3</th>\n",
              "      <th>y</th>\n",
              "    </tr>\n",
              "  </thead>\n",
              "  <tbody>\n",
              "    <tr>\n",
              "      <th>0</th>\n",
              "      <td>0</td>\n",
              "      <td>1</td>\n",
              "      <td>93</td>\n",
              "      <td>71</td>\n",
              "      <td>48</td>\n",
              "      <td>1</td>\n",
              "    </tr>\n",
              "    <tr>\n",
              "      <th>1</th>\n",
              "      <td>1</td>\n",
              "      <td>2</td>\n",
              "      <td>35</td>\n",
              "      <td>67</td>\n",
              "      <td>87</td>\n",
              "      <td>1</td>\n",
              "    </tr>\n",
              "    <tr>\n",
              "      <th>2</th>\n",
              "      <td>2</td>\n",
              "      <td>3</td>\n",
              "      <td>66</td>\n",
              "      <td>97</td>\n",
              "      <td>27</td>\n",
              "      <td>0</td>\n",
              "    </tr>\n",
              "    <tr>\n",
              "      <th>3</th>\n",
              "      <td>3</td>\n",
              "      <td>4</td>\n",
              "      <td>43</td>\n",
              "      <td>35</td>\n",
              "      <td>24</td>\n",
              "      <td>1</td>\n",
              "    </tr>\n",
              "    <tr>\n",
              "      <th>4</th>\n",
              "      <td>4</td>\n",
              "      <td>5</td>\n",
              "      <td>15</td>\n",
              "      <td>85</td>\n",
              "      <td>86</td>\n",
              "      <td>0</td>\n",
              "    </tr>\n",
              "  </tbody>\n",
              "</table>\n",
              "</div>\n",
              "      <button class=\"colab-df-convert\" onclick=\"convertToInteractive('df-af7408d3-f8c4-4268-b835-76538ce7177c')\"\n",
              "              title=\"Convert this dataframe to an interactive table.\"\n",
              "              style=\"display:none;\">\n",
              "        \n",
              "  <svg xmlns=\"http://www.w3.org/2000/svg\" height=\"24px\"viewBox=\"0 0 24 24\"\n",
              "       width=\"24px\">\n",
              "    <path d=\"M0 0h24v24H0V0z\" fill=\"none\"/>\n",
              "    <path d=\"M18.56 5.44l.94 2.06.94-2.06 2.06-.94-2.06-.94-.94-2.06-.94 2.06-2.06.94zm-11 1L8.5 8.5l.94-2.06 2.06-.94-2.06-.94L8.5 2.5l-.94 2.06-2.06.94zm10 10l.94 2.06.94-2.06 2.06-.94-2.06-.94-.94-2.06-.94 2.06-2.06.94z\"/><path d=\"M17.41 7.96l-1.37-1.37c-.4-.4-.92-.59-1.43-.59-.52 0-1.04.2-1.43.59L10.3 9.45l-7.72 7.72c-.78.78-.78 2.05 0 2.83L4 21.41c.39.39.9.59 1.41.59.51 0 1.02-.2 1.41-.59l7.78-7.78 2.81-2.81c.8-.78.8-2.07 0-2.86zM5.41 20L4 18.59l7.72-7.72 1.47 1.35L5.41 20z\"/>\n",
              "  </svg>\n",
              "      </button>\n",
              "      \n",
              "  <style>\n",
              "    .colab-df-container {\n",
              "      display:flex;\n",
              "      flex-wrap:wrap;\n",
              "      gap: 12px;\n",
              "    }\n",
              "\n",
              "    .colab-df-convert {\n",
              "      background-color: #E8F0FE;\n",
              "      border: none;\n",
              "      border-radius: 50%;\n",
              "      cursor: pointer;\n",
              "      display: none;\n",
              "      fill: #1967D2;\n",
              "      height: 32px;\n",
              "      padding: 0 0 0 0;\n",
              "      width: 32px;\n",
              "    }\n",
              "\n",
              "    .colab-df-convert:hover {\n",
              "      background-color: #E2EBFA;\n",
              "      box-shadow: 0px 1px 2px rgba(60, 64, 67, 0.3), 0px 1px 3px 1px rgba(60, 64, 67, 0.15);\n",
              "      fill: #174EA6;\n",
              "    }\n",
              "\n",
              "    [theme=dark] .colab-df-convert {\n",
              "      background-color: #3B4455;\n",
              "      fill: #D2E3FC;\n",
              "    }\n",
              "\n",
              "    [theme=dark] .colab-df-convert:hover {\n",
              "      background-color: #434B5C;\n",
              "      box-shadow: 0px 1px 3px 1px rgba(0, 0, 0, 0.15);\n",
              "      filter: drop-shadow(0px 1px 2px rgba(0, 0, 0, 0.3));\n",
              "      fill: #FFFFFF;\n",
              "    }\n",
              "  </style>\n",
              "\n",
              "      <script>\n",
              "        const buttonEl =\n",
              "          document.querySelector('#df-af7408d3-f8c4-4268-b835-76538ce7177c button.colab-df-convert');\n",
              "        buttonEl.style.display =\n",
              "          google.colab.kernel.accessAllowed ? 'block' : 'none';\n",
              "\n",
              "        async function convertToInteractive(key) {\n",
              "          const element = document.querySelector('#df-af7408d3-f8c4-4268-b835-76538ce7177c');\n",
              "          const dataTable =\n",
              "            await google.colab.kernel.invokeFunction('convertToInteractive',\n",
              "                                                     [key], {});\n",
              "          if (!dataTable) return;\n",
              "\n",
              "          const docLinkHtml = 'Like what you see? Visit the ' +\n",
              "            '<a target=\"_blank\" href=https://colab.research.google.com/notebooks/data_table.ipynb>data table notebook</a>'\n",
              "            + ' to learn more about interactive tables.';\n",
              "          element.innerHTML = '';\n",
              "          dataTable['output_type'] = 'display_data';\n",
              "          await google.colab.output.renderOutput(dataTable, element);\n",
              "          const docLink = document.createElement('div');\n",
              "          docLink.innerHTML = docLinkHtml;\n",
              "          element.appendChild(docLink);\n",
              "        }\n",
              "      </script>\n",
              "    </div>\n",
              "  </div>\n",
              "  "
            ]
          },
          "metadata": {},
          "execution_count": 7
        }
      ]
    },
    {
      "cell_type": "code",
      "source": [
        "dataTrain.columns.values"
      ],
      "metadata": {
        "colab": {
          "base_uri": "https://localhost:8080/"
        },
        "id": "8dvMAvdiUxGt",
        "outputId": "4df7d32b-e313-4b0d-8256-3975396d747f"
      },
      "execution_count": 8,
      "outputs": [
        {
          "output_type": "execute_result",
          "data": {
            "text/plain": [
              "array(['Unnamed: 0', 'id', 'x1', 'x2', 'x3', 'y'], dtype=object)"
            ]
          },
          "metadata": {},
          "execution_count": 8
        }
      ]
    },
    {
      "cell_type": "code",
      "source": [
        "dataTest.columns.values"
      ],
      "metadata": {
        "colab": {
          "base_uri": "https://localhost:8080/"
        },
        "id": "IedJ4b_tU-jg",
        "outputId": "7cfbe87c-1709-4d0a-b063-9cd8661ae68a"
      },
      "execution_count": 9,
      "outputs": [
        {
          "output_type": "execute_result",
          "data": {
            "text/plain": [
              "array(['Unnamed: 0', 'id', 'x1', 'x2', 'x3', 'y'], dtype=object)"
            ]
          },
          "metadata": {},
          "execution_count": 9
        }
      ]
    },
    {
      "cell_type": "code",
      "source": [
        "dataTrain.info()"
      ],
      "metadata": {
        "colab": {
          "base_uri": "https://localhost:8080/"
        },
        "id": "7m6GQv_bVFXS",
        "outputId": "3cb8b0c4-234e-4522-ff97-09e258c55a42"
      },
      "execution_count": 10,
      "outputs": [
        {
          "output_type": "stream",
          "name": "stdout",
          "text": [
            "<class 'pandas.core.frame.DataFrame'>\n",
            "RangeIndex: 296 entries, 0 to 295\n",
            "Data columns (total 6 columns):\n",
            " #   Column      Non-Null Count  Dtype\n",
            "---  ------      --------------  -----\n",
            " 0   Unnamed: 0  296 non-null    int64\n",
            " 1   id          296 non-null    int64\n",
            " 2   x1          296 non-null    int64\n",
            " 3   x2          296 non-null    int64\n",
            " 4   x3          296 non-null    int64\n",
            " 5   y           296 non-null    int64\n",
            "dtypes: int64(6)\n",
            "memory usage: 14.0 KB\n"
          ]
        }
      ]
    },
    {
      "cell_type": "code",
      "source": [
        "dataTest.info()"
      ],
      "metadata": {
        "colab": {
          "base_uri": "https://localhost:8080/"
        },
        "id": "gYGymaCJVKBg",
        "outputId": "20126da7-dc66-4396-f5bb-61092d964adc"
      },
      "execution_count": 11,
      "outputs": [
        {
          "output_type": "stream",
          "name": "stdout",
          "text": [
            "<class 'pandas.core.frame.DataFrame'>\n",
            "RangeIndex: 10 entries, 0 to 9\n",
            "Data columns (total 6 columns):\n",
            " #   Column      Non-Null Count  Dtype \n",
            "---  ------      --------------  ----- \n",
            " 0   Unnamed: 0  10 non-null     int64 \n",
            " 1   id          10 non-null     int64 \n",
            " 2   x1          10 non-null     int64 \n",
            " 3   x2          10 non-null     int64 \n",
            " 4   x3          10 non-null     int64 \n",
            " 5   y           10 non-null     object\n",
            "dtypes: int64(5), object(1)\n",
            "memory usage: 608.0+ bytes\n"
          ]
        }
      ]
    },
    {
      "cell_type": "code",
      "source": [
        "dataTruth.info()"
      ],
      "metadata": {
        "colab": {
          "base_uri": "https://localhost:8080/"
        },
        "id": "0qZ7C_r_VOiL",
        "outputId": "6b1f3603-214a-49c5-c655-e43a64da5b5a"
      },
      "execution_count": 12,
      "outputs": [
        {
          "output_type": "stream",
          "name": "stdout",
          "text": [
            "<class 'pandas.core.frame.DataFrame'>\n",
            "RangeIndex: 10 entries, 0 to 9\n",
            "Data columns (total 6 columns):\n",
            " #   Column      Non-Null Count  Dtype\n",
            "---  ------      --------------  -----\n",
            " 0   Unnamed: 0  10 non-null     int64\n",
            " 1   id          10 non-null     int64\n",
            " 2   x1          10 non-null     int64\n",
            " 3   x2          10 non-null     int64\n",
            " 4   x3          10 non-null     int64\n",
            " 5   y           10 non-null     int64\n",
            "dtypes: int64(6)\n",
            "memory usage: 608.0 bytes\n"
          ]
        }
      ]
    },
    {
      "cell_type": "code",
      "source": [
        "dataTest"
      ],
      "metadata": {
        "colab": {
          "base_uri": "https://localhost:8080/",
          "height": 363
        },
        "id": "4D3WE6LRVVBh",
        "outputId": "983f8f7f-4565-406f-e093-b6f538797251"
      },
      "execution_count": 13,
      "outputs": [
        {
          "output_type": "execute_result",
          "data": {
            "text/plain": [
              "   Unnamed: 0   id  x1  x2  x3  y\n",
              "0           0  297  82  73  78  ?\n",
              "1           1  298  31  38  68  ?\n",
              "2           2  299  64  91  73  ?\n",
              "3           3  300  33  35  26  ?\n",
              "4           4  301  11  82  30  ?\n",
              "5           5  302  88  26  36  ?\n",
              "6           6  303  22  46  46  ?\n",
              "7           7  304  14  54  12  ?\n",
              "8           8  305  34  54  67  ?\n",
              "9           9  306  98  96  60  ?"
            ],
            "text/html": [
              "\n",
              "  <div id=\"df-a925835e-a6c7-4a96-a228-5ab652f8e8f8\">\n",
              "    <div class=\"colab-df-container\">\n",
              "      <div>\n",
              "<style scoped>\n",
              "    .dataframe tbody tr th:only-of-type {\n",
              "        vertical-align: middle;\n",
              "    }\n",
              "\n",
              "    .dataframe tbody tr th {\n",
              "        vertical-align: top;\n",
              "    }\n",
              "\n",
              "    .dataframe thead th {\n",
              "        text-align: right;\n",
              "    }\n",
              "</style>\n",
              "<table border=\"1\" class=\"dataframe\">\n",
              "  <thead>\n",
              "    <tr style=\"text-align: right;\">\n",
              "      <th></th>\n",
              "      <th>Unnamed: 0</th>\n",
              "      <th>id</th>\n",
              "      <th>x1</th>\n",
              "      <th>x2</th>\n",
              "      <th>x3</th>\n",
              "      <th>y</th>\n",
              "    </tr>\n",
              "  </thead>\n",
              "  <tbody>\n",
              "    <tr>\n",
              "      <th>0</th>\n",
              "      <td>0</td>\n",
              "      <td>297</td>\n",
              "      <td>82</td>\n",
              "      <td>73</td>\n",
              "      <td>78</td>\n",
              "      <td>?</td>\n",
              "    </tr>\n",
              "    <tr>\n",
              "      <th>1</th>\n",
              "      <td>1</td>\n",
              "      <td>298</td>\n",
              "      <td>31</td>\n",
              "      <td>38</td>\n",
              "      <td>68</td>\n",
              "      <td>?</td>\n",
              "    </tr>\n",
              "    <tr>\n",
              "      <th>2</th>\n",
              "      <td>2</td>\n",
              "      <td>299</td>\n",
              "      <td>64</td>\n",
              "      <td>91</td>\n",
              "      <td>73</td>\n",
              "      <td>?</td>\n",
              "    </tr>\n",
              "    <tr>\n",
              "      <th>3</th>\n",
              "      <td>3</td>\n",
              "      <td>300</td>\n",
              "      <td>33</td>\n",
              "      <td>35</td>\n",
              "      <td>26</td>\n",
              "      <td>?</td>\n",
              "    </tr>\n",
              "    <tr>\n",
              "      <th>4</th>\n",
              "      <td>4</td>\n",
              "      <td>301</td>\n",
              "      <td>11</td>\n",
              "      <td>82</td>\n",
              "      <td>30</td>\n",
              "      <td>?</td>\n",
              "    </tr>\n",
              "    <tr>\n",
              "      <th>5</th>\n",
              "      <td>5</td>\n",
              "      <td>302</td>\n",
              "      <td>88</td>\n",
              "      <td>26</td>\n",
              "      <td>36</td>\n",
              "      <td>?</td>\n",
              "    </tr>\n",
              "    <tr>\n",
              "      <th>6</th>\n",
              "      <td>6</td>\n",
              "      <td>303</td>\n",
              "      <td>22</td>\n",
              "      <td>46</td>\n",
              "      <td>46</td>\n",
              "      <td>?</td>\n",
              "    </tr>\n",
              "    <tr>\n",
              "      <th>7</th>\n",
              "      <td>7</td>\n",
              "      <td>304</td>\n",
              "      <td>14</td>\n",
              "      <td>54</td>\n",
              "      <td>12</td>\n",
              "      <td>?</td>\n",
              "    </tr>\n",
              "    <tr>\n",
              "      <th>8</th>\n",
              "      <td>8</td>\n",
              "      <td>305</td>\n",
              "      <td>34</td>\n",
              "      <td>54</td>\n",
              "      <td>67</td>\n",
              "      <td>?</td>\n",
              "    </tr>\n",
              "    <tr>\n",
              "      <th>9</th>\n",
              "      <td>9</td>\n",
              "      <td>306</td>\n",
              "      <td>98</td>\n",
              "      <td>96</td>\n",
              "      <td>60</td>\n",
              "      <td>?</td>\n",
              "    </tr>\n",
              "  </tbody>\n",
              "</table>\n",
              "</div>\n",
              "      <button class=\"colab-df-convert\" onclick=\"convertToInteractive('df-a925835e-a6c7-4a96-a228-5ab652f8e8f8')\"\n",
              "              title=\"Convert this dataframe to an interactive table.\"\n",
              "              style=\"display:none;\">\n",
              "        \n",
              "  <svg xmlns=\"http://www.w3.org/2000/svg\" height=\"24px\"viewBox=\"0 0 24 24\"\n",
              "       width=\"24px\">\n",
              "    <path d=\"M0 0h24v24H0V0z\" fill=\"none\"/>\n",
              "    <path d=\"M18.56 5.44l.94 2.06.94-2.06 2.06-.94-2.06-.94-.94-2.06-.94 2.06-2.06.94zm-11 1L8.5 8.5l.94-2.06 2.06-.94-2.06-.94L8.5 2.5l-.94 2.06-2.06.94zm10 10l.94 2.06.94-2.06 2.06-.94-2.06-.94-.94-2.06-.94 2.06-2.06.94z\"/><path d=\"M17.41 7.96l-1.37-1.37c-.4-.4-.92-.59-1.43-.59-.52 0-1.04.2-1.43.59L10.3 9.45l-7.72 7.72c-.78.78-.78 2.05 0 2.83L4 21.41c.39.39.9.59 1.41.59.51 0 1.02-.2 1.41-.59l7.78-7.78 2.81-2.81c.8-.78.8-2.07 0-2.86zM5.41 20L4 18.59l7.72-7.72 1.47 1.35L5.41 20z\"/>\n",
              "  </svg>\n",
              "      </button>\n",
              "      \n",
              "  <style>\n",
              "    .colab-df-container {\n",
              "      display:flex;\n",
              "      flex-wrap:wrap;\n",
              "      gap: 12px;\n",
              "    }\n",
              "\n",
              "    .colab-df-convert {\n",
              "      background-color: #E8F0FE;\n",
              "      border: none;\n",
              "      border-radius: 50%;\n",
              "      cursor: pointer;\n",
              "      display: none;\n",
              "      fill: #1967D2;\n",
              "      height: 32px;\n",
              "      padding: 0 0 0 0;\n",
              "      width: 32px;\n",
              "    }\n",
              "\n",
              "    .colab-df-convert:hover {\n",
              "      background-color: #E2EBFA;\n",
              "      box-shadow: 0px 1px 2px rgba(60, 64, 67, 0.3), 0px 1px 3px 1px rgba(60, 64, 67, 0.15);\n",
              "      fill: #174EA6;\n",
              "    }\n",
              "\n",
              "    [theme=dark] .colab-df-convert {\n",
              "      background-color: #3B4455;\n",
              "      fill: #D2E3FC;\n",
              "    }\n",
              "\n",
              "    [theme=dark] .colab-df-convert:hover {\n",
              "      background-color: #434B5C;\n",
              "      box-shadow: 0px 1px 3px 1px rgba(0, 0, 0, 0.15);\n",
              "      filter: drop-shadow(0px 1px 2px rgba(0, 0, 0, 0.3));\n",
              "      fill: #FFFFFF;\n",
              "    }\n",
              "  </style>\n",
              "\n",
              "      <script>\n",
              "        const buttonEl =\n",
              "          document.querySelector('#df-a925835e-a6c7-4a96-a228-5ab652f8e8f8 button.colab-df-convert');\n",
              "        buttonEl.style.display =\n",
              "          google.colab.kernel.accessAllowed ? 'block' : 'none';\n",
              "\n",
              "        async function convertToInteractive(key) {\n",
              "          const element = document.querySelector('#df-a925835e-a6c7-4a96-a228-5ab652f8e8f8');\n",
              "          const dataTable =\n",
              "            await google.colab.kernel.invokeFunction('convertToInteractive',\n",
              "                                                     [key], {});\n",
              "          if (!dataTable) return;\n",
              "\n",
              "          const docLinkHtml = 'Like what you see? Visit the ' +\n",
              "            '<a target=\"_blank\" href=https://colab.research.google.com/notebooks/data_table.ipynb>data table notebook</a>'\n",
              "            + ' to learn more about interactive tables.';\n",
              "          element.innerHTML = '';\n",
              "          dataTable['output_type'] = 'display_data';\n",
              "          await google.colab.output.renderOutput(dataTable, element);\n",
              "          const docLink = document.createElement('div');\n",
              "          docLink.innerHTML = docLinkHtml;\n",
              "          element.appendChild(docLink);\n",
              "        }\n",
              "      </script>\n",
              "    </div>\n",
              "  </div>\n",
              "  "
            ]
          },
          "metadata": {},
          "execution_count": 13
        }
      ]
    },
    {
      "cell_type": "code",
      "source": [
        "dataTrain = dataTrain.drop([\"Unnamed: 0\"],axis=1)\n",
        "dataTest = dataTest.drop([\"Unnamed: 0\"],axis=1)\n",
        "dataTruth = dataTruth.drop([\"Unnamed: 0\"],axis=1)"
      ],
      "metadata": {
        "id": "X3Hiw_vbWG2X"
      },
      "execution_count": 14,
      "outputs": []
    },
    {
      "cell_type": "code",
      "source": [
        "dataTest"
      ],
      "metadata": {
        "colab": {
          "base_uri": "https://localhost:8080/",
          "height": 363
        },
        "id": "L8zWHFPnWeKz",
        "outputId": "f8184c2e-7d6b-443c-a0c2-4611a43f3e0f"
      },
      "execution_count": 15,
      "outputs": [
        {
          "output_type": "execute_result",
          "data": {
            "text/plain": [
              "    id  x1  x2  x3  y\n",
              "0  297  82  73  78  ?\n",
              "1  298  31  38  68  ?\n",
              "2  299  64  91  73  ?\n",
              "3  300  33  35  26  ?\n",
              "4  301  11  82  30  ?\n",
              "5  302  88  26  36  ?\n",
              "6  303  22  46  46  ?\n",
              "7  304  14  54  12  ?\n",
              "8  305  34  54  67  ?\n",
              "9  306  98  96  60  ?"
            ],
            "text/html": [
              "\n",
              "  <div id=\"df-d9d55a21-2753-4008-8b19-99b293391df1\">\n",
              "    <div class=\"colab-df-container\">\n",
              "      <div>\n",
              "<style scoped>\n",
              "    .dataframe tbody tr th:only-of-type {\n",
              "        vertical-align: middle;\n",
              "    }\n",
              "\n",
              "    .dataframe tbody tr th {\n",
              "        vertical-align: top;\n",
              "    }\n",
              "\n",
              "    .dataframe thead th {\n",
              "        text-align: right;\n",
              "    }\n",
              "</style>\n",
              "<table border=\"1\" class=\"dataframe\">\n",
              "  <thead>\n",
              "    <tr style=\"text-align: right;\">\n",
              "      <th></th>\n",
              "      <th>id</th>\n",
              "      <th>x1</th>\n",
              "      <th>x2</th>\n",
              "      <th>x3</th>\n",
              "      <th>y</th>\n",
              "    </tr>\n",
              "  </thead>\n",
              "  <tbody>\n",
              "    <tr>\n",
              "      <th>0</th>\n",
              "      <td>297</td>\n",
              "      <td>82</td>\n",
              "      <td>73</td>\n",
              "      <td>78</td>\n",
              "      <td>?</td>\n",
              "    </tr>\n",
              "    <tr>\n",
              "      <th>1</th>\n",
              "      <td>298</td>\n",
              "      <td>31</td>\n",
              "      <td>38</td>\n",
              "      <td>68</td>\n",
              "      <td>?</td>\n",
              "    </tr>\n",
              "    <tr>\n",
              "      <th>2</th>\n",
              "      <td>299</td>\n",
              "      <td>64</td>\n",
              "      <td>91</td>\n",
              "      <td>73</td>\n",
              "      <td>?</td>\n",
              "    </tr>\n",
              "    <tr>\n",
              "      <th>3</th>\n",
              "      <td>300</td>\n",
              "      <td>33</td>\n",
              "      <td>35</td>\n",
              "      <td>26</td>\n",
              "      <td>?</td>\n",
              "    </tr>\n",
              "    <tr>\n",
              "      <th>4</th>\n",
              "      <td>301</td>\n",
              "      <td>11</td>\n",
              "      <td>82</td>\n",
              "      <td>30</td>\n",
              "      <td>?</td>\n",
              "    </tr>\n",
              "    <tr>\n",
              "      <th>5</th>\n",
              "      <td>302</td>\n",
              "      <td>88</td>\n",
              "      <td>26</td>\n",
              "      <td>36</td>\n",
              "      <td>?</td>\n",
              "    </tr>\n",
              "    <tr>\n",
              "      <th>6</th>\n",
              "      <td>303</td>\n",
              "      <td>22</td>\n",
              "      <td>46</td>\n",
              "      <td>46</td>\n",
              "      <td>?</td>\n",
              "    </tr>\n",
              "    <tr>\n",
              "      <th>7</th>\n",
              "      <td>304</td>\n",
              "      <td>14</td>\n",
              "      <td>54</td>\n",
              "      <td>12</td>\n",
              "      <td>?</td>\n",
              "    </tr>\n",
              "    <tr>\n",
              "      <th>8</th>\n",
              "      <td>305</td>\n",
              "      <td>34</td>\n",
              "      <td>54</td>\n",
              "      <td>67</td>\n",
              "      <td>?</td>\n",
              "    </tr>\n",
              "    <tr>\n",
              "      <th>9</th>\n",
              "      <td>306</td>\n",
              "      <td>98</td>\n",
              "      <td>96</td>\n",
              "      <td>60</td>\n",
              "      <td>?</td>\n",
              "    </tr>\n",
              "  </tbody>\n",
              "</table>\n",
              "</div>\n",
              "      <button class=\"colab-df-convert\" onclick=\"convertToInteractive('df-d9d55a21-2753-4008-8b19-99b293391df1')\"\n",
              "              title=\"Convert this dataframe to an interactive table.\"\n",
              "              style=\"display:none;\">\n",
              "        \n",
              "  <svg xmlns=\"http://www.w3.org/2000/svg\" height=\"24px\"viewBox=\"0 0 24 24\"\n",
              "       width=\"24px\">\n",
              "    <path d=\"M0 0h24v24H0V0z\" fill=\"none\"/>\n",
              "    <path d=\"M18.56 5.44l.94 2.06.94-2.06 2.06-.94-2.06-.94-.94-2.06-.94 2.06-2.06.94zm-11 1L8.5 8.5l.94-2.06 2.06-.94-2.06-.94L8.5 2.5l-.94 2.06-2.06.94zm10 10l.94 2.06.94-2.06 2.06-.94-2.06-.94-.94-2.06-.94 2.06-2.06.94z\"/><path d=\"M17.41 7.96l-1.37-1.37c-.4-.4-.92-.59-1.43-.59-.52 0-1.04.2-1.43.59L10.3 9.45l-7.72 7.72c-.78.78-.78 2.05 0 2.83L4 21.41c.39.39.9.59 1.41.59.51 0 1.02-.2 1.41-.59l7.78-7.78 2.81-2.81c.8-.78.8-2.07 0-2.86zM5.41 20L4 18.59l7.72-7.72 1.47 1.35L5.41 20z\"/>\n",
              "  </svg>\n",
              "      </button>\n",
              "      \n",
              "  <style>\n",
              "    .colab-df-container {\n",
              "      display:flex;\n",
              "      flex-wrap:wrap;\n",
              "      gap: 12px;\n",
              "    }\n",
              "\n",
              "    .colab-df-convert {\n",
              "      background-color: #E8F0FE;\n",
              "      border: none;\n",
              "      border-radius: 50%;\n",
              "      cursor: pointer;\n",
              "      display: none;\n",
              "      fill: #1967D2;\n",
              "      height: 32px;\n",
              "      padding: 0 0 0 0;\n",
              "      width: 32px;\n",
              "    }\n",
              "\n",
              "    .colab-df-convert:hover {\n",
              "      background-color: #E2EBFA;\n",
              "      box-shadow: 0px 1px 2px rgba(60, 64, 67, 0.3), 0px 1px 3px 1px rgba(60, 64, 67, 0.15);\n",
              "      fill: #174EA6;\n",
              "    }\n",
              "\n",
              "    [theme=dark] .colab-df-convert {\n",
              "      background-color: #3B4455;\n",
              "      fill: #D2E3FC;\n",
              "    }\n",
              "\n",
              "    [theme=dark] .colab-df-convert:hover {\n",
              "      background-color: #434B5C;\n",
              "      box-shadow: 0px 1px 3px 1px rgba(0, 0, 0, 0.15);\n",
              "      filter: drop-shadow(0px 1px 2px rgba(0, 0, 0, 0.3));\n",
              "      fill: #FFFFFF;\n",
              "    }\n",
              "  </style>\n",
              "\n",
              "      <script>\n",
              "        const buttonEl =\n",
              "          document.querySelector('#df-d9d55a21-2753-4008-8b19-99b293391df1 button.colab-df-convert');\n",
              "        buttonEl.style.display =\n",
              "          google.colab.kernel.accessAllowed ? 'block' : 'none';\n",
              "\n",
              "        async function convertToInteractive(key) {\n",
              "          const element = document.querySelector('#df-d9d55a21-2753-4008-8b19-99b293391df1');\n",
              "          const dataTable =\n",
              "            await google.colab.kernel.invokeFunction('convertToInteractive',\n",
              "                                                     [key], {});\n",
              "          if (!dataTable) return;\n",
              "\n",
              "          const docLinkHtml = 'Like what you see? Visit the ' +\n",
              "            '<a target=\"_blank\" href=https://colab.research.google.com/notebooks/data_table.ipynb>data table notebook</a>'\n",
              "            + ' to learn more about interactive tables.';\n",
              "          element.innerHTML = '';\n",
              "          dataTable['output_type'] = 'display_data';\n",
              "          await google.colab.output.renderOutput(dataTable, element);\n",
              "          const docLink = document.createElement('div');\n",
              "          docLink.innerHTML = docLinkHtml;\n",
              "          element.appendChild(docLink);\n",
              "        }\n",
              "      </script>\n",
              "    </div>\n",
              "  </div>\n",
              "  "
            ]
          },
          "metadata": {},
          "execution_count": 15
        }
      ]
    },
    {
      "cell_type": "code",
      "source": [
        "#Fungsi Normalisasi\n",
        "def norm(allData, columnTarget):\n",
        "  for column in columnTarget:\n",
        "    allData[column] = (allData[column]-allData[column].min()) / (allData[column].max()-allData[column].min())\n",
        "    \n",
        "  return allData"
      ],
      "metadata": {
        "id": "-mY_34cDYU0z"
      },
      "execution_count": 16,
      "outputs": []
    },
    {
      "cell_type": "code",
      "source": [
        "testStartID = dataTrain.index.stop\n",
        "allData = pd.concat([dataTrain, dataTest])\n",
        "allData = norm(allData, ['x1','x2','x3'])\n",
        "normTrain, normTest = allData.iloc[:testStartID].drop('id',axis=1), allData.iloc[:testStartID].drop('id',axis=1)"
      ],
      "metadata": {
        "id": "BSPdw4V7Zaoe"
      },
      "execution_count": 17,
      "outputs": []
    },
    {
      "cell_type": "code",
      "source": [
        "normTrain.head()"
      ],
      "metadata": {
        "colab": {
          "base_uri": "https://localhost:8080/",
          "height": 206
        },
        "id": "l_V3s6ziaeTG",
        "outputId": "24175247-0c97-4c56-cf58-17582266c026"
      },
      "execution_count": 18,
      "outputs": [
        {
          "output_type": "execute_result",
          "data": {
            "text/plain": [
              "     x1    x2    x3  y\n",
              "0  0.93  0.71  0.48  1\n",
              "1  0.35  0.67  0.87  1\n",
              "2  0.66  0.97  0.27  0\n",
              "3  0.43  0.35  0.24  1\n",
              "4  0.15  0.85  0.86  0"
            ],
            "text/html": [
              "\n",
              "  <div id=\"df-574e9157-ef3f-4f42-9ce5-834dbfcf676a\">\n",
              "    <div class=\"colab-df-container\">\n",
              "      <div>\n",
              "<style scoped>\n",
              "    .dataframe tbody tr th:only-of-type {\n",
              "        vertical-align: middle;\n",
              "    }\n",
              "\n",
              "    .dataframe tbody tr th {\n",
              "        vertical-align: top;\n",
              "    }\n",
              "\n",
              "    .dataframe thead th {\n",
              "        text-align: right;\n",
              "    }\n",
              "</style>\n",
              "<table border=\"1\" class=\"dataframe\">\n",
              "  <thead>\n",
              "    <tr style=\"text-align: right;\">\n",
              "      <th></th>\n",
              "      <th>x1</th>\n",
              "      <th>x2</th>\n",
              "      <th>x3</th>\n",
              "      <th>y</th>\n",
              "    </tr>\n",
              "  </thead>\n",
              "  <tbody>\n",
              "    <tr>\n",
              "      <th>0</th>\n",
              "      <td>0.93</td>\n",
              "      <td>0.71</td>\n",
              "      <td>0.48</td>\n",
              "      <td>1</td>\n",
              "    </tr>\n",
              "    <tr>\n",
              "      <th>1</th>\n",
              "      <td>0.35</td>\n",
              "      <td>0.67</td>\n",
              "      <td>0.87</td>\n",
              "      <td>1</td>\n",
              "    </tr>\n",
              "    <tr>\n",
              "      <th>2</th>\n",
              "      <td>0.66</td>\n",
              "      <td>0.97</td>\n",
              "      <td>0.27</td>\n",
              "      <td>0</td>\n",
              "    </tr>\n",
              "    <tr>\n",
              "      <th>3</th>\n",
              "      <td>0.43</td>\n",
              "      <td>0.35</td>\n",
              "      <td>0.24</td>\n",
              "      <td>1</td>\n",
              "    </tr>\n",
              "    <tr>\n",
              "      <th>4</th>\n",
              "      <td>0.15</td>\n",
              "      <td>0.85</td>\n",
              "      <td>0.86</td>\n",
              "      <td>0</td>\n",
              "    </tr>\n",
              "  </tbody>\n",
              "</table>\n",
              "</div>\n",
              "      <button class=\"colab-df-convert\" onclick=\"convertToInteractive('df-574e9157-ef3f-4f42-9ce5-834dbfcf676a')\"\n",
              "              title=\"Convert this dataframe to an interactive table.\"\n",
              "              style=\"display:none;\">\n",
              "        \n",
              "  <svg xmlns=\"http://www.w3.org/2000/svg\" height=\"24px\"viewBox=\"0 0 24 24\"\n",
              "       width=\"24px\">\n",
              "    <path d=\"M0 0h24v24H0V0z\" fill=\"none\"/>\n",
              "    <path d=\"M18.56 5.44l.94 2.06.94-2.06 2.06-.94-2.06-.94-.94-2.06-.94 2.06-2.06.94zm-11 1L8.5 8.5l.94-2.06 2.06-.94-2.06-.94L8.5 2.5l-.94 2.06-2.06.94zm10 10l.94 2.06.94-2.06 2.06-.94-2.06-.94-.94-2.06-.94 2.06-2.06.94z\"/><path d=\"M17.41 7.96l-1.37-1.37c-.4-.4-.92-.59-1.43-.59-.52 0-1.04.2-1.43.59L10.3 9.45l-7.72 7.72c-.78.78-.78 2.05 0 2.83L4 21.41c.39.39.9.59 1.41.59.51 0 1.02-.2 1.41-.59l7.78-7.78 2.81-2.81c.8-.78.8-2.07 0-2.86zM5.41 20L4 18.59l7.72-7.72 1.47 1.35L5.41 20z\"/>\n",
              "  </svg>\n",
              "      </button>\n",
              "      \n",
              "  <style>\n",
              "    .colab-df-container {\n",
              "      display:flex;\n",
              "      flex-wrap:wrap;\n",
              "      gap: 12px;\n",
              "    }\n",
              "\n",
              "    .colab-df-convert {\n",
              "      background-color: #E8F0FE;\n",
              "      border: none;\n",
              "      border-radius: 50%;\n",
              "      cursor: pointer;\n",
              "      display: none;\n",
              "      fill: #1967D2;\n",
              "      height: 32px;\n",
              "      padding: 0 0 0 0;\n",
              "      width: 32px;\n",
              "    }\n",
              "\n",
              "    .colab-df-convert:hover {\n",
              "      background-color: #E2EBFA;\n",
              "      box-shadow: 0px 1px 2px rgba(60, 64, 67, 0.3), 0px 1px 3px 1px rgba(60, 64, 67, 0.15);\n",
              "      fill: #174EA6;\n",
              "    }\n",
              "\n",
              "    [theme=dark] .colab-df-convert {\n",
              "      background-color: #3B4455;\n",
              "      fill: #D2E3FC;\n",
              "    }\n",
              "\n",
              "    [theme=dark] .colab-df-convert:hover {\n",
              "      background-color: #434B5C;\n",
              "      box-shadow: 0px 1px 3px 1px rgba(0, 0, 0, 0.15);\n",
              "      filter: drop-shadow(0px 1px 2px rgba(0, 0, 0, 0.3));\n",
              "      fill: #FFFFFF;\n",
              "    }\n",
              "  </style>\n",
              "\n",
              "      <script>\n",
              "        const buttonEl =\n",
              "          document.querySelector('#df-574e9157-ef3f-4f42-9ce5-834dbfcf676a button.colab-df-convert');\n",
              "        buttonEl.style.display =\n",
              "          google.colab.kernel.accessAllowed ? 'block' : 'none';\n",
              "\n",
              "        async function convertToInteractive(key) {\n",
              "          const element = document.querySelector('#df-574e9157-ef3f-4f42-9ce5-834dbfcf676a');\n",
              "          const dataTable =\n",
              "            await google.colab.kernel.invokeFunction('convertToInteractive',\n",
              "                                                     [key], {});\n",
              "          if (!dataTable) return;\n",
              "\n",
              "          const docLinkHtml = 'Like what you see? Visit the ' +\n",
              "            '<a target=\"_blank\" href=https://colab.research.google.com/notebooks/data_table.ipynb>data table notebook</a>'\n",
              "            + ' to learn more about interactive tables.';\n",
              "          element.innerHTML = '';\n",
              "          dataTable['output_type'] = 'display_data';\n",
              "          await google.colab.output.renderOutput(dataTable, element);\n",
              "          const docLink = document.createElement('div');\n",
              "          docLink.innerHTML = docLinkHtml;\n",
              "          element.appendChild(docLink);\n",
              "        }\n",
              "      </script>\n",
              "    </div>\n",
              "  </div>\n",
              "  "
            ]
          },
          "metadata": {},
          "execution_count": 18
        }
      ]
    },
    {
      "cell_type": "code",
      "source": [
        "#Standarisasi\n",
        "def stdz(allData, columnTarget):\n",
        "  for column in columnTarget:\n",
        "    allData[column] = (allData[column]-allData[column].mean()) / allData[column].std()\n",
        "\n",
        "  return allData"
      ],
      "metadata": {
        "id": "k_xzBk_Ma5zF"
      },
      "execution_count": 19,
      "outputs": []
    },
    {
      "cell_type": "code",
      "source": [
        "testStartID = dataTrain.index.stop\n",
        "allData = pd.concat([dataTrain, dataTest])\n",
        "allData = stdz(allData, ['x1','x2','x3'])\n",
        "stdzTrain, stdzTest = allData.iloc[:testStartID].drop('id',axis=1), allData.iloc[:testStartID].drop('id',axis=1)"
      ],
      "metadata": {
        "id": "M_v0wHx0b9Zf"
      },
      "execution_count": 20,
      "outputs": []
    },
    {
      "cell_type": "code",
      "source": [
        "stdzTrain.head()"
      ],
      "metadata": {
        "colab": {
          "base_uri": "https://localhost:8080/",
          "height": 206
        },
        "id": "7DA5oH9NcM4c",
        "outputId": "1413911d-be66-417b-87a6-5bd0cfb97b54"
      },
      "execution_count": 21,
      "outputs": [
        {
          "output_type": "execute_result",
          "data": {
            "text/plain": [
              "         x1        x2        x3  y\n",
              "0  1.462804  0.628762  0.036067  1\n",
              "1 -0.466441  0.495728  1.368636  1\n",
              "2  0.564707  1.493487 -0.681470  0\n",
              "3 -0.200338 -0.568549 -0.783976  1\n",
              "4 -1.131697  1.094383  1.334467  0"
            ],
            "text/html": [
              "\n",
              "  <div id=\"df-392278cc-0c2d-4fcc-8ec0-9476f9debbd0\">\n",
              "    <div class=\"colab-df-container\">\n",
              "      <div>\n",
              "<style scoped>\n",
              "    .dataframe tbody tr th:only-of-type {\n",
              "        vertical-align: middle;\n",
              "    }\n",
              "\n",
              "    .dataframe tbody tr th {\n",
              "        vertical-align: top;\n",
              "    }\n",
              "\n",
              "    .dataframe thead th {\n",
              "        text-align: right;\n",
              "    }\n",
              "</style>\n",
              "<table border=\"1\" class=\"dataframe\">\n",
              "  <thead>\n",
              "    <tr style=\"text-align: right;\">\n",
              "      <th></th>\n",
              "      <th>x1</th>\n",
              "      <th>x2</th>\n",
              "      <th>x3</th>\n",
              "      <th>y</th>\n",
              "    </tr>\n",
              "  </thead>\n",
              "  <tbody>\n",
              "    <tr>\n",
              "      <th>0</th>\n",
              "      <td>1.462804</td>\n",
              "      <td>0.628762</td>\n",
              "      <td>0.036067</td>\n",
              "      <td>1</td>\n",
              "    </tr>\n",
              "    <tr>\n",
              "      <th>1</th>\n",
              "      <td>-0.466441</td>\n",
              "      <td>0.495728</td>\n",
              "      <td>1.368636</td>\n",
              "      <td>1</td>\n",
              "    </tr>\n",
              "    <tr>\n",
              "      <th>2</th>\n",
              "      <td>0.564707</td>\n",
              "      <td>1.493487</td>\n",
              "      <td>-0.681470</td>\n",
              "      <td>0</td>\n",
              "    </tr>\n",
              "    <tr>\n",
              "      <th>3</th>\n",
              "      <td>-0.200338</td>\n",
              "      <td>-0.568549</td>\n",
              "      <td>-0.783976</td>\n",
              "      <td>1</td>\n",
              "    </tr>\n",
              "    <tr>\n",
              "      <th>4</th>\n",
              "      <td>-1.131697</td>\n",
              "      <td>1.094383</td>\n",
              "      <td>1.334467</td>\n",
              "      <td>0</td>\n",
              "    </tr>\n",
              "  </tbody>\n",
              "</table>\n",
              "</div>\n",
              "      <button class=\"colab-df-convert\" onclick=\"convertToInteractive('df-392278cc-0c2d-4fcc-8ec0-9476f9debbd0')\"\n",
              "              title=\"Convert this dataframe to an interactive table.\"\n",
              "              style=\"display:none;\">\n",
              "        \n",
              "  <svg xmlns=\"http://www.w3.org/2000/svg\" height=\"24px\"viewBox=\"0 0 24 24\"\n",
              "       width=\"24px\">\n",
              "    <path d=\"M0 0h24v24H0V0z\" fill=\"none\"/>\n",
              "    <path d=\"M18.56 5.44l.94 2.06.94-2.06 2.06-.94-2.06-.94-.94-2.06-.94 2.06-2.06.94zm-11 1L8.5 8.5l.94-2.06 2.06-.94-2.06-.94L8.5 2.5l-.94 2.06-2.06.94zm10 10l.94 2.06.94-2.06 2.06-.94-2.06-.94-.94-2.06-.94 2.06-2.06.94z\"/><path d=\"M17.41 7.96l-1.37-1.37c-.4-.4-.92-.59-1.43-.59-.52 0-1.04.2-1.43.59L10.3 9.45l-7.72 7.72c-.78.78-.78 2.05 0 2.83L4 21.41c.39.39.9.59 1.41.59.51 0 1.02-.2 1.41-.59l7.78-7.78 2.81-2.81c.8-.78.8-2.07 0-2.86zM5.41 20L4 18.59l7.72-7.72 1.47 1.35L5.41 20z\"/>\n",
              "  </svg>\n",
              "      </button>\n",
              "      \n",
              "  <style>\n",
              "    .colab-df-container {\n",
              "      display:flex;\n",
              "      flex-wrap:wrap;\n",
              "      gap: 12px;\n",
              "    }\n",
              "\n",
              "    .colab-df-convert {\n",
              "      background-color: #E8F0FE;\n",
              "      border: none;\n",
              "      border-radius: 50%;\n",
              "      cursor: pointer;\n",
              "      display: none;\n",
              "      fill: #1967D2;\n",
              "      height: 32px;\n",
              "      padding: 0 0 0 0;\n",
              "      width: 32px;\n",
              "    }\n",
              "\n",
              "    .colab-df-convert:hover {\n",
              "      background-color: #E2EBFA;\n",
              "      box-shadow: 0px 1px 2px rgba(60, 64, 67, 0.3), 0px 1px 3px 1px rgba(60, 64, 67, 0.15);\n",
              "      fill: #174EA6;\n",
              "    }\n",
              "\n",
              "    [theme=dark] .colab-df-convert {\n",
              "      background-color: #3B4455;\n",
              "      fill: #D2E3FC;\n",
              "    }\n",
              "\n",
              "    [theme=dark] .colab-df-convert:hover {\n",
              "      background-color: #434B5C;\n",
              "      box-shadow: 0px 1px 3px 1px rgba(0, 0, 0, 0.15);\n",
              "      filter: drop-shadow(0px 1px 2px rgba(0, 0, 0, 0.3));\n",
              "      fill: #FFFFFF;\n",
              "    }\n",
              "  </style>\n",
              "\n",
              "      <script>\n",
              "        const buttonEl =\n",
              "          document.querySelector('#df-392278cc-0c2d-4fcc-8ec0-9476f9debbd0 button.colab-df-convert');\n",
              "        buttonEl.style.display =\n",
              "          google.colab.kernel.accessAllowed ? 'block' : 'none';\n",
              "\n",
              "        async function convertToInteractive(key) {\n",
              "          const element = document.querySelector('#df-392278cc-0c2d-4fcc-8ec0-9476f9debbd0');\n",
              "          const dataTable =\n",
              "            await google.colab.kernel.invokeFunction('convertToInteractive',\n",
              "                                                     [key], {});\n",
              "          if (!dataTable) return;\n",
              "\n",
              "          const docLinkHtml = 'Like what you see? Visit the ' +\n",
              "            '<a target=\"_blank\" href=https://colab.research.google.com/notebooks/data_table.ipynb>data table notebook</a>'\n",
              "            + ' to learn more about interactive tables.';\n",
              "          element.innerHTML = '';\n",
              "          dataTable['output_type'] = 'display_data';\n",
              "          await google.colab.output.renderOutput(dataTable, element);\n",
              "          const docLink = document.createElement('div');\n",
              "          docLink.innerHTML = docLinkHtml;\n",
              "          element.appendChild(docLink);\n",
              "        }\n",
              "      </script>\n",
              "    </div>\n",
              "  </div>\n",
              "  "
            ]
          },
          "metadata": {},
          "execution_count": 21
        }
      ]
    },
    {
      "cell_type": "code",
      "source": [
        "def prb(mean, std, x):\n",
        "  exponent = math.exp(-((x-mean)**2 / (2 * std**2)))\n",
        "  return (1/(math.sqrt(2*math.pi)*std)) * exponent"
      ],
      "metadata": {
        "id": "jefKfjIqd14I"
      },
      "execution_count": 22,
      "outputs": []
    },
    {
      "cell_type": "code",
      "source": [
        "def splitT(dataTrain, columnTarget):\n",
        "  truthData = []\n",
        "  for truth in dataTrain[columnTarget].unique():\n",
        "    truthData.append(dataTrain.where(dataTrain[columnTarget] == truth).dropna())\n",
        "  return truthData\n",
        "\n",
        "yesData, noData = splitT(dataTrain, columnTarget='y')"
      ],
      "metadata": {
        "id": "GLL-MCvphbzl"
      },
      "execution_count": 23,
      "outputs": []
    },
    {
      "cell_type": "code",
      "source": [
        "yesData.head()"
      ],
      "metadata": {
        "colab": {
          "base_uri": "https://localhost:8080/",
          "height": 206
        },
        "id": "jcA3GhtbiU_7",
        "outputId": "b9a41603-1ed5-4552-ee04-3857b632554d"
      },
      "execution_count": 24,
      "outputs": [
        {
          "output_type": "execute_result",
          "data": {
            "text/plain": [
              "      id    x1    x2    x3    y\n",
              "0    1.0  93.0  71.0  48.0  1.0\n",
              "1    2.0  35.0  67.0  87.0  1.0\n",
              "3    4.0  43.0  35.0  24.0  1.0\n",
              "6    7.0  36.0  17.0  11.0  1.0\n",
              "10  11.0  69.0  29.0   9.0  1.0"
            ],
            "text/html": [
              "\n",
              "  <div id=\"df-471ba3db-5440-47bb-b25a-b3c3b97d08ae\">\n",
              "    <div class=\"colab-df-container\">\n",
              "      <div>\n",
              "<style scoped>\n",
              "    .dataframe tbody tr th:only-of-type {\n",
              "        vertical-align: middle;\n",
              "    }\n",
              "\n",
              "    .dataframe tbody tr th {\n",
              "        vertical-align: top;\n",
              "    }\n",
              "\n",
              "    .dataframe thead th {\n",
              "        text-align: right;\n",
              "    }\n",
              "</style>\n",
              "<table border=\"1\" class=\"dataframe\">\n",
              "  <thead>\n",
              "    <tr style=\"text-align: right;\">\n",
              "      <th></th>\n",
              "      <th>id</th>\n",
              "      <th>x1</th>\n",
              "      <th>x2</th>\n",
              "      <th>x3</th>\n",
              "      <th>y</th>\n",
              "    </tr>\n",
              "  </thead>\n",
              "  <tbody>\n",
              "    <tr>\n",
              "      <th>0</th>\n",
              "      <td>1.0</td>\n",
              "      <td>93.0</td>\n",
              "      <td>71.0</td>\n",
              "      <td>48.0</td>\n",
              "      <td>1.0</td>\n",
              "    </tr>\n",
              "    <tr>\n",
              "      <th>1</th>\n",
              "      <td>2.0</td>\n",
              "      <td>35.0</td>\n",
              "      <td>67.0</td>\n",
              "      <td>87.0</td>\n",
              "      <td>1.0</td>\n",
              "    </tr>\n",
              "    <tr>\n",
              "      <th>3</th>\n",
              "      <td>4.0</td>\n",
              "      <td>43.0</td>\n",
              "      <td>35.0</td>\n",
              "      <td>24.0</td>\n",
              "      <td>1.0</td>\n",
              "    </tr>\n",
              "    <tr>\n",
              "      <th>6</th>\n",
              "      <td>7.0</td>\n",
              "      <td>36.0</td>\n",
              "      <td>17.0</td>\n",
              "      <td>11.0</td>\n",
              "      <td>1.0</td>\n",
              "    </tr>\n",
              "    <tr>\n",
              "      <th>10</th>\n",
              "      <td>11.0</td>\n",
              "      <td>69.0</td>\n",
              "      <td>29.0</td>\n",
              "      <td>9.0</td>\n",
              "      <td>1.0</td>\n",
              "    </tr>\n",
              "  </tbody>\n",
              "</table>\n",
              "</div>\n",
              "      <button class=\"colab-df-convert\" onclick=\"convertToInteractive('df-471ba3db-5440-47bb-b25a-b3c3b97d08ae')\"\n",
              "              title=\"Convert this dataframe to an interactive table.\"\n",
              "              style=\"display:none;\">\n",
              "        \n",
              "  <svg xmlns=\"http://www.w3.org/2000/svg\" height=\"24px\"viewBox=\"0 0 24 24\"\n",
              "       width=\"24px\">\n",
              "    <path d=\"M0 0h24v24H0V0z\" fill=\"none\"/>\n",
              "    <path d=\"M18.56 5.44l.94 2.06.94-2.06 2.06-.94-2.06-.94-.94-2.06-.94 2.06-2.06.94zm-11 1L8.5 8.5l.94-2.06 2.06-.94-2.06-.94L8.5 2.5l-.94 2.06-2.06.94zm10 10l.94 2.06.94-2.06 2.06-.94-2.06-.94-.94-2.06-.94 2.06-2.06.94z\"/><path d=\"M17.41 7.96l-1.37-1.37c-.4-.4-.92-.59-1.43-.59-.52 0-1.04.2-1.43.59L10.3 9.45l-7.72 7.72c-.78.78-.78 2.05 0 2.83L4 21.41c.39.39.9.59 1.41.59.51 0 1.02-.2 1.41-.59l7.78-7.78 2.81-2.81c.8-.78.8-2.07 0-2.86zM5.41 20L4 18.59l7.72-7.72 1.47 1.35L5.41 20z\"/>\n",
              "  </svg>\n",
              "      </button>\n",
              "      \n",
              "  <style>\n",
              "    .colab-df-container {\n",
              "      display:flex;\n",
              "      flex-wrap:wrap;\n",
              "      gap: 12px;\n",
              "    }\n",
              "\n",
              "    .colab-df-convert {\n",
              "      background-color: #E8F0FE;\n",
              "      border: none;\n",
              "      border-radius: 50%;\n",
              "      cursor: pointer;\n",
              "      display: none;\n",
              "      fill: #1967D2;\n",
              "      height: 32px;\n",
              "      padding: 0 0 0 0;\n",
              "      width: 32px;\n",
              "    }\n",
              "\n",
              "    .colab-df-convert:hover {\n",
              "      background-color: #E2EBFA;\n",
              "      box-shadow: 0px 1px 2px rgba(60, 64, 67, 0.3), 0px 1px 3px 1px rgba(60, 64, 67, 0.15);\n",
              "      fill: #174EA6;\n",
              "    }\n",
              "\n",
              "    [theme=dark] .colab-df-convert {\n",
              "      background-color: #3B4455;\n",
              "      fill: #D2E3FC;\n",
              "    }\n",
              "\n",
              "    [theme=dark] .colab-df-convert:hover {\n",
              "      background-color: #434B5C;\n",
              "      box-shadow: 0px 1px 3px 1px rgba(0, 0, 0, 0.15);\n",
              "      filter: drop-shadow(0px 1px 2px rgba(0, 0, 0, 0.3));\n",
              "      fill: #FFFFFF;\n",
              "    }\n",
              "  </style>\n",
              "\n",
              "      <script>\n",
              "        const buttonEl =\n",
              "          document.querySelector('#df-471ba3db-5440-47bb-b25a-b3c3b97d08ae button.colab-df-convert');\n",
              "        buttonEl.style.display =\n",
              "          google.colab.kernel.accessAllowed ? 'block' : 'none';\n",
              "\n",
              "        async function convertToInteractive(key) {\n",
              "          const element = document.querySelector('#df-471ba3db-5440-47bb-b25a-b3c3b97d08ae');\n",
              "          const dataTable =\n",
              "            await google.colab.kernel.invokeFunction('convertToInteractive',\n",
              "                                                     [key], {});\n",
              "          if (!dataTable) return;\n",
              "\n",
              "          const docLinkHtml = 'Like what you see? Visit the ' +\n",
              "            '<a target=\"_blank\" href=https://colab.research.google.com/notebooks/data_table.ipynb>data table notebook</a>'\n",
              "            + ' to learn more about interactive tables.';\n",
              "          element.innerHTML = '';\n",
              "          dataTable['output_type'] = 'display_data';\n",
              "          await google.colab.output.renderOutput(dataTable, element);\n",
              "          const docLink = document.createElement('div');\n",
              "          docLink.innerHTML = docLinkHtml;\n",
              "          element.appendChild(docLink);\n",
              "        }\n",
              "      </script>\n",
              "    </div>\n",
              "  </div>\n",
              "  "
            ]
          },
          "metadata": {},
          "execution_count": 24
        }
      ]
    },
    {
      "cell_type": "code",
      "source": [
        "noData.head()"
      ],
      "metadata": {
        "colab": {
          "base_uri": "https://localhost:8080/",
          "height": 206
        },
        "id": "r2J6B5e5iboC",
        "outputId": "b778d0d0-595f-4974-f0fe-286af42b22f0"
      },
      "execution_count": 25,
      "outputs": [
        {
          "output_type": "execute_result",
          "data": {
            "text/plain": [
              "    id    x1     x2    x3    y\n",
              "2  3.0  66.0   97.0  27.0  0.0\n",
              "4  5.0  15.0   85.0  86.0  0.0\n",
              "5  6.0  63.0    6.0  39.0  0.0\n",
              "7  8.0  98.0   50.0  15.0  0.0\n",
              "8  9.0   3.0  100.0  98.0  0.0"
            ],
            "text/html": [
              "\n",
              "  <div id=\"df-a071add0-d5e2-4209-bf12-3bd48f26441d\">\n",
              "    <div class=\"colab-df-container\">\n",
              "      <div>\n",
              "<style scoped>\n",
              "    .dataframe tbody tr th:only-of-type {\n",
              "        vertical-align: middle;\n",
              "    }\n",
              "\n",
              "    .dataframe tbody tr th {\n",
              "        vertical-align: top;\n",
              "    }\n",
              "\n",
              "    .dataframe thead th {\n",
              "        text-align: right;\n",
              "    }\n",
              "</style>\n",
              "<table border=\"1\" class=\"dataframe\">\n",
              "  <thead>\n",
              "    <tr style=\"text-align: right;\">\n",
              "      <th></th>\n",
              "      <th>id</th>\n",
              "      <th>x1</th>\n",
              "      <th>x2</th>\n",
              "      <th>x3</th>\n",
              "      <th>y</th>\n",
              "    </tr>\n",
              "  </thead>\n",
              "  <tbody>\n",
              "    <tr>\n",
              "      <th>2</th>\n",
              "      <td>3.0</td>\n",
              "      <td>66.0</td>\n",
              "      <td>97.0</td>\n",
              "      <td>27.0</td>\n",
              "      <td>0.0</td>\n",
              "    </tr>\n",
              "    <tr>\n",
              "      <th>4</th>\n",
              "      <td>5.0</td>\n",
              "      <td>15.0</td>\n",
              "      <td>85.0</td>\n",
              "      <td>86.0</td>\n",
              "      <td>0.0</td>\n",
              "    </tr>\n",
              "    <tr>\n",
              "      <th>5</th>\n",
              "      <td>6.0</td>\n",
              "      <td>63.0</td>\n",
              "      <td>6.0</td>\n",
              "      <td>39.0</td>\n",
              "      <td>0.0</td>\n",
              "    </tr>\n",
              "    <tr>\n",
              "      <th>7</th>\n",
              "      <td>8.0</td>\n",
              "      <td>98.0</td>\n",
              "      <td>50.0</td>\n",
              "      <td>15.0</td>\n",
              "      <td>0.0</td>\n",
              "    </tr>\n",
              "    <tr>\n",
              "      <th>8</th>\n",
              "      <td>9.0</td>\n",
              "      <td>3.0</td>\n",
              "      <td>100.0</td>\n",
              "      <td>98.0</td>\n",
              "      <td>0.0</td>\n",
              "    </tr>\n",
              "  </tbody>\n",
              "</table>\n",
              "</div>\n",
              "      <button class=\"colab-df-convert\" onclick=\"convertToInteractive('df-a071add0-d5e2-4209-bf12-3bd48f26441d')\"\n",
              "              title=\"Convert this dataframe to an interactive table.\"\n",
              "              style=\"display:none;\">\n",
              "        \n",
              "  <svg xmlns=\"http://www.w3.org/2000/svg\" height=\"24px\"viewBox=\"0 0 24 24\"\n",
              "       width=\"24px\">\n",
              "    <path d=\"M0 0h24v24H0V0z\" fill=\"none\"/>\n",
              "    <path d=\"M18.56 5.44l.94 2.06.94-2.06 2.06-.94-2.06-.94-.94-2.06-.94 2.06-2.06.94zm-11 1L8.5 8.5l.94-2.06 2.06-.94-2.06-.94L8.5 2.5l-.94 2.06-2.06.94zm10 10l.94 2.06.94-2.06 2.06-.94-2.06-.94-.94-2.06-.94 2.06-2.06.94z\"/><path d=\"M17.41 7.96l-1.37-1.37c-.4-.4-.92-.59-1.43-.59-.52 0-1.04.2-1.43.59L10.3 9.45l-7.72 7.72c-.78.78-.78 2.05 0 2.83L4 21.41c.39.39.9.59 1.41.59.51 0 1.02-.2 1.41-.59l7.78-7.78 2.81-2.81c.8-.78.8-2.07 0-2.86zM5.41 20L4 18.59l7.72-7.72 1.47 1.35L5.41 20z\"/>\n",
              "  </svg>\n",
              "      </button>\n",
              "      \n",
              "  <style>\n",
              "    .colab-df-container {\n",
              "      display:flex;\n",
              "      flex-wrap:wrap;\n",
              "      gap: 12px;\n",
              "    }\n",
              "\n",
              "    .colab-df-convert {\n",
              "      background-color: #E8F0FE;\n",
              "      border: none;\n",
              "      border-radius: 50%;\n",
              "      cursor: pointer;\n",
              "      display: none;\n",
              "      fill: #1967D2;\n",
              "      height: 32px;\n",
              "      padding: 0 0 0 0;\n",
              "      width: 32px;\n",
              "    }\n",
              "\n",
              "    .colab-df-convert:hover {\n",
              "      background-color: #E2EBFA;\n",
              "      box-shadow: 0px 1px 2px rgba(60, 64, 67, 0.3), 0px 1px 3px 1px rgba(60, 64, 67, 0.15);\n",
              "      fill: #174EA6;\n",
              "    }\n",
              "\n",
              "    [theme=dark] .colab-df-convert {\n",
              "      background-color: #3B4455;\n",
              "      fill: #D2E3FC;\n",
              "    }\n",
              "\n",
              "    [theme=dark] .colab-df-convert:hover {\n",
              "      background-color: #434B5C;\n",
              "      box-shadow: 0px 1px 3px 1px rgba(0, 0, 0, 0.15);\n",
              "      filter: drop-shadow(0px 1px 2px rgba(0, 0, 0, 0.3));\n",
              "      fill: #FFFFFF;\n",
              "    }\n",
              "  </style>\n",
              "\n",
              "      <script>\n",
              "        const buttonEl =\n",
              "          document.querySelector('#df-a071add0-d5e2-4209-bf12-3bd48f26441d button.colab-df-convert');\n",
              "        buttonEl.style.display =\n",
              "          google.colab.kernel.accessAllowed ? 'block' : 'none';\n",
              "\n",
              "        async function convertToInteractive(key) {\n",
              "          const element = document.querySelector('#df-a071add0-d5e2-4209-bf12-3bd48f26441d');\n",
              "          const dataTable =\n",
              "            await google.colab.kernel.invokeFunction('convertToInteractive',\n",
              "                                                     [key], {});\n",
              "          if (!dataTable) return;\n",
              "\n",
              "          const docLinkHtml = 'Like what you see? Visit the ' +\n",
              "            '<a target=\"_blank\" href=https://colab.research.google.com/notebooks/data_table.ipynb>data table notebook</a>'\n",
              "            + ' to learn more about interactive tables.';\n",
              "          element.innerHTML = '';\n",
              "          dataTable['output_type'] = 'display_data';\n",
              "          await google.colab.output.renderOutput(dataTable, element);\n",
              "          const docLink = document.createElement('div');\n",
              "          docLink.innerHTML = docLinkHtml;\n",
              "          element.appendChild(docLink);\n",
              "        }\n",
              "      </script>\n",
              "    </div>\n",
              "  </div>\n",
              "  "
            ]
          },
          "metadata": {},
          "execution_count": 25
        }
      ]
    },
    {
      "cell_type": "code",
      "source": [
        "def findMean(yesData, noData, columnTarget):\n",
        "  yesMean = dict()\n",
        "  noMean = dict()\n",
        "  for column in columnTarget:\n",
        "    yesMean[column] = yesData[column].mean()\n",
        "    noMean[column] = noData[column].mean()\n",
        "  return yesMean, noMean"
      ],
      "metadata": {
        "id": "BkpKHzRnkI9M"
      },
      "execution_count": 26,
      "outputs": []
    },
    {
      "cell_type": "code",
      "source": [
        "yesMean, noMean = findMean(yesData, noData, columnTarget=['x1', 'x2', 'x3'])"
      ],
      "metadata": {
        "id": "rzCS4c3vklIR"
      },
      "execution_count": 27,
      "outputs": []
    },
    {
      "cell_type": "code",
      "source": [
        "print(f\"Mean Result\\n1 : {yesMean}\\n0 : {noMean}\")"
      ],
      "metadata": {
        "colab": {
          "base_uri": "https://localhost:8080/"
        },
        "id": "77wjwtDIkzih",
        "outputId": "a4745781-330a-4675-93b3-cdb900093854"
      },
      "execution_count": 28,
      "outputs": [
        {
          "output_type": "stream",
          "name": "stdout",
          "text": [
            "Mean Result\n",
            "1 : {'x1': 49.36923076923077, 'x2': 52.54615384615385, 'x3': 44.65384615384615}\n",
            "0 : {'x1': 48.83132530120482, 'x2': 51.295180722891565, 'x3': 48.57831325301205}\n"
          ]
        }
      ]
    },
    {
      "cell_type": "code",
      "source": [
        "yesMean"
      ],
      "metadata": {
        "colab": {
          "base_uri": "https://localhost:8080/"
        },
        "id": "m610SYxplQ4S",
        "outputId": "01a397a3-e2c8-4955-bcc5-ab5de201461b"
      },
      "execution_count": 29,
      "outputs": [
        {
          "output_type": "execute_result",
          "data": {
            "text/plain": [
              "{'x1': 49.36923076923077, 'x2': 52.54615384615385, 'x3': 44.65384615384615}"
            ]
          },
          "metadata": {},
          "execution_count": 29
        }
      ]
    },
    {
      "cell_type": "code",
      "source": [
        "noMean"
      ],
      "metadata": {
        "colab": {
          "base_uri": "https://localhost:8080/"
        },
        "id": "8bmdyhpElSxF",
        "outputId": "85e71ed3-e759-4acc-b2d2-612dfd89cbb8"
      },
      "execution_count": 30,
      "outputs": [
        {
          "output_type": "execute_result",
          "data": {
            "text/plain": [
              "{'x1': 48.83132530120482, 'x2': 51.295180722891565, 'x3': 48.57831325301205}"
            ]
          },
          "metadata": {},
          "execution_count": 30
        }
      ]
    },
    {
      "cell_type": "code",
      "source": [
        "def findSTD(yesData, noData, columnTarget):\n",
        "  yesSTD = dict()\n",
        "  noSTD = dict()\n",
        "  for column in columnTarget:\n",
        "    yesSTD[column] = yesData[column].std()\n",
        "    noSTD[column] = noData[column].std()\n",
        "  return yesSTD, noSTD"
      ],
      "metadata": {
        "id": "WQJhf5awluH9"
      },
      "execution_count": 31,
      "outputs": []
    },
    {
      "cell_type": "code",
      "source": [
        "yesSTD, noSTD = findSTD(yesData, noData, columnTarget=['x1', 'x2', 'x3'])"
      ],
      "metadata": {
        "id": "nAMF1ZSVl_42"
      },
      "execution_count": 32,
      "outputs": []
    },
    {
      "cell_type": "code",
      "source": [
        "print(f\"Mean Result\\n1 : {yesSTD}\\n0 : {noSTD}\")"
      ],
      "metadata": {
        "colab": {
          "base_uri": "https://localhost:8080/"
        },
        "id": "kBfC_hf-mXlj",
        "outputId": "bb5a55a5-51c5-47a2-e260-7c575f78ebee"
      },
      "execution_count": 33,
      "outputs": [
        {
          "output_type": "stream",
          "name": "stdout",
          "text": [
            "Mean Result\n",
            "1 : {'x1': 30.66147709583266, 'x2': 30.672592502572407, 'x3': 28.23811035755217}\n",
            "0 : {'x1': 29.636921803562995, 'x2': 29.974588848453084, 'x3': 30.40439381402378}\n"
          ]
        }
      ]
    },
    {
      "cell_type": "code",
      "source": [
        "def doPredik(yesMean, yesSTD, noMean, noSTD, target, columnTarget, truthColumn):\n",
        "  result = []\n",
        "  for i in range(len(target)):\n",
        "    yesResult = 1\n",
        "    noResult = 1\n",
        "    for column in columnTarget:\n",
        "      yesResult *= prb(yesMean[column], yesSTD[column], target[column].iloc[i])\n",
        "      noResult *= prb(noMean[column], noSTD[column], target[column].iloc[i])\n",
        "    result.append({'ID' : target['id'].iloc[i], 'Yes Probability' : \"{}\".format(yesResult), 'No Probability' : \"{}\".format(noResult),\n",
        "                   'Hasil Prediksi' : int(yesResult > noResult), 'Ground Truth' : target[truthColumn].iloc[i]})\n",
        "  return result"
      ],
      "metadata": {
        "id": "iOsEIiLQm3Ea"
      },
      "execution_count": 34,
      "outputs": []
    },
    {
      "cell_type": "code",
      "source": [
        "result = []\n",
        "target = dataTest\n",
        "result = doPredik(yesMean, yesSTD, noMean, noSTD, target, columnTarget=['x1', 'x2', 'x3'], truthColumn='y')\n",
        "\n",
        "for p in result:\n",
        "  print(p)"
      ],
      "metadata": {
        "colab": {
          "base_uri": "https://localhost:8080/"
        },
        "id": "TRUbujDnpDdB",
        "outputId": "0bd2f7e4-f354-4490-a008-facfe0cda76d"
      },
      "execution_count": 35,
      "outputs": [
        {
          "output_type": "stream",
          "name": "stdout",
          "text": [
            "{'ID': 297, 'Yes Probability': '5.410535440623304e-07', 'No Probability': '6.05380751888213e-07', 'Hasil Prediksi': 0, 'Ground Truth': '?'}\n",
            "{'ID': 298, 'Yes Probability': '1.2686694753559456e-06', 'No Probability': '1.4496949713556619e-06', 'Hasil Prediksi': 0, 'Ground Truth': '?'}\n",
            "{'ID': 299, 'Yes Probability': '5.874877627717968e-07', 'No Probability': '6.211806302152328e-07', 'Hasil Prediksi': 0, 'Ground Truth': '?'}\n",
            "{'ID': 300, 'Yes Probability': '1.4152815715008876e-06', 'No Probability': '1.3345162711554498e-06', 'Hasil Prediksi': 1, 'Ground Truth': '?'}\n",
            "{'ID': 301, 'Yes Probability': '6.022775109255009e-07', 'No Probability': '5.110315422135354e-07', 'Hasil Prediksi': 1, 'Ground Truth': '?'}\n",
            "{'ID': 302, 'Yes Probability': '7.092693679462497e-07', 'No Probability': '6.311279739428465e-07', 'Hasil Prediksi': 1, 'Ground Truth': '?'}\n",
            "{'ID': 303, 'Yes Probability': '1.5672851957113277e-06', 'No Probability': '1.5306959624281995e-06', 'Hasil Prediksi': 1, 'Ground Truth': '?'}\n",
            "{'ID': 304, 'Yes Probability': '6.291371837770748e-07', 'No Probability': '5.69134388093406e-07', 'Hasil Prediksi': 1, 'Ground Truth': '?'}\n",
            "{'ID': 305, 'Yes Probability': '1.5399944039972657e-06', 'No Probability': '1.7192663995980988e-06', 'Hasil Prediksi': 0, 'Ground Truth': '?'}\n",
            "{'ID': 306, 'Yes Probability': '2.1495449796482218e-07', 'No Probability': '1.8191907580346846e-07', 'Hasil Prediksi': 1, 'Ground Truth': '?'}\n"
          ]
        }
      ]
    },
    {
      "cell_type": "code",
      "source": [
        "def folding(dataset, trainingPercentage, location, shuffle:bool):\n",
        "    lengthTraining = int(len(dataset)*trainingPercentage/100)\n",
        "    # randomize the the data position\n",
        "    if(shuffle):\n",
        "        dataset = dataset.sample(frac=1).reset_index(drop=True)\n",
        "    train = []\n",
        "    validation = []\n",
        "    if(location == 'left'):\n",
        "        train, validation = dataset.iloc[:lengthTraining].reset_index(drop=True), dataset.iloc[lengthTraining:].reset_index(drop=True)\n",
        "    elif(location == 'right'):\n",
        "        validation,train = dataset.iloc[:abs(lengthTraining-len(dataset))].reset_index(drop=True), dataset.iloc[abs(lengthTraining-len(dataset)):].reset_index(drop=True)\n",
        "    elif(location == 'middle'):\n",
        "        train = dataset.iloc[int(abs(lengthTraining-len(dataset))/2):len(dataset)-int(abs(lengthTraining-len(dataset))/2)]\n",
        "        validation = pd.concat([dataset.iloc[:int(abs(lengthTraining-len(dataset))/2)],dataset.iloc[len(dataset)-int(abs(lengthTraining-len(dataset))/2):]])\n",
        "    return train, validation"
      ],
      "metadata": {
        "id": "ZFsnL9wMqMNv"
      },
      "execution_count": 36,
      "outputs": []
    },
    {
      "cell_type": "code",
      "source": [
        "trainData, validationData = folding(dataTrain.copy(), 70, 'left', shuffle=True)"
      ],
      "metadata": {
        "id": "Qpv2urg-rYJ5"
      },
      "execution_count": 37,
      "outputs": []
    },
    {
      "cell_type": "code",
      "source": [
        "# Split yes and no\n",
        "yesDataTrain, noDataTrain = splitT(trainData, columnTarget='y')\n",
        "# Find mean\n",
        "yesMeanTrain, noMeanTrain = findMean(yesDataTrain, noDataTrain, columnTarget=['x1','x2','x3'])\n",
        "# Find standard deviation\n",
        "yesStdTrain, noStdTrain = findSTD(yesDataTrain, noDataTrain, ['x1','x2','x3'])\n",
        "\n",
        "result = []\n",
        "target = validationData # your ground truth data\n",
        "result = doPredik(yesMeanTrain, yesStdTrain, noMeanTrain, noStdTrain, target, columnTarget=['x1','x2','x3'], truthColumn='y')\n",
        "\n",
        "for p in result:\n",
        "    print(p)"
      ],
      "metadata": {
        "id": "Nz7rP7Wcrnr3",
        "colab": {
          "base_uri": "https://localhost:8080/"
        },
        "outputId": "255fbbf2-7aab-4e63-d2ea-eed4f358097c"
      },
      "execution_count": 38,
      "outputs": [
        {
          "output_type": "stream",
          "name": "stdout",
          "text": [
            "{'ID': 83, 'Yes Probability': '1.1243850149473372e-06', 'No Probability': '9.243541274385451e-07', 'Hasil Prediksi': 1, 'Ground Truth': 0}\n",
            "{'ID': 91, 'Yes Probability': '2.5750927901658645e-07', 'No Probability': '2.6451097307196425e-07', 'Hasil Prediksi': 0, 'Ground Truth': 1}\n",
            "{'ID': 256, 'Yes Probability': '1.0021297177514845e-06', 'No Probability': '8.84919814464985e-07', 'Hasil Prediksi': 1, 'Ground Truth': 0}\n",
            "{'ID': 283, 'Yes Probability': '1.750546149862075e-07', 'No Probability': '1.92885599617898e-07', 'Hasil Prediksi': 0, 'Ground Truth': 1}\n",
            "{'ID': 63, 'Yes Probability': '1.885900795487757e-06', 'No Probability': '1.949055521413194e-06', 'Hasil Prediksi': 0, 'Ground Truth': 0}\n",
            "{'ID': 126, 'Yes Probability': '2.940925061284663e-07', 'No Probability': '2.8691147863899825e-07', 'Hasil Prediksi': 1, 'Ground Truth': 1}\n",
            "{'ID': 106, 'Yes Probability': '5.101626791660039e-07', 'No Probability': '6.582292453144031e-07', 'Hasil Prediksi': 0, 'Ground Truth': 1}\n",
            "{'ID': 37, 'Yes Probability': '4.271702761590355e-07', 'No Probability': '3.6697783982576704e-07', 'Hasil Prediksi': 1, 'Ground Truth': 1}\n",
            "{'ID': 241, 'Yes Probability': '5.278644522805942e-07', 'No Probability': '4.177530526771645e-07', 'Hasil Prediksi': 1, 'Ground Truth': 0}\n",
            "{'ID': 186, 'Yes Probability': '5.214384056227312e-07', 'No Probability': '5.238189207253709e-07', 'Hasil Prediksi': 0, 'Ground Truth': 0}\n",
            "{'ID': 242, 'Yes Probability': '1.1387941536118795e-06', 'No Probability': '1.1726890303561734e-06', 'Hasil Prediksi': 0, 'Ground Truth': 0}\n",
            "{'ID': 237, 'Yes Probability': '1.5925730890468247e-06', 'No Probability': '1.5583769723516928e-06', 'Hasil Prediksi': 1, 'Ground Truth': 0}\n",
            "{'ID': 104, 'Yes Probability': '2.456224757314188e-07', 'No Probability': '2.1002430668735241e-07', 'Hasil Prediksi': 1, 'Ground Truth': 0}\n",
            "{'ID': 74, 'Yes Probability': '1.7011124149506268e-06', 'No Probability': '1.860409964301714e-06', 'Hasil Prediksi': 0, 'Ground Truth': 0}\n",
            "{'ID': 18, 'Yes Probability': '8.809637267893632e-07', 'No Probability': '9.700318989239454e-07', 'Hasil Prediksi': 0, 'Ground Truth': 1}\n",
            "{'ID': 7, 'Yes Probability': '5.449376007314275e-07', 'No Probability': '5.721381405091917e-07', 'Hasil Prediksi': 0, 'Ground Truth': 1}\n",
            "{'ID': 71, 'Yes Probability': '8.573087225557672e-07', 'No Probability': '7.195118188132613e-07', 'Hasil Prediksi': 1, 'Ground Truth': 1}\n",
            "{'ID': 204, 'Yes Probability': '5.5431751718504e-07', 'No Probability': '4.87402998414938e-07', 'Hasil Prediksi': 1, 'Ground Truth': 0}\n",
            "{'ID': 117, 'Yes Probability': '3.8904862160560074e-07', 'No Probability': '2.923412485941019e-07', 'Hasil Prediksi': 1, 'Ground Truth': 0}\n",
            "{'ID': 56, 'Yes Probability': '3.075389494647025e-07', 'No Probability': '4.237861140097382e-07', 'Hasil Prediksi': 0, 'Ground Truth': 0}\n",
            "{'ID': 223, 'Yes Probability': '2.9059795381435744e-07', 'No Probability': '2.993383350547739e-07', 'Hasil Prediksi': 0, 'Ground Truth': 0}\n",
            "{'ID': 227, 'Yes Probability': '1.323258129101976e-07', 'No Probability': '1.2049697512100335e-07', 'Hasil Prediksi': 1, 'Ground Truth': 0}\n",
            "{'ID': 132, 'Yes Probability': '2.856428205961295e-07', 'No Probability': '3.239629312112629e-07', 'Hasil Prediksi': 0, 'Ground Truth': 0}\n",
            "{'ID': 176, 'Yes Probability': '7.573169751335845e-07', 'No Probability': '7.227605912718461e-07', 'Hasil Prediksi': 1, 'Ground Truth': 1}\n",
            "{'ID': 234, 'Yes Probability': '5.439074631364852e-07', 'No Probability': '7.07813837007305e-07', 'Hasil Prediksi': 0, 'Ground Truth': 1}\n",
            "{'ID': 147, 'Yes Probability': '2.1885433049434356e-07', 'No Probability': '1.8854393229492768e-07', 'Hasil Prediksi': 1, 'Ground Truth': 0}\n",
            "{'ID': 264, 'Yes Probability': '3.0819578211580605e-07', 'No Probability': '3.04638567419488e-07', 'Hasil Prediksi': 1, 'Ground Truth': 1}\n",
            "{'ID': 164, 'Yes Probability': '2.272399933137587e-06', 'No Probability': '2.2417546086829414e-06', 'Hasil Prediksi': 1, 'Ground Truth': 0}\n",
            "{'ID': 9, 'Yes Probability': '3.199407563045358e-08', 'No Probability': '4.5293478159699566e-08', 'Hasil Prediksi': 0, 'Ground Truth': 0}\n",
            "{'ID': 29, 'Yes Probability': '1.2807667387637647e-06', 'No Probability': '1.3070750244043991e-06', 'Hasil Prediksi': 0, 'Ground Truth': 1}\n",
            "{'ID': 121, 'Yes Probability': '2.7811857381817905e-07', 'No Probability': '4.156258779445436e-07', 'Hasil Prediksi': 0, 'Ground Truth': 0}\n",
            "{'ID': 90, 'Yes Probability': '2.3726348476394228e-07', 'No Probability': '2.7303825821315457e-07', 'Hasil Prediksi': 0, 'Ground Truth': 0}\n",
            "{'ID': 55, 'Yes Probability': '1.1960594550165795e-06', 'No Probability': '1.1005894361435146e-06', 'Hasil Prediksi': 1, 'Ground Truth': 1}\n",
            "{'ID': 105, 'Yes Probability': '5.957042678527897e-07', 'No Probability': '6.172038503435179e-07', 'Hasil Prediksi': 0, 'Ground Truth': 0}\n",
            "{'ID': 36, 'Yes Probability': '7.093388424508718e-07', 'No Probability': '5.504206365062653e-07', 'Hasil Prediksi': 1, 'Ground Truth': 1}\n",
            "{'ID': 233, 'Yes Probability': '3.925541892674891e-07', 'No Probability': '5.375509799378499e-07', 'Hasil Prediksi': 0, 'Ground Truth': 0}\n",
            "{'ID': 263, 'Yes Probability': '1.294061525622866e-06', 'No Probability': '1.123178723647269e-06', 'Hasil Prediksi': 1, 'Ground Truth': 0}\n",
            "{'ID': 28, 'Yes Probability': '8.631901542905709e-07', 'No Probability': '1.0200230964401784e-06', 'Hasil Prediksi': 0, 'Ground Truth': 0}\n",
            "{'ID': 200, 'Yes Probability': '3.7320850282279114e-07', 'No Probability': '3.959453474246757e-07', 'Hasil Prediksi': 0, 'Ground Truth': 0}\n",
            "{'ID': 62, 'Yes Probability': '1.3895842570034296e-07', 'No Probability': '1.824389036163593e-07', 'Hasil Prediksi': 0, 'Ground Truth': 0}\n",
            "{'ID': 258, 'Yes Probability': '1.3864985895113301e-06', 'No Probability': '1.5603557350606577e-06', 'Hasil Prediksi': 0, 'Ground Truth': 0}\n",
            "{'ID': 118, 'Yes Probability': '3.8068115953622814e-07', 'No Probability': '3.1274784436218473e-07', 'Hasil Prediksi': 1, 'Ground Truth': 1}\n",
            "{'ID': 96, 'Yes Probability': '9.970869584369778e-07', 'No Probability': '1.0595202433877054e-06', 'Hasil Prediksi': 0, 'Ground Truth': 1}\n",
            "{'ID': 97, 'Yes Probability': '8.720465068192824e-07', 'No Probability': '7.303666582607453e-07', 'Hasil Prediksi': 1, 'Ground Truth': 1}\n",
            "{'ID': 44, 'Yes Probability': '3.522402132752114e-07', 'No Probability': '4.1911378624583863e-07', 'Hasil Prediksi': 0, 'Ground Truth': 1}\n",
            "{'ID': 248, 'Yes Probability': '4.4578337216514936e-07', 'No Probability': '3.31692487640941e-07', 'Hasil Prediksi': 1, 'Ground Truth': 0}\n",
            "{'ID': 290, 'Yes Probability': '2.0124083938508232e-07', 'No Probability': '2.915065724949795e-07', 'Hasil Prediksi': 0, 'Ground Truth': 1}\n",
            "{'ID': 46, 'Yes Probability': '2.458134429944156e-07', 'No Probability': '2.4229783895751155e-07', 'Hasil Prediksi': 1, 'Ground Truth': 0}\n",
            "{'ID': 172, 'Yes Probability': '2.4556376983795127e-07', 'No Probability': '2.409491523977096e-07', 'Hasil Prediksi': 1, 'Ground Truth': 0}\n",
            "{'ID': 125, 'Yes Probability': '5.365326632555008e-08', 'No Probability': '7.606071276170296e-08', 'Hasil Prediksi': 0, 'Ground Truth': 1}\n",
            "{'ID': 259, 'Yes Probability': '5.814795944955935e-07', 'No Probability': '4.834058860495788e-07', 'Hasil Prediksi': 1, 'Ground Truth': 1}\n",
            "{'ID': 276, 'Yes Probability': '9.566919629503893e-07', 'No Probability': '9.750101683275402e-07', 'Hasil Prediksi': 0, 'Ground Truth': 1}\n",
            "{'ID': 134, 'Yes Probability': '4.4579382743408976e-07', 'No Probability': '5.881818399866081e-07', 'Hasil Prediksi': 0, 'Ground Truth': 0}\n",
            "{'ID': 49, 'Yes Probability': '2.2026615398119732e-07', 'No Probability': '2.7227598151232696e-07', 'Hasil Prediksi': 0, 'Ground Truth': 0}\n",
            "{'ID': 254, 'Yes Probability': '1.7170433318200952e-06', 'No Probability': '1.8660525252549608e-06', 'Hasil Prediksi': 0, 'Ground Truth': 1}\n",
            "{'ID': 278, 'Yes Probability': '4.4808651097495025e-07', 'No Probability': '3.342199493592224e-07', 'Hasil Prediksi': 1, 'Ground Truth': 0}\n",
            "{'ID': 291, 'Yes Probability': '4.5332954963209384e-07', 'No Probability': '5.220274874481838e-07', 'Hasil Prediksi': 0, 'Ground Truth': 0}\n",
            "{'ID': 261, 'Yes Probability': '7.042800734730627e-07', 'No Probability': '5.320506290570349e-07', 'Hasil Prediksi': 1, 'Ground Truth': 0}\n",
            "{'ID': 51, 'Yes Probability': '7.246815690264796e-07', 'No Probability': '6.096166567817242e-07', 'Hasil Prediksi': 1, 'Ground Truth': 0}\n",
            "{'ID': 187, 'Yes Probability': '2.4905686324455025e-07', 'No Probability': '1.6248376319988329e-07', 'Hasil Prediksi': 1, 'Ground Truth': 1}\n",
            "{'ID': 64, 'Yes Probability': '1.7364904347088946e-06', 'No Probability': '1.530204386855064e-06', 'Hasil Prediksi': 1, 'Ground Truth': 0}\n",
            "{'ID': 23, 'Yes Probability': '4.1650957480485484e-07', 'No Probability': '4.5917055371952246e-07', 'Hasil Prediksi': 0, 'Ground Truth': 0}\n",
            "{'ID': 169, 'Yes Probability': '2.1113236314582141e-07', 'No Probability': '2.568131477515124e-07', 'Hasil Prediksi': 0, 'Ground Truth': 1}\n",
            "{'ID': 265, 'Yes Probability': '6.004305832006807e-07', 'No Probability': '7.915329749782122e-07', 'Hasil Prediksi': 0, 'Ground Truth': 1}\n",
            "{'ID': 70, 'Yes Probability': '5.363890877771111e-07', 'No Probability': '4.855703244094697e-07', 'Hasil Prediksi': 1, 'Ground Truth': 1}\n",
            "{'ID': 65, 'Yes Probability': '3.315581222779879e-07', 'No Probability': '3.6745188509383106e-07', 'Hasil Prediksi': 0, 'Ground Truth': 1}\n",
            "{'ID': 31, 'Yes Probability': '4.0384331825276333e-07', 'No Probability': '4.6460103583818787e-07', 'Hasil Prediksi': 0, 'Ground Truth': 1}\n",
            "{'ID': 130, 'Yes Probability': '6.49381079818025e-07', 'No Probability': '6.298395333695513e-07', 'Hasil Prediksi': 1, 'Ground Truth': 1}\n",
            "{'ID': 181, 'Yes Probability': '4.0005110922715384e-07', 'No Probability': '2.865206411094097e-07', 'Hasil Prediksi': 1, 'Ground Truth': 1}\n",
            "{'ID': 148, 'Yes Probability': '9.91546079325053e-07', 'No Probability': '1.1235189248792443e-06', 'Hasil Prediksi': 0, 'Ground Truth': 0}\n",
            "{'ID': 128, 'Yes Probability': '1.8405340575626495e-07', 'No Probability': '1.2382034781101422e-07', 'Hasil Prediksi': 1, 'Ground Truth': 0}\n",
            "{'ID': 21, 'Yes Probability': '7.63572495566212e-07', 'No Probability': '8.588291398092208e-07', 'Hasil Prediksi': 0, 'Ground Truth': 1}\n",
            "{'ID': 15, 'Yes Probability': '3.6776794840785016e-07', 'No Probability': '4.365165847296764e-07', 'Hasil Prediksi': 0, 'Ground Truth': 1}\n",
            "{'ID': 274, 'Yes Probability': '1.099550324129656e-06', 'No Probability': '1.0476962262142775e-06', 'Hasil Prediksi': 1, 'Ground Truth': 1}\n",
            "{'ID': 94, 'Yes Probability': '4.623537316313385e-07', 'No Probability': '5.229632601738465e-07', 'Hasil Prediksi': 0, 'Ground Truth': 1}\n",
            "{'ID': 17, 'Yes Probability': '6.733283001390978e-07', 'No Probability': '7.315509956634884e-07', 'Hasil Prediksi': 0, 'Ground Truth': 0}\n",
            "{'ID': 193, 'Yes Probability': '1.2390980968869108e-06', 'No Probability': '1.1269353826719984e-06', 'Hasil Prediksi': 1, 'Ground Truth': 0}\n",
            "{'ID': 289, 'Yes Probability': '9.942268036398509e-07', 'No Probability': '1.1189006462353543e-06', 'Hasil Prediksi': 0, 'Ground Truth': 0}\n",
            "{'ID': 238, 'Yes Probability': '1.1845332723761515e-06', 'No Probability': '1.1722986714107245e-06', 'Hasil Prediksi': 1, 'Ground Truth': 0}\n",
            "{'ID': 189, 'Yes Probability': '6.496951738733574e-07', 'No Probability': '6.223702694184054e-07', 'Hasil Prediksi': 1, 'Ground Truth': 1}\n",
            "{'ID': 32, 'Yes Probability': '1.2690844361337447e-06', 'No Probability': '1.0680162448001887e-06', 'Hasil Prediksi': 1, 'Ground Truth': 0}\n",
            "{'ID': 221, 'Yes Probability': '6.983611698966945e-07', 'No Probability': '5.399063279421463e-07', 'Hasil Prediksi': 1, 'Ground Truth': 1}\n",
            "{'ID': 270, 'Yes Probability': '2.82268951280203e-07', 'No Probability': '3.589711388012879e-07', 'Hasil Prediksi': 0, 'Ground Truth': 0}\n",
            "{'ID': 87, 'Yes Probability': '5.346198055350474e-07', 'No Probability': '4.93301768021949e-07', 'Hasil Prediksi': 1, 'Ground Truth': 0}\n",
            "{'ID': 98, 'Yes Probability': '1.3981071768650293e-07', 'No Probability': '1.1578173634003596e-07', 'Hasil Prediksi': 1, 'Ground Truth': 1}\n",
            "{'ID': 201, 'Yes Probability': '3.7432110864949626e-07', 'No Probability': '2.676815543969827e-07', 'Hasil Prediksi': 1, 'Ground Truth': 0}\n",
            "{'ID': 22, 'Yes Probability': '1.2383101442335302e-06', 'No Probability': '1.0221521609261323e-06', 'Hasil Prediksi': 1, 'Ground Truth': 1}\n",
            "{'ID': 5, 'Yes Probability': '2.2011806009969826e-07', 'No Probability': '2.8479729521483566e-07', 'Hasil Prediksi': 0, 'Ground Truth': 0}\n",
            "{'ID': 152, 'Yes Probability': '9.992570735729978e-07', 'No Probability': '1.1138900641377638e-06', 'Hasil Prediksi': 0, 'Ground Truth': 1}\n"
          ]
        }
      ]
    },
    {
      "cell_type": "code",
      "source": [
        "def confussionMatrix(result):\n",
        "    TP = 0\n",
        "    FP = 0\n",
        "    TN = 0\n",
        "    FN = 0\n",
        "    x = True\n",
        "    for i in result:\n",
        "        if(i['Ground Truth'] == '?'):\n",
        "            x = False\n",
        "            break\n",
        "        elif((i['Hasil Prediksi'] == 1)and(i['Hasil Prediksi'] == i['Ground Truth'])):\n",
        "            TP += 1\n",
        "        elif((i['Hasil Prediksi'] == 0)and(i['Hasil Prediksi'] == i['Ground Truth'])):\n",
        "            TN += 1\n",
        "        elif((i['Hasil Prediksi'] == 1)and(i['Hasil Prediksi'] != i['Ground Truth'])):\n",
        "            FP += 1\n",
        "        elif((i['Hasil Prediksi'] == 0)and(i['Hasil Prediksi'] != i['Ground Truth'])):\n",
        "            FN += 1 \n",
        "    if(x):\n",
        "        print(f\"\\nTP : {TP} FP : {FP}\\nTN : {TN} FN : {FN}\")\n",
        "        print(f\"Accuracy : {((TP+TN)/(TP+TN+FP+FN))*100}%\")\n",
        "        print(f\"Precission : {((TP)/(TP+FP))*100}%\")\n",
        "        print(f\"Recall : {((TP)/(TP+FN))*100}%\")\n",
        "    else:\n",
        "        print(\"\\nCannot process the confussion matrix with unknown Ground Truth!\")"
      ],
      "metadata": {
        "id": "o91mQTStxp6y"
      },
      "execution_count": 42,
      "outputs": []
    },
    {
      "cell_type": "code",
      "source": [
        "confussionMatrix(result)"
      ],
      "metadata": {
        "colab": {
          "base_uri": "https://localhost:8080/"
        },
        "id": "hrG6ccyZ0ZPb",
        "outputId": "56d864ce-4793-435d-9091-aae403086c09"
      },
      "execution_count": 43,
      "outputs": [
        {
          "output_type": "stream",
          "name": "stdout",
          "text": [
            "\n",
            "TP : 19 FP : 24\n",
            "TN : 25 FN : 21\n",
            "Accuracy : 49.43820224719101%\n",
            "Precission : 44.18604651162791%\n",
            "Recall : 47.5%\n"
          ]
        }
      ]
    }
  ]
}