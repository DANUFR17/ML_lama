{
  "cells": [
    {
      "cell_type": "markdown",
      "metadata": {
        "id": "HnzcaXSpsmSA"
      },
      "source": [
        "# PROJECT BASED CLO 2 KELOMPOK 8\n",
        "\n",
        "\n",
        "1.  Aqilah Fedura Ilahi (1301213123)\n",
        "2.  Muhammad Danu Firjatullah Rachman(1301213439)\n",
        "3.  Risna Zahira (1301213160)\n",
        "\n",
        "\n",
        "**METODE : CNN**\n"
      ]
    },
    {
      "cell_type": "markdown",
      "metadata": {
        "id": "nVDDVWl4tk9L"
      },
      "source": [
        "# LATANG BELAKANG\n",
        "\n",
        "Analisis data, atau data analytics, merupakan tahap penting dalam mengumpulkan, merapikan, dan mengekstraksi informasi yang bernilai dari dataset yang besar. Dalam proses analisis ini, dapat diidentifikasi pola dan metrik yang mungkin tidak terlihat secara langsung dalam data mentah. Informasi ini kemudian bisa dimanfaatkan untuk meng-enhance atau meningkatkan proses, sehingga meningkatkan efisiensi sistem secara keseluruhan.\n",
        "\n",
        "Data yang kami gunakan adalah Student Performance yang Memprediksi Kinerja Siswa pada Pendidikan Menengah Atas (SMA).\n",
        "\n",
        "Pemilihan data ini didasarkan pada konteks pemahaman dan analisis kinerja siswa pada tingkat pendidikan menengah di dua sekolah Portugis. Data ini mencakup berbagai atribut, termasuk nilai siswa, demografi, fitur sosial, dan atribut sekolah. Penggunaan data ini merupakan praktek yang signifikan dalam pemodelan klasifikasi dan regresi biner/lima tingkat, yang mencerminkan tantangan dunia nyata dalam pemahaman kinerja siswa. Atribut target G3 memiliki korelasi yang kuat dengan atribut G2 dan G1 karena G3 mencerminkan nilai akhir tahun, yang secara alami bergantung pada prestasi awal siswa di periode ke-1 dan ke-2. Data ini menawarkan kesempatan untuk memprediksi kinerja siswa di masa depan, menggabungkan atribut G2 dan G1, dan dapat memiliki dampak yang signifikan dalam meningkatkan pendidikan dan memberikan wawasan berharga bagi pembuat kebijakan dan lembaga pendidikan.\n",
        "\n",
        "\n",
        "\n"
      ]
    },
    {
      "cell_type": "markdown",
      "metadata": {
        "id": "X8r8lOLSt4Jb"
      },
      "source": [
        "# Ringkasan Metode\n",
        "Metode yang akan digunakan pada project ini yaitu Convolutional Neural Network atau CNN sebagai baseline model. Kami melakukan ekplorasi model dengan penambahan lebih banyak lapisan Conv1D, penggunakan kernel size yang lebih besar, dan penambahkan lebih banyak neuron di lapisan Dense Exploratory modelnya.\n",
        "\n",
        "Sehingga didapatkan hasil akhir perbandingan MSE dan MAE, lalu didapatkan performa model terbaik dari 3 model yang dikembangkan.\n",
        "\n",
        "\n"
      ]
    },
    {
      "cell_type": "markdown",
      "metadata": {
        "id": "k_v_msz961HK"
      },
      "source": [
        "# 1. Data Preprocessing dan Eksplorasi Data\n",
        "a. Impor pustaka yang dibutuhkan"
      ]
    },
    {
      "cell_type": "code",
      "execution_count": null,
      "metadata": {
        "id": "ETcJA7NX6xck"
      },
      "outputs": [],
      "source": [
        "#import pustaka yang diperlukan\n",
        "import numpy as np\n",
        "import pandas as pd\n",
        "import zipfile\n",
        "import os\n",
        "import matplotlib.pyplot as plt\n",
        "import seaborn as sns\n",
        "from sklearn.model_selection import train_test_split\n",
        "from sklearn.preprocessing import StandardScaler, LabelEncoder\n",
        "from sklearn.metrics import mean_squared_error, mean_absolute_error\n",
        "from tensorflow.keras.models import Sequential\n",
        "from tensorflow.keras.layers import Dense, Conv1D, Flatten, Dropout\n",
        "from tensorflow.keras.optimizers import Adam\n"
      ]
    },
    {
      "cell_type": "markdown",
      "metadata": {
        "id": "3RfAvtJR6_Fj"
      },
      "source": [
        "b. Memuat dataset"
      ]
    },
    {
      "cell_type": "code",
      "execution_count": null,
      "metadata": {
        "id": "Bj4E8MWY-mkp"
      },
      "outputs": [],
      "source": [
        "# Unduh dataset dari URL\n",
        "url = \"https://archive.ics.uci.edu/ml/machine-learning-databases/00320/student.zip\"\n",
        "download_path = \"student.zip\"\n",
        "\n",
        "# Unduh file ZIP\n",
        "if not os.path.exists(download_path):\n",
        "    import urllib.request\n",
        "    urllib.request.urlretrieve(url, download_path)\n",
        "\n",
        "# Ekstrak file yang diperlukan\n",
        "with zipfile.ZipFile(download_path, 'r') as zip_ref:\n",
        "    zip_ref.extractall(\"student_data\")\n",
        "\n",
        "# Baca data matematika\n",
        "df_math = pd.read_csv(\"student_data/student-mat.csv\", sep=';')\n",
        "\n",
        "# Baca data portugis\n",
        "df_port = pd.read_csv(\"student_data/student-por.csv\", sep=';')\n",
        "\n",
        "# Gabungkan kedua data menjadi satu dataset\n",
        "df = pd.concat([df_math, df_port], axis=0)\n",
        "\n"
      ]
    },
    {
      "cell_type": "markdown",
      "metadata": {
        "id": "s_qfyRB87Rq0"
      },
      "source": [
        "c. Eksplorasi Data Awal"
      ]
    },
    {
      "cell_type": "code",
      "execution_count": null,
      "metadata": {
        "id": "y2JxlCbUeCQe",
        "colab": {
          "base_uri": "https://localhost:8080/",
          "height": 964
        },
        "outputId": "96a79e77-5be9-4952-a62b-f866f816d9ec"
      },
      "outputs": [
        {
          "output_type": "stream",
          "name": "stdout",
          "text": [
            "Data Shape: (1044, 33)\n",
            "<class 'pandas.core.frame.DataFrame'>\n",
            "Int64Index: 1044 entries, 0 to 648\n",
            "Data columns (total 33 columns):\n",
            " #   Column      Non-Null Count  Dtype \n",
            "---  ------      --------------  ----- \n",
            " 0   school      1044 non-null   object\n",
            " 1   sex         1044 non-null   object\n",
            " 2   age         1044 non-null   int64 \n",
            " 3   address     1044 non-null   object\n",
            " 4   famsize     1044 non-null   object\n",
            " 5   Pstatus     1044 non-null   object\n",
            " 6   Medu        1044 non-null   int64 \n",
            " 7   Fedu        1044 non-null   int64 \n",
            " 8   Mjob        1044 non-null   object\n",
            " 9   Fjob        1044 non-null   object\n",
            " 10  reason      1044 non-null   object\n",
            " 11  guardian    1044 non-null   object\n",
            " 12  traveltime  1044 non-null   int64 \n",
            " 13  studytime   1044 non-null   int64 \n",
            " 14  failures    1044 non-null   int64 \n",
            " 15  schoolsup   1044 non-null   object\n",
            " 16  famsup      1044 non-null   object\n",
            " 17  paid        1044 non-null   object\n",
            " 18  activities  1044 non-null   object\n",
            " 19  nursery     1044 non-null   object\n",
            " 20  higher      1044 non-null   object\n",
            " 21  internet    1044 non-null   object\n",
            " 22  romantic    1044 non-null   object\n",
            " 23  famrel      1044 non-null   int64 \n",
            " 24  freetime    1044 non-null   int64 \n",
            " 25  goout       1044 non-null   int64 \n",
            " 26  Dalc        1044 non-null   int64 \n",
            " 27  Walc        1044 non-null   int64 \n",
            " 28  health      1044 non-null   int64 \n",
            " 29  absences    1044 non-null   int64 \n",
            " 30  G1          1044 non-null   int64 \n",
            " 31  G2          1044 non-null   int64 \n",
            " 32  G3          1044 non-null   int64 \n",
            "dtypes: int64(16), object(17)\n",
            "memory usage: 277.3+ KB\n",
            "None\n"
          ]
        },
        {
          "output_type": "display_data",
          "data": {
            "text/plain": [
              "  school sex  age address famsize Pstatus  Medu  Fedu     Mjob      Fjob  ...  \\\n",
              "0     GP   F   18       U     GT3       A     4     4  at_home   teacher  ...   \n",
              "1     GP   F   17       U     GT3       T     1     1  at_home     other  ...   \n",
              "2     GP   F   15       U     LE3       T     1     1  at_home     other  ...   \n",
              "3     GP   F   15       U     GT3       T     4     2   health  services  ...   \n",
              "4     GP   F   16       U     GT3       T     3     3    other     other  ...   \n",
              "\n",
              "  famrel freetime  goout  Dalc  Walc health absences  G1  G2  G3  \n",
              "0      4        3      4     1     1      3        6   5   6   6  \n",
              "1      5        3      3     1     1      3        4   5   5   6  \n",
              "2      4        3      2     2     3      3       10   7   8  10  \n",
              "3      3        2      2     1     1      5        2  15  14  15  \n",
              "4      4        3      2     1     2      5        4   6  10  10  \n",
              "\n",
              "[5 rows x 33 columns]"
            ],
            "text/html": [
              "\n",
              "  <div id=\"df-3b2a3ce8-c94b-4931-a9c1-74d3112b4045\" class=\"colab-df-container\">\n",
              "    <div>\n",
              "<style scoped>\n",
              "    .dataframe tbody tr th:only-of-type {\n",
              "        vertical-align: middle;\n",
              "    }\n",
              "\n",
              "    .dataframe tbody tr th {\n",
              "        vertical-align: top;\n",
              "    }\n",
              "\n",
              "    .dataframe thead th {\n",
              "        text-align: right;\n",
              "    }\n",
              "</style>\n",
              "<table border=\"1\" class=\"dataframe\">\n",
              "  <thead>\n",
              "    <tr style=\"text-align: right;\">\n",
              "      <th></th>\n",
              "      <th>school</th>\n",
              "      <th>sex</th>\n",
              "      <th>age</th>\n",
              "      <th>address</th>\n",
              "      <th>famsize</th>\n",
              "      <th>Pstatus</th>\n",
              "      <th>Medu</th>\n",
              "      <th>Fedu</th>\n",
              "      <th>Mjob</th>\n",
              "      <th>Fjob</th>\n",
              "      <th>...</th>\n",
              "      <th>famrel</th>\n",
              "      <th>freetime</th>\n",
              "      <th>goout</th>\n",
              "      <th>Dalc</th>\n",
              "      <th>Walc</th>\n",
              "      <th>health</th>\n",
              "      <th>absences</th>\n",
              "      <th>G1</th>\n",
              "      <th>G2</th>\n",
              "      <th>G3</th>\n",
              "    </tr>\n",
              "  </thead>\n",
              "  <tbody>\n",
              "    <tr>\n",
              "      <th>0</th>\n",
              "      <td>GP</td>\n",
              "      <td>F</td>\n",
              "      <td>18</td>\n",
              "      <td>U</td>\n",
              "      <td>GT3</td>\n",
              "      <td>A</td>\n",
              "      <td>4</td>\n",
              "      <td>4</td>\n",
              "      <td>at_home</td>\n",
              "      <td>teacher</td>\n",
              "      <td>...</td>\n",
              "      <td>4</td>\n",
              "      <td>3</td>\n",
              "      <td>4</td>\n",
              "      <td>1</td>\n",
              "      <td>1</td>\n",
              "      <td>3</td>\n",
              "      <td>6</td>\n",
              "      <td>5</td>\n",
              "      <td>6</td>\n",
              "      <td>6</td>\n",
              "    </tr>\n",
              "    <tr>\n",
              "      <th>1</th>\n",
              "      <td>GP</td>\n",
              "      <td>F</td>\n",
              "      <td>17</td>\n",
              "      <td>U</td>\n",
              "      <td>GT3</td>\n",
              "      <td>T</td>\n",
              "      <td>1</td>\n",
              "      <td>1</td>\n",
              "      <td>at_home</td>\n",
              "      <td>other</td>\n",
              "      <td>...</td>\n",
              "      <td>5</td>\n",
              "      <td>3</td>\n",
              "      <td>3</td>\n",
              "      <td>1</td>\n",
              "      <td>1</td>\n",
              "      <td>3</td>\n",
              "      <td>4</td>\n",
              "      <td>5</td>\n",
              "      <td>5</td>\n",
              "      <td>6</td>\n",
              "    </tr>\n",
              "    <tr>\n",
              "      <th>2</th>\n",
              "      <td>GP</td>\n",
              "      <td>F</td>\n",
              "      <td>15</td>\n",
              "      <td>U</td>\n",
              "      <td>LE3</td>\n",
              "      <td>T</td>\n",
              "      <td>1</td>\n",
              "      <td>1</td>\n",
              "      <td>at_home</td>\n",
              "      <td>other</td>\n",
              "      <td>...</td>\n",
              "      <td>4</td>\n",
              "      <td>3</td>\n",
              "      <td>2</td>\n",
              "      <td>2</td>\n",
              "      <td>3</td>\n",
              "      <td>3</td>\n",
              "      <td>10</td>\n",
              "      <td>7</td>\n",
              "      <td>8</td>\n",
              "      <td>10</td>\n",
              "    </tr>\n",
              "    <tr>\n",
              "      <th>3</th>\n",
              "      <td>GP</td>\n",
              "      <td>F</td>\n",
              "      <td>15</td>\n",
              "      <td>U</td>\n",
              "      <td>GT3</td>\n",
              "      <td>T</td>\n",
              "      <td>4</td>\n",
              "      <td>2</td>\n",
              "      <td>health</td>\n",
              "      <td>services</td>\n",
              "      <td>...</td>\n",
              "      <td>3</td>\n",
              "      <td>2</td>\n",
              "      <td>2</td>\n",
              "      <td>1</td>\n",
              "      <td>1</td>\n",
              "      <td>5</td>\n",
              "      <td>2</td>\n",
              "      <td>15</td>\n",
              "      <td>14</td>\n",
              "      <td>15</td>\n",
              "    </tr>\n",
              "    <tr>\n",
              "      <th>4</th>\n",
              "      <td>GP</td>\n",
              "      <td>F</td>\n",
              "      <td>16</td>\n",
              "      <td>U</td>\n",
              "      <td>GT3</td>\n",
              "      <td>T</td>\n",
              "      <td>3</td>\n",
              "      <td>3</td>\n",
              "      <td>other</td>\n",
              "      <td>other</td>\n",
              "      <td>...</td>\n",
              "      <td>4</td>\n",
              "      <td>3</td>\n",
              "      <td>2</td>\n",
              "      <td>1</td>\n",
              "      <td>2</td>\n",
              "      <td>5</td>\n",
              "      <td>4</td>\n",
              "      <td>6</td>\n",
              "      <td>10</td>\n",
              "      <td>10</td>\n",
              "    </tr>\n",
              "  </tbody>\n",
              "</table>\n",
              "<p>5 rows × 33 columns</p>\n",
              "</div>\n",
              "    <div class=\"colab-df-buttons\">\n",
              "\n",
              "  <div class=\"colab-df-container\">\n",
              "    <button class=\"colab-df-convert\" onclick=\"convertToInteractive('df-3b2a3ce8-c94b-4931-a9c1-74d3112b4045')\"\n",
              "            title=\"Convert this dataframe to an interactive table.\"\n",
              "            style=\"display:none;\">\n",
              "\n",
              "  <svg xmlns=\"http://www.w3.org/2000/svg\" height=\"24px\" viewBox=\"0 -960 960 960\">\n",
              "    <path d=\"M120-120v-720h720v720H120Zm60-500h600v-160H180v160Zm220 220h160v-160H400v160Zm0 220h160v-160H400v160ZM180-400h160v-160H180v160Zm440 0h160v-160H620v160ZM180-180h160v-160H180v160Zm440 0h160v-160H620v160Z\"/>\n",
              "  </svg>\n",
              "    </button>\n",
              "\n",
              "  <style>\n",
              "    .colab-df-container {\n",
              "      display:flex;\n",
              "      gap: 12px;\n",
              "    }\n",
              "\n",
              "    .colab-df-convert {\n",
              "      background-color: #E8F0FE;\n",
              "      border: none;\n",
              "      border-radius: 50%;\n",
              "      cursor: pointer;\n",
              "      display: none;\n",
              "      fill: #1967D2;\n",
              "      height: 32px;\n",
              "      padding: 0 0 0 0;\n",
              "      width: 32px;\n",
              "    }\n",
              "\n",
              "    .colab-df-convert:hover {\n",
              "      background-color: #E2EBFA;\n",
              "      box-shadow: 0px 1px 2px rgba(60, 64, 67, 0.3), 0px 1px 3px 1px rgba(60, 64, 67, 0.15);\n",
              "      fill: #174EA6;\n",
              "    }\n",
              "\n",
              "    .colab-df-buttons div {\n",
              "      margin-bottom: 4px;\n",
              "    }\n",
              "\n",
              "    [theme=dark] .colab-df-convert {\n",
              "      background-color: #3B4455;\n",
              "      fill: #D2E3FC;\n",
              "    }\n",
              "\n",
              "    [theme=dark] .colab-df-convert:hover {\n",
              "      background-color: #434B5C;\n",
              "      box-shadow: 0px 1px 3px 1px rgba(0, 0, 0, 0.15);\n",
              "      filter: drop-shadow(0px 1px 2px rgba(0, 0, 0, 0.3));\n",
              "      fill: #FFFFFF;\n",
              "    }\n",
              "  </style>\n",
              "\n",
              "    <script>\n",
              "      const buttonEl =\n",
              "        document.querySelector('#df-3b2a3ce8-c94b-4931-a9c1-74d3112b4045 button.colab-df-convert');\n",
              "      buttonEl.style.display =\n",
              "        google.colab.kernel.accessAllowed ? 'block' : 'none';\n",
              "\n",
              "      async function convertToInteractive(key) {\n",
              "        const element = document.querySelector('#df-3b2a3ce8-c94b-4931-a9c1-74d3112b4045');\n",
              "        const dataTable =\n",
              "          await google.colab.kernel.invokeFunction('convertToInteractive',\n",
              "                                                    [key], {});\n",
              "        if (!dataTable) return;\n",
              "\n",
              "        const docLinkHtml = 'Like what you see? Visit the ' +\n",
              "          '<a target=\"_blank\" href=https://colab.research.google.com/notebooks/data_table.ipynb>data table notebook</a>'\n",
              "          + ' to learn more about interactive tables.';\n",
              "        element.innerHTML = '';\n",
              "        dataTable['output_type'] = 'display_data';\n",
              "        await google.colab.output.renderOutput(dataTable, element);\n",
              "        const docLink = document.createElement('div');\n",
              "        docLink.innerHTML = docLinkHtml;\n",
              "        element.appendChild(docLink);\n",
              "      }\n",
              "    </script>\n",
              "  </div>\n",
              "\n",
              "\n",
              "<div id=\"df-10762b2d-8029-4d06-bddc-fe2aaa2d4f4e\">\n",
              "  <button class=\"colab-df-quickchart\" onclick=\"quickchart('df-10762b2d-8029-4d06-bddc-fe2aaa2d4f4e')\"\n",
              "            title=\"Suggest charts\"\n",
              "            style=\"display:none;\">\n",
              "\n",
              "<svg xmlns=\"http://www.w3.org/2000/svg\" height=\"24px\"viewBox=\"0 0 24 24\"\n",
              "     width=\"24px\">\n",
              "    <g>\n",
              "        <path d=\"M19 3H5c-1.1 0-2 .9-2 2v14c0 1.1.9 2 2 2h14c1.1 0 2-.9 2-2V5c0-1.1-.9-2-2-2zM9 17H7v-7h2v7zm4 0h-2V7h2v10zm4 0h-2v-4h2v4z\"/>\n",
              "    </g>\n",
              "</svg>\n",
              "  </button>\n",
              "\n",
              "<style>\n",
              "  .colab-df-quickchart {\n",
              "      --bg-color: #E8F0FE;\n",
              "      --fill-color: #1967D2;\n",
              "      --hover-bg-color: #E2EBFA;\n",
              "      --hover-fill-color: #174EA6;\n",
              "      --disabled-fill-color: #AAA;\n",
              "      --disabled-bg-color: #DDD;\n",
              "  }\n",
              "\n",
              "  [theme=dark] .colab-df-quickchart {\n",
              "      --bg-color: #3B4455;\n",
              "      --fill-color: #D2E3FC;\n",
              "      --hover-bg-color: #434B5C;\n",
              "      --hover-fill-color: #FFFFFF;\n",
              "      --disabled-bg-color: #3B4455;\n",
              "      --disabled-fill-color: #666;\n",
              "  }\n",
              "\n",
              "  .colab-df-quickchart {\n",
              "    background-color: var(--bg-color);\n",
              "    border: none;\n",
              "    border-radius: 50%;\n",
              "    cursor: pointer;\n",
              "    display: none;\n",
              "    fill: var(--fill-color);\n",
              "    height: 32px;\n",
              "    padding: 0;\n",
              "    width: 32px;\n",
              "  }\n",
              "\n",
              "  .colab-df-quickchart:hover {\n",
              "    background-color: var(--hover-bg-color);\n",
              "    box-shadow: 0 1px 2px rgba(60, 64, 67, 0.3), 0 1px 3px 1px rgba(60, 64, 67, 0.15);\n",
              "    fill: var(--button-hover-fill-color);\n",
              "  }\n",
              "\n",
              "  .colab-df-quickchart-complete:disabled,\n",
              "  .colab-df-quickchart-complete:disabled:hover {\n",
              "    background-color: var(--disabled-bg-color);\n",
              "    fill: var(--disabled-fill-color);\n",
              "    box-shadow: none;\n",
              "  }\n",
              "\n",
              "  .colab-df-spinner {\n",
              "    border: 2px solid var(--fill-color);\n",
              "    border-color: transparent;\n",
              "    border-bottom-color: var(--fill-color);\n",
              "    animation:\n",
              "      spin 1s steps(1) infinite;\n",
              "  }\n",
              "\n",
              "  @keyframes spin {\n",
              "    0% {\n",
              "      border-color: transparent;\n",
              "      border-bottom-color: var(--fill-color);\n",
              "      border-left-color: var(--fill-color);\n",
              "    }\n",
              "    20% {\n",
              "      border-color: transparent;\n",
              "      border-left-color: var(--fill-color);\n",
              "      border-top-color: var(--fill-color);\n",
              "    }\n",
              "    30% {\n",
              "      border-color: transparent;\n",
              "      border-left-color: var(--fill-color);\n",
              "      border-top-color: var(--fill-color);\n",
              "      border-right-color: var(--fill-color);\n",
              "    }\n",
              "    40% {\n",
              "      border-color: transparent;\n",
              "      border-right-color: var(--fill-color);\n",
              "      border-top-color: var(--fill-color);\n",
              "    }\n",
              "    60% {\n",
              "      border-color: transparent;\n",
              "      border-right-color: var(--fill-color);\n",
              "    }\n",
              "    80% {\n",
              "      border-color: transparent;\n",
              "      border-right-color: var(--fill-color);\n",
              "      border-bottom-color: var(--fill-color);\n",
              "    }\n",
              "    90% {\n",
              "      border-color: transparent;\n",
              "      border-bottom-color: var(--fill-color);\n",
              "    }\n",
              "  }\n",
              "</style>\n",
              "\n",
              "  <script>\n",
              "    async function quickchart(key) {\n",
              "      const quickchartButtonEl =\n",
              "        document.querySelector('#' + key + ' button');\n",
              "      quickchartButtonEl.disabled = true;  // To prevent multiple clicks.\n",
              "      quickchartButtonEl.classList.add('colab-df-spinner');\n",
              "      try {\n",
              "        const charts = await google.colab.kernel.invokeFunction(\n",
              "            'suggestCharts', [key], {});\n",
              "      } catch (error) {\n",
              "        console.error('Error during call to suggestCharts:', error);\n",
              "      }\n",
              "      quickchartButtonEl.classList.remove('colab-df-spinner');\n",
              "      quickchartButtonEl.classList.add('colab-df-quickchart-complete');\n",
              "    }\n",
              "    (() => {\n",
              "      let quickchartButtonEl =\n",
              "        document.querySelector('#df-10762b2d-8029-4d06-bddc-fe2aaa2d4f4e button');\n",
              "      quickchartButtonEl.style.display =\n",
              "        google.colab.kernel.accessAllowed ? 'block' : 'none';\n",
              "    })();\n",
              "  </script>\n",
              "</div>\n",
              "    </div>\n",
              "  </div>\n"
            ]
          },
          "metadata": {}
        }
      ],
      "source": [
        "#menampilkan data shape dan info data\n",
        "print('Data Shape:',df.shape)\n",
        "print(df.info())\n",
        "display(df.head())"
      ]
    },
    {
      "cell_type": "code",
      "source": [
        "# Menghapus baris dengan nilai null\n",
        "df.dropna(inplace=True)\n"
      ],
      "metadata": {
        "id": "I0jogDjV4xIi"
      },
      "execution_count": null,
      "outputs": []
    },
    {
      "cell_type": "code",
      "source": [
        "df_clean = df.dropna()\n"
      ],
      "metadata": {
        "id": "8iJeDkt54zyz"
      },
      "execution_count": null,
      "outputs": []
    },
    {
      "cell_type": "code",
      "execution_count": null,
      "metadata": {
        "id": "6BhJ6xzqefUt",
        "colab": {
          "base_uri": "https://localhost:8080/"
        },
        "outputId": "a00c8895-74b2-49cd-b62e-be7c3bdddecb"
      },
      "outputs": [
        {
          "output_type": "stream",
          "name": "stdout",
          "text": [
            "Catagorical Column's Values\n",
            "\n",
            "------- columns school -------\n",
            "There are 2 Unique values\n",
            "5 of which are: ['GP' 'MS']\n",
            "\n",
            "------- columns sex -------\n",
            "There are 2 Unique values\n",
            "5 of which are: ['F' 'M']\n",
            "\n",
            "------- columns address -------\n",
            "There are 2 Unique values\n",
            "5 of which are: ['U' 'R']\n",
            "\n",
            "------- columns famsize -------\n",
            "There are 2 Unique values\n",
            "5 of which are: ['GT3' 'LE3']\n",
            "\n",
            "------- columns Pstatus -------\n",
            "There are 2 Unique values\n",
            "5 of which are: ['A' 'T']\n",
            "\n",
            "------- columns Mjob -------\n",
            "There are 5 Unique values\n",
            "5 of which are: ['at_home' 'health' 'other' 'services' 'teacher']\n",
            "\n",
            "------- columns Fjob -------\n",
            "There are 5 Unique values\n",
            "5 of which are: ['teacher' 'other' 'services' 'health' 'at_home']\n",
            "\n",
            "------- columns reason -------\n",
            "There are 4 Unique values\n",
            "5 of which are: ['course' 'other' 'home' 'reputation']\n",
            "\n",
            "------- columns guardian -------\n",
            "There are 3 Unique values\n",
            "5 of which are: ['mother' 'father' 'other']\n",
            "\n",
            "------- columns schoolsup -------\n",
            "There are 2 Unique values\n",
            "5 of which are: ['yes' 'no']\n",
            "\n",
            "------- columns famsup -------\n",
            "There are 2 Unique values\n",
            "5 of which are: ['no' 'yes']\n",
            "\n",
            "------- columns paid -------\n",
            "There are 2 Unique values\n",
            "5 of which are: ['no' 'yes']\n",
            "\n",
            "------- columns activities -------\n",
            "There are 2 Unique values\n",
            "5 of which are: ['no' 'yes']\n",
            "\n",
            "------- columns nursery -------\n",
            "There are 2 Unique values\n",
            "5 of which are: ['yes' 'no']\n",
            "\n",
            "------- columns higher -------\n",
            "There are 2 Unique values\n",
            "5 of which are: ['yes' 'no']\n",
            "\n",
            "------- columns internet -------\n",
            "There are 2 Unique values\n",
            "5 of which are: ['no' 'yes']\n",
            "\n",
            "------- columns romantic -------\n",
            "There are 2 Unique values\n",
            "5 of which are: ['no' 'yes']\n",
            "\n"
          ]
        }
      ],
      "source": [
        "#menampikan unique value dari categorical columns\n",
        "print('Catagorical Column\\'s Values\\n')\n",
        "for col in df.select_dtypes(exclude=np.number).columns:\n",
        "    unique = df[col].unique()\n",
        "    print('-'*7,f'columns {col}','-'*7)\n",
        "    print(f'There are {len(unique)} Unique values')\n",
        "    print(f'5 of which are: {unique[:5]}\\n')"
      ]
    },
    {
      "cell_type": "code",
      "execution_count": null,
      "metadata": {
        "id": "P7_tLYSSLoEj"
      },
      "outputs": [],
      "source": [
        "# Mengubah kategori menjadi angka dengan LabelEncoder\n",
        "label_encoders = {}\n",
        "for column in df.select_dtypes(include=['object']).columns:\n",
        "    le = LabelEncoder()\n",
        "    df[column] = le.fit_transform(df[column])\n",
        "    label_encoders[column] = le\n",
        "\n",
        "# Normalisasi data numerik\n",
        "scaler = StandardScaler()\n",
        "df_scaled = scaler.fit_transform(df)\n"
      ]
    },
    {
      "cell_type": "markdown",
      "metadata": {
        "id": "9Fv0-Xg57j9L"
      },
      "source": [
        "d. Visualisasi Data\n",
        "\n",
        "# pengechekan outlier\n",
        "\n",
        "\n"
      ]
    },
    {
      "cell_type": "code",
      "execution_count": null,
      "metadata": {
        "id": "3FDkiKcmfmJg",
        "colab": {
          "base_uri": "https://localhost:8080/",
          "height": 1000
        },
        "outputId": "e107f5eb-8b55-4385-84c1-a4058c129cc5"
      },
      "outputs": [
        {
          "output_type": "display_data",
          "data": {
            "text/plain": [
              "<Figure size 800x2800 with 7 Axes>"
            ],
            "image/png": "[encoded data removed]"
          },
          "metadata": {}
        }
      ],
      "source": [
        "# Import library yang dibutuhkan\n",
        "import seaborn as sns\n",
        "import matplotlib.pyplot as plt\n",
        "\n",
        "# Kolom numerik yang akan diperiksa untuk outliers\n",
        "numerical_columns = ['age', 'failures', 'absences', 'G3', 'traveltime', 'famrel', 'freetime']\n",
        "\n",
        "# Membuat subplot untuk setiap kolom numerik\n",
        "fig, axs = plt.subplots(nrows=len(numerical_columns), figsize=(8, 4 * len(numerical_columns)))\n",
        "\n",
        "# Loop melalui setiap kolom numerik dan membuat boxplot\n",
        "for i, col in enumerate(numerical_columns):\n",
        "    sns.boxplot(data=df, y=col, ax=axs[i])\n",
        "    axs[i].set_ylabel(col)\n",
        "    axs[i].tick_params(labelsize=10)\n",
        "\n",
        "# Menambahkan judul keseluruhan dan menyesuaikan tata letak subplot\n",
        "plt.suptitle('Boxplot of Numerical Columns')\n",
        "plt.subplots_adjust(hspace=0.5)\n",
        "plt.tight_layout()\n",
        "plt.show()\n"
      ]
    },
    {
      "cell_type": "code",
      "source": [
        "# Matriks korelasi Pearson\n",
        "correlation_matrix = df[numerical_columns].corr()\n",
        "\n",
        "# Tentukan ambang batas untuk korelasi rendah (contoh: 0.2)\n",
        "low_corr_threshold = 0.2\n",
        "\n",
        "# Cari kolom-kolom dengan korelasi rendah dan hapus\n",
        "low_corr_columns = []\n",
        "for col in numerical_columns:\n",
        "    if abs(correlation_matrix['G3'][col]) < low_corr_threshold:\n",
        "        low_corr_columns.append(col)\n",
        "\n",
        "# Hapus kolom-kolom dengan korelasi rendah\n",
        "df_filtered = df.drop(columns=low_corr_columns)\n",
        "\n",
        "# Buat heatmap untuk korelasi yang tinggi\n",
        "plt.figure(figsize=(10, 8))\n",
        "sns.heatmap(correlation_matrix, annot=True, cmap='coolwarm', fmt=\".2f\")\n",
        "plt.title(\"Matriks Korelasi Pearson\")\n",
        "plt.show()\n",
        "\n"
      ],
      "metadata": {
        "id": "-8h54zkSvkAe",
        "colab": {
          "base_uri": "https://localhost:8080/",
          "height": 699
        },
        "outputId": "b8e17f53-41d5-4334-c25b-359932240535"
      },
      "execution_count": null,
      "outputs": [
        {
          "output_type": "display_data",
          "data": {
            "text/plain": [
              "<Figure size 1000x800 with 2 Axes>"
            ],
            "image/png": "[encoded data removed]"
          },
          "metadata": {}
        }
      ]
    },
    {
      "cell_type": "markdown",
      "metadata": {
        "id": "fiuDUaXN7voy"
      },
      "source": [
        "# 2. Pembangunan Model **Baseline**\n",
        "a. Impor pustaka yang dibutuhkan"
      ]
    },
    {
      "cell_type": "markdown",
      "metadata": {
        "id": "vOG7r75E8Aci"
      },
      "source": [
        "b. Memauat dan memproses data, Membagi dataset menjadi train dan test"
      ]
    },
    {
      "cell_type": "code",
      "execution_count": null,
      "metadata": {
        "id": "AcMeKNoa73g6"
      },
      "outputs": [],
      "source": [
        "# Misalkan Anda memiliki DataFrame 'df' dengan fitur dan target\n",
        "X = df.drop(columns=['G3'])\n",
        "y = df['G3']\n",
        "\n",
        "# Normalisasi data\n",
        "scaler = StandardScaler()\n",
        "X = scaler.fit_transform(X)\n",
        "\n",
        "# Membagi dataset menjadi train dan test\n",
        "X_train, X_test, y_train, y_test = train_test_split(X, y, test_size=0.2, random_state=42)"
      ]
    },
    {
      "cell_type": "code",
      "source": [
        "# Mengonversi y_test dan y_pred menjadi DataFrame\n",
        "y_test_df = pd.DataFrame({'y_test': y_test}).reset_index(drop=True)\n",
        "y_pred_df = pd.DataFrame({'y_pred': y_pred.flatten()}).reset_index(drop=True)\n",
        "\n",
        "# Menggabungkan kedua DataFrames\n",
        "result_df = pd.concat([y_test_df, y_pred_df], axis=1)\n",
        "\n",
        "# Menyimpan hasil ke dalam file CSV\n",
        "result_df.to_csv('hasil_prediksi.csv', index=False)\n"
      ],
      "metadata": {
        "id": "p1zSO-8Xy0Ea"
      },
      "execution_count": null,
      "outputs": []
    },
    {
      "cell_type": "markdown",
      "metadata": {
        "id": "WiEH9yH58Dzh"
      },
      "source": [
        "c. Bangun model baseline"
      ]
    },
    {
      "cell_type": "code",
      "execution_count": null,
      "metadata": {
        "id": "BB_u-NjO8fOa",
        "colab": {
          "base_uri": "https://localhost:8080/"
        },
        "outputId": "d1155c58-1c03-4c5c-9aad-13375d1b06cf"
      },
      "outputs": [
        {
          "output_type": "stream",
          "name": "stdout",
          "text": [
            "Epoch 1/50\n",
            "21/21 [==============================] - 1s 14ms/step - loss: 67.6518 - val_loss: 23.0013\n",
            "Epoch 2/50\n",
            "21/21 [==============================] - 0s 7ms/step - loss: 17.6471 - val_loss: 15.1430\n",
            "Epoch 3/50\n",
            "21/21 [==============================] - 0s 7ms/step - loss: 10.9921 - val_loss: 10.3823\n",
            "Epoch 4/50\n",
            "21/21 [==============================] - 0s 7ms/step - loss: 7.9356 - val_loss: 7.9965\n",
            "Epoch 5/50\n",
            "21/21 [==============================] - 0s 6ms/step - loss: 6.4998 - val_loss: 6.7105\n",
            "Epoch 6/50\n",
            "21/21 [==============================] - 0s 6ms/step - loss: 5.4451 - val_loss: 5.6572\n",
            "Epoch 7/50\n",
            "21/21 [==============================] - 0s 7ms/step - loss: 4.6750 - val_loss: 5.0340\n",
            "Epoch 8/50\n",
            "21/21 [==============================] - 0s 6ms/step - loss: 4.2018 - val_loss: 4.5391\n",
            "Epoch 9/50\n",
            "21/21 [==============================] - 0s 7ms/step - loss: 3.8609 - val_loss: 4.2893\n",
            "Epoch 10/50\n",
            "21/21 [==============================] - 0s 6ms/step - loss: 3.6192 - val_loss: 3.9661\n",
            "Epoch 11/50\n",
            "21/21 [==============================] - 0s 7ms/step - loss: 3.3962 - val_loss: 3.7008\n",
            "Epoch 12/50\n",
            "21/21 [==============================] - 0s 6ms/step - loss: 3.2147 - val_loss: 3.5552\n",
            "Epoch 13/50\n",
            "21/21 [==============================] - 0s 7ms/step - loss: 3.0544 - val_loss: 3.4793\n",
            "Epoch 14/50\n",
            "21/21 [==============================] - 0s 6ms/step - loss: 2.9752 - val_loss: 3.2600\n",
            "Epoch 15/50\n",
            "21/21 [==============================] - 0s 7ms/step - loss: 2.8226 - val_loss: 3.3667\n",
            "Epoch 16/50\n",
            "21/21 [==============================] - 0s 7ms/step - loss: 2.8943 - val_loss: 3.1694\n",
            "Epoch 17/50\n",
            "21/21 [==============================] - 0s 7ms/step - loss: 2.6448 - val_loss: 2.9135\n",
            "Epoch 18/50\n",
            "21/21 [==============================] - 0s 7ms/step - loss: 2.5487 - val_loss: 2.8047\n",
            "Epoch 19/50\n",
            "21/21 [==============================] - 0s 7ms/step - loss: 2.4906 - val_loss: 2.7473\n",
            "Epoch 20/50\n",
            "21/21 [==============================] - 0s 6ms/step - loss: 2.4383 - val_loss: 2.7240\n",
            "Epoch 21/50\n",
            "21/21 [==============================] - 0s 7ms/step - loss: 2.3641 - val_loss: 2.7163\n",
            "Epoch 22/50\n",
            "21/21 [==============================] - 0s 7ms/step - loss: 2.3501 - val_loss: 2.5338\n",
            "Epoch 23/50\n",
            "21/21 [==============================] - 0s 6ms/step - loss: 2.4198 - val_loss: 2.7081\n",
            "Epoch 24/50\n",
            "21/21 [==============================] - 0s 7ms/step - loss: 2.2400 - val_loss: 2.4552\n",
            "Epoch 25/50\n",
            "21/21 [==============================] - 0s 6ms/step - loss: 2.2280 - val_loss: 2.4687\n",
            "Epoch 26/50\n",
            "21/21 [==============================] - 0s 7ms/step - loss: 2.2088 - val_loss: 2.3693\n",
            "Epoch 27/50\n",
            "21/21 [==============================] - 0s 7ms/step - loss: 2.1551 - val_loss: 2.4143\n",
            "Epoch 28/50\n",
            "21/21 [==============================] - 0s 6ms/step - loss: 2.1856 - val_loss: 2.3194\n",
            "Epoch 29/50\n",
            "21/21 [==============================] - 0s 6ms/step - loss: 2.2117 - val_loss: 2.5071\n",
            "Epoch 30/50\n",
            "21/21 [==============================] - 0s 7ms/step - loss: 2.0803 - val_loss: 2.3107\n",
            "Epoch 31/50\n",
            "21/21 [==============================] - 0s 6ms/step - loss: 2.0924 - val_loss: 2.3338\n",
            "Epoch 32/50\n",
            "21/21 [==============================] - 0s 6ms/step - loss: 2.0582 - val_loss: 2.2785\n",
            "Epoch 33/50\n",
            "21/21 [==============================] - 0s 6ms/step - loss: 2.0152 - val_loss: 2.2801\n",
            "Epoch 34/50\n",
            "21/21 [==============================] - 0s 7ms/step - loss: 2.0027 - val_loss: 2.4784\n",
            "Epoch 35/50\n",
            "21/21 [==============================] - 0s 6ms/step - loss: 2.0322 - val_loss: 2.2828\n",
            "Epoch 36/50\n",
            "21/21 [==============================] - 0s 6ms/step - loss: 2.0132 - val_loss: 2.3125\n",
            "Epoch 37/50\n",
            "21/21 [==============================] - 0s 6ms/step - loss: 1.9942 - val_loss: 2.2711\n",
            "Epoch 38/50\n",
            "21/21 [==============================] - 0s 7ms/step - loss: 2.0114 - val_loss: 2.2654\n",
            "Epoch 39/50\n",
            "21/21 [==============================] - 0s 6ms/step - loss: 1.9912 - val_loss: 2.3109\n",
            "Epoch 40/50\n",
            "21/21 [==============================] - 0s 6ms/step - loss: 1.9603 - val_loss: 2.2311\n",
            "Epoch 41/50\n",
            "21/21 [==============================] - 0s 6ms/step - loss: 1.9326 - val_loss: 2.5904\n",
            "Epoch 42/50\n",
            "21/21 [==============================] - 0s 6ms/step - loss: 2.0374 - val_loss: 2.2680\n",
            "Epoch 43/50\n",
            "21/21 [==============================] - 0s 7ms/step - loss: 1.9543 - val_loss: 2.2570\n",
            "Epoch 44/50\n",
            "21/21 [==============================] - 0s 6ms/step - loss: 1.9255 - val_loss: 2.2598\n",
            "Epoch 45/50\n",
            "21/21 [==============================] - 0s 6ms/step - loss: 1.8917 - val_loss: 2.2847\n",
            "Epoch 46/50\n",
            "21/21 [==============================] - 0s 6ms/step - loss: 1.9254 - val_loss: 2.2955\n",
            "Epoch 47/50\n",
            "21/21 [==============================] - 0s 10ms/step - loss: 2.0011 - val_loss: 2.2537\n",
            "Epoch 48/50\n",
            "21/21 [==============================] - 0s 11ms/step - loss: 1.9703 - val_loss: 2.4210\n",
            "Epoch 49/50\n",
            "21/21 [==============================] - 0s 10ms/step - loss: 1.9315 - val_loss: 2.2907\n",
            "Epoch 50/50\n",
            "21/21 [==============================] - 0s 10ms/step - loss: 1.8856 - val_loss: 2.2784\n"
          ]
        },
        {
          "output_type": "execute_result",
          "data": {
            "text/plain": [
              "<keras.src.callbacks.History at 0x7dc375217550>"
            ]
          },
          "metadata": {},
          "execution_count": 101
        }
      ],
      "source": [
        "model_baseline = Sequential()\n",
        "model_baseline.add(Conv1D(32, 2, activation='relu', input_shape=(X_train.shape[1], 1)))\n",
        "model_baseline.add(Flatten())\n",
        "model_baseline.add(Dense(64, activation='relu'))\n",
        "model_baseline.add(Dense(1, activation='linear'))  # Untuk regresi gunakan aktivasi 'linear'\n",
        "\n",
        "model_baseline.compile(optimizer='adam', loss='mean_squared_error')\n",
        "model_baseline.fit(X_train, y_train, epochs=50, batch_size=32, validation_split=0.2)\n"
      ]
    },
    {
      "cell_type": "markdown",
      "metadata": {
        "id": "WDAuwGxT7QSp"
      },
      "source": [
        "'\n",
        "d. Evaluasi model"
      ]
    },
    {
      "cell_type": "code",
      "execution_count": null,
      "metadata": {
        "id": "sRS9f7F97ND9",
        "colab": {
          "base_uri": "https://localhost:8080/"
        },
        "outputId": "945d363a-2f67-4ce7-83e1-5996a3cc1dd3"
      },
      "outputs": [
        {
          "output_type": "stream",
          "name": "stdout",
          "text": [
            "7/7 [==============================] - 0s 4ms/step - loss: 3.1325\n",
            "7/7 [==============================] - 0s 4ms/step\n",
            "Mean Squared Error: 3.1324825248590207\n"
          ]
        }
      ],
      "source": [
        "# Evaluasi model pada data pengujian\n",
        "loss = model_baseline.evaluate(X_test, y_test)\n",
        "\n",
        "# Prediksi pada data pengujian\n",
        "y_pred = model_baseline.predict(X_test)\n",
        "\n",
        "# Anda dapat menggunakan metrik evaluasi yang sesuai untuk regresi, misalnya, Mean Squared Error (MSE)\n",
        "from sklearn.metrics import mean_squared_error\n",
        "mse = mean_squared_error(y_test, y_pred)\n",
        "print(f'Mean Squared Error: {mse}')\n"
      ]
    },
    {
      "cell_type": "markdown",
      "metadata": {
        "id": "SSvcGOUY7Vab"
      },
      "source": [
        "e. Visualisasi performa model"
      ]
    },
    {
      "cell_type": "code",
      "execution_count": null,
      "metadata": {
        "id": "e7u2vwji7PUa",
        "colab": {
          "base_uri": "https://localhost:8080/",
          "height": 1000
        },
        "outputId": "c8658c53-27ae-4ca3-cb97-81be0228f07d"
      },
      "outputs": [
        {
          "output_type": "stream",
          "name": "stdout",
          "text": [
            "Epoch 1/50\n",
            "21/21 [==============================] - 0s 12ms/step - loss: 1.8985 - val_loss: 2.2423\n",
            "Epoch 2/50\n",
            "21/21 [==============================] - 0s 9ms/step - loss: 1.8881 - val_loss: 2.2530\n",
            "Epoch 3/50\n",
            "21/21 [==============================] - 0s 9ms/step - loss: 1.8660 - val_loss: 2.2520\n",
            "Epoch 4/50\n",
            "21/21 [==============================] - 0s 9ms/step - loss: 1.9206 - val_loss: 2.2853\n",
            "Epoch 5/50\n",
            "21/21 [==============================] - 0s 9ms/step - loss: 1.9462 - val_loss: 2.3063\n",
            "Epoch 6/50\n",
            "21/21 [==============================] - 0s 12ms/step - loss: 1.8900 - val_loss: 2.2507\n",
            "Epoch 7/50\n",
            "21/21 [==============================] - 0s 12ms/step - loss: 1.8958 - val_loss: 2.2771\n",
            "Epoch 8/50\n",
            "21/21 [==============================] - 0s 10ms/step - loss: 1.8176 - val_loss: 2.2777\n",
            "Epoch 9/50\n",
            "21/21 [==============================] - 0s 10ms/step - loss: 1.9077 - val_loss: 2.2971\n",
            "Epoch 10/50\n",
            "21/21 [==============================] - 0s 11ms/step - loss: 1.8381 - val_loss: 2.2727\n",
            "Epoch 11/50\n",
            "21/21 [==============================] - 0s 10ms/step - loss: 1.8665 - val_loss: 2.2886\n",
            "Epoch 12/50\n",
            "21/21 [==============================] - 0s 10ms/step - loss: 1.8734 - val_loss: 2.2643\n",
            "Epoch 13/50\n",
            "21/21 [==============================] - 0s 10ms/step - loss: 1.8219 - val_loss: 2.2141\n",
            "Epoch 14/50\n",
            "21/21 [==============================] - 0s 10ms/step - loss: 1.8910 - val_loss: 2.3745\n",
            "Epoch 15/50\n",
            "21/21 [==============================] - 0s 8ms/step - loss: 1.8009 - val_loss: 2.3101\n",
            "Epoch 16/50\n",
            "21/21 [==============================] - 0s 6ms/step - loss: 1.8461 - val_loss: 2.2633\n",
            "Epoch 17/50\n",
            "21/21 [==============================] - 0s 6ms/step - loss: 1.8845 - val_loss: 2.2966\n",
            "Epoch 18/50\n",
            "21/21 [==============================] - 0s 6ms/step - loss: 1.8381 - val_loss: 2.2049\n",
            "Epoch 19/50\n",
            "21/21 [==============================] - 0s 6ms/step - loss: 1.8091 - val_loss: 2.2464\n",
            "Epoch 20/50\n",
            "21/21 [==============================] - 0s 6ms/step - loss: 1.7664 - val_loss: 2.2808\n",
            "Epoch 21/50\n",
            "21/21 [==============================] - 0s 5ms/step - loss: 1.8282 - val_loss: 2.2414\n",
            "Epoch 22/50\n",
            "21/21 [==============================] - 0s 6ms/step - loss: 1.7718 - val_loss: 2.2103\n",
            "Epoch 23/50\n",
            "21/21 [==============================] - 0s 6ms/step - loss: 1.7508 - val_loss: 2.3070\n",
            "Epoch 24/50\n",
            "21/21 [==============================] - 0s 7ms/step - loss: 1.7554 - val_loss: 2.2743\n",
            "Epoch 25/50\n",
            "21/21 [==============================] - 0s 7ms/step - loss: 1.7470 - val_loss: 2.2052\n",
            "Epoch 26/50\n",
            "21/21 [==============================] - 0s 7ms/step - loss: 1.7918 - val_loss: 2.2489\n",
            "Epoch 27/50\n",
            "21/21 [==============================] - 0s 6ms/step - loss: 1.7373 - val_loss: 2.2113\n",
            "Epoch 28/50\n",
            "21/21 [==============================] - 0s 7ms/step - loss: 1.7484 - val_loss: 2.2883\n",
            "Epoch 29/50\n",
            "21/21 [==============================] - 0s 6ms/step - loss: 1.7452 - val_loss: 2.2355\n",
            "Epoch 30/50\n",
            "21/21 [==============================] - 0s 6ms/step - loss: 1.7325 - val_loss: 2.2952\n",
            "Epoch 31/50\n",
            "21/21 [==============================] - 0s 7ms/step - loss: 1.8147 - val_loss: 2.2313\n",
            "Epoch 32/50\n",
            "21/21 [==============================] - 0s 6ms/step - loss: 1.7147 - val_loss: 2.2467\n",
            "Epoch 33/50\n",
            "21/21 [==============================] - 0s 6ms/step - loss: 1.6738 - val_loss: 2.2306\n",
            "Epoch 34/50\n",
            "21/21 [==============================] - 0s 6ms/step - loss: 1.7206 - val_loss: 2.2376\n",
            "Epoch 35/50\n",
            "21/21 [==============================] - 0s 6ms/step - loss: 1.6960 - val_loss: 2.2166\n",
            "Epoch 36/50\n",
            "21/21 [==============================] - 0s 6ms/step - loss: 1.6811 - val_loss: 2.2966\n",
            "Epoch 37/50\n",
            "21/21 [==============================] - 0s 6ms/step - loss: 1.6950 - val_loss: 2.2292\n",
            "Epoch 38/50\n",
            "21/21 [==============================] - 0s 6ms/step - loss: 1.6685 - val_loss: 2.2882\n",
            "Epoch 39/50\n",
            "21/21 [==============================] - 0s 6ms/step - loss: 1.6706 - val_loss: 2.2579\n",
            "Epoch 40/50\n",
            "21/21 [==============================] - 0s 6ms/step - loss: 1.7404 - val_loss: 2.2616\n",
            "Epoch 41/50\n",
            "21/21 [==============================] - 0s 6ms/step - loss: 1.6924 - val_loss: 2.2753\n",
            "Epoch 42/50\n",
            "21/21 [==============================] - 0s 6ms/step - loss: 1.6666 - val_loss: 2.2901\n",
            "Epoch 43/50\n",
            "21/21 [==============================] - 0s 6ms/step - loss: 1.6784 - val_loss: 2.2309\n",
            "Epoch 44/50\n",
            "21/21 [==============================] - 0s 6ms/step - loss: 1.6509 - val_loss: 2.2886\n",
            "Epoch 45/50\n",
            "21/21 [==============================] - 0s 6ms/step - loss: 1.6578 - val_loss: 2.2807\n",
            "Epoch 46/50\n",
            "21/21 [==============================] - 0s 7ms/step - loss: 1.6624 - val_loss: 2.2729\n",
            "Epoch 47/50\n",
            "21/21 [==============================] - 0s 6ms/step - loss: 1.6232 - val_loss: 2.4300\n",
            "Epoch 48/50\n",
            "21/21 [==============================] - 0s 6ms/step - loss: 1.7395 - val_loss: 2.3200\n",
            "Epoch 49/50\n",
            "21/21 [==============================] - 0s 6ms/step - loss: 1.6267 - val_loss: 2.2822\n",
            "Epoch 50/50\n",
            "21/21 [==============================] - 0s 6ms/step - loss: 1.6237 - val_loss: 2.2798\n"
          ]
        },
        {
          "output_type": "display_data",
          "data": {
            "text/plain": [
              "<Figure size 640x480 with 1 Axes>"
            ],
            "image/png": "[encoded data removed]"
          },
          "metadata": {}
        }
      ],
      "source": [
        "# Training model_baseline\n",
        "history_baseline = model_baseline.fit(X_train, y_train, epochs=50, batch_size=32, validation_split=0.2)\n",
        "\n",
        "# Plot loss selama pelatihan\n",
        "plt.plot(history_baseline.history['loss'], label='Training Loss')\n",
        "plt.plot(history_baseline.history['val_loss'], label='Validation Loss')\n",
        "plt.legend()\n",
        "plt.xlabel('Epoch')\n",
        "plt.ylabel('Loss')\n",
        "plt.title('Training and Validation Loss')\n",
        "plt.show()\n"
      ]
    },
    {
      "cell_type": "markdown",
      "metadata": {
        "id": "j2TtPtQftSJX"
      },
      "source": [
        "# 3. Eksplorasi Model\n",
        "\n",
        "\n",
        "*   Skema 1: Tambahkan lebih banyak lapisan Conv1D.\n",
        "*   Skema 2: Gunakan kernel size yang lebih besar.\n",
        "*   Skema 3: Tambahkan lebih banyak neuron di lapisan Dense.\n",
        "*   Skema 4: Membandingkan Baseline dengan Skema.\n",
        "\n",
        "\n"
      ]
    },
    {
      "cell_type": "code",
      "execution_count": null,
      "metadata": {
        "id": "_tLtPMIJ9iCC"
      },
      "outputs": [],
      "source": [
        "# Memuat dan memproses data\n",
        "X = df.drop(columns=['age'])\n",
        "y = df['age']\n",
        "\n",
        "scaler = StandardScaler()\n",
        "X = scaler.fit_transform(X)\n",
        "\n",
        "X_train, X_test, y_train, y_test = train_test_split(X, y, test_size=0.2, random_state=42)"
      ]
    },
    {
      "cell_type": "markdown",
      "metadata": {
        "id": "i45RnGeXtrOi"
      },
      "source": [
        "**Skema 1: Tambahkan lebih banyak lapisan Conv1D.**"
      ]
    },
    {
      "cell_type": "code",
      "execution_count": null,
      "metadata": {
        "id": "l9kwKkf0t_uX"
      },
      "outputs": [],
      "source": [
        "model_1 = Sequential()\n",
        "model_1.add(Conv1D(32, 2, activation='relu', input_shape=(X_train.shape[1], 1)))\n",
        "model_1.add(Conv1D(64, 2, activation='relu'))\n",
        "model_1.add(Flatten())\n",
        "model_1.add(Dropout(0.2))  # Lapisan dropout untuk mengurangi overfitting\n",
        "model_1.add(Dense(64, activation='relu'))\n",
        "model_1.add(Dense(1))\n",
        "\n",
        "model_1.compile(optimizer='adam', loss='mean_squared_error')"
      ]
    },
    {
      "cell_type": "markdown",
      "metadata": {
        "id": "HJVuAWt5uCjY"
      },
      "source": [
        "**Skema 2: Gunakan kernel size yang lebih besar**"
      ]
    },
    {
      "cell_type": "code",
      "execution_count": null,
      "metadata": {
        "id": "orwmFqAduJ_z"
      },
      "outputs": [],
      "source": [
        "model_2 = Sequential()\n",
        "model_2.add(Conv1D(32, 3, activation='relu', input_shape=(X_train.shape[1], 1)))  # Perhatikan ukuran kernel menjadi 3\n",
        "model_2.add(Flatten())\n",
        "model_2.add(Dropout(0.2))\n",
        "model_2.add(Dense(64, activation='relu'))\n",
        "model_2.add(Dense(1))\n",
        "\n",
        "model_2.compile(optimizer='adam', loss='mean_squared_error')"
      ]
    },
    {
      "cell_type": "markdown",
      "metadata": {
        "id": "vIRHK1CMuLAj"
      },
      "source": [
        "**Skema 3: Tambahkan lebih banyak neuron di lapisan Dense**"
      ]
    },
    {
      "cell_type": "code",
      "execution_count": null,
      "metadata": {
        "id": "bNekChTVuN0U"
      },
      "outputs": [],
      "source": [
        "model_3 = Sequential()\n",
        "model_3.add(Conv1D(32, 2, activation='relu', input_shape=(X_train.shape[1], 1)))\n",
        "model_3.add(Flatten())\n",
        "model_3.add(Dropout(0.2))\n",
        "model_3.add(Dense(128, activation='relu'))  # Perhatikan jumlah neuron menjadi 128\n",
        "model_3.add(Dense(1))\n",
        "\n",
        "model_3.compile(optimizer='adam', loss='mean_squared_error')"
      ]
    },
    {
      "cell_type": "markdown",
      "source": [
        "**Skema 4: Membandingkan Baseline dengan semua Skema.**"
      ],
      "metadata": {
        "id": "6GnhqYMr_ZQf"
      }
    },
    {
      "cell_type": "code",
      "source": [
        "# Daftar semua model\n",
        "models = [model_baseline, model_1, model_2, model_3]\n",
        "model_names = ['Baseline', 'Skema 1', 'Skema 2', 'Skema 3']\n",
        "\n",
        "# Latih setiap model dan simpan riwayat pelatihan\n",
        "history_dict = {}\n",
        "for model, name in zip(models, model_names):\n",
        "    print(f'Training {name}...')\n",
        "    history = model.fit(X_train, y_train, epochs=50, batch_size=32, validation_split=0.2)\n",
        "    history_dict[name] = history\n",
        "\n",
        "# Bandingkan hasilnya\n",
        "for name, history in history_dict.items():\n",
        "    plt.plot(history.history['val_loss'], label=name)\n",
        "plt.title('Validation loss for different models')\n",
        "plt.xlabel('Epochs')\n",
        "plt.ylabel('Loss')\n",
        "plt.legend()\n",
        "plt.show()\n"
      ],
      "metadata": {
        "id": "0qhbBKjK_Y6x"
      },
      "execution_count": null,
      "outputs": []
    },
    {
      "cell_type": "markdown",
      "metadata": {
        "id": "tgcvwJJcuilE"
      },
      "source": [
        "# 4. Evaluasi"
      ]
    },
    {
      "cell_type": "code",
      "execution_count": null,
      "metadata": {
        "id": "ia48PqnpumvD"
      },
      "outputs": [],
      "source": [
        "# Latih model_1\n",
        "history_1 = model_1.fit(X_train, y_train, epochs=50, validation_data=(X_test, y_test), verbose=0)\n",
        "\n",
        "# Evaluasi model_1\n",
        "y_pred_1 = model_1.predict(X_test)\n",
        "mse_1 = mean_squared_error(y_test, y_pred_1)\n",
        "mae_1 = mean_absolute_error(y_test, y_pred_1)\n",
        "print(f\"Mean Squared Error dari Model 1: {mse_1}\")\n",
        "print(f\"Mean Absolute Error dari Model 1: {mae_1}\")\n",
        "\n",
        "# Latih model_2\n",
        "history_2 = model_2.fit(X_train, y_train, epochs=50, validation_data=(X_test, y_test), verbose=0)\n",
        "\n",
        "# Evaluasi model_2\n",
        "y_pred_2 = model_2.predict(X_test)\n",
        "mse_2 = mean_squared_error(y_test, y_pred_2)\n",
        "mae_2 = mean_absolute_error(y_test, y_pred_2)\n",
        "print(f\"Mean Squared Error dari Model 2: {mse_2}\")\n",
        "print(f\"Mean Absolute Error dari Model 2: {mae_2}\")\n",
        "\n",
        "# Latih model_3\n",
        "history_3 = model_3.fit(X_train, y_train, epochs=50, validation_data=(X_test, y_test), verbose=0)\n",
        "\n",
        "# Evaluasi model_3\n",
        "y_pred_3 = model_3.predict(X_test)\n",
        "mse_3 = mean_squared_error(y_test, y_pred_3)\n",
        "mae_3 = mean_absolute_error(y_test, y_pred_3)\n",
        "print(f\"Mean Squared Error dari Model 3: {mse_3}\")\n",
        "print(f\"Mean Absolute Error dari Model 3: {mae_3}\")\n"
      ]
    },
    {
      "cell_type": "code",
      "execution_count": null,
      "metadata": {
        "id": "94RL4IMk-x9i"
      },
      "outputs": [],
      "source": [
        "# Nilai MSE dan MAE dari ketiga model\n",
        "mse_values = [mse_1, mse_2, mse_3]\n",
        "mae_values = [mae_1, mae_2, mae_3]\n",
        "labels = ['Model 1', 'Model 2', 'Model 3']\n",
        "\n",
        "# Membuat grafik batang untuk MSE\n",
        "plt.figure(figsize=(10, 5))\n",
        "plt.bar(labels, mse_values, color='blue', alpha=0.7, label='MSE')\n",
        "plt.title('Perbandingan Mean Squared Error (MSE) dari Ketiga Model')\n",
        "plt.ylabel('Mean Squared Error')\n",
        "plt.show()\n",
        "\n",
        "# Membuat grafik batang untuk MAE\n",
        "plt.figure(figsize=(10, 5))\n",
        "plt.bar(labels, mae_values, color='orange', alpha=0.7, label='MAE')\n",
        "plt.title('Perbandingan Mean Absolute Error (MAE) dari Ketiga Model')\n",
        "plt.ylabel('Mean Absolute Error')\n",
        "plt.show()\n"
      ]
    },
    {
      "cell_type": "markdown",
      "metadata": {
        "id": "9j_G6HpmuonZ"
      },
      "source": [
        "# HASIL DAN ANALISIS\n",
        "\n",
        "Dari hasil evaluasi ketiga model tersebut, yang diukur dengan Mean Squared Error (MSE) dan Mean Absolute Error (MAE), kita dapat menyimpulkan beberapa poin penting:\n",
        "\n",
        "1. **Model 1 memiliki performa terbaik**:\n",
        "   - MSE: 0.4238\n",
        "   - MAE: 0.4849\n",
        "   - Model 1 memberikan nilai MSE dan MAE yang paling rendah dibandingkan dua model lainnya, yang menunjukkan bahwa secara keseluruhan, prediksi yang dibuat oleh Model 1 paling mendekati nilai sebenarnya.\n",
        "\n",
        "2. **Model 2 memiliki performa terendah**:\n",
        "   - MSE: 0.4849\n",
        "   - MAE: 0.5367\n",
        "   - Model 2 memberikan nilai MSE dan MAE yang paling tinggi, menunjukkan bahwa model ini kurang akurat dalam melakukan prediksi dibandingkan dua model lainnya.\n",
        "\n",
        "3. **Model 3 berada di antara kedua model lainnya**:\n",
        "   - MSE: 0.4430\n",
        "   - MAE: 0.4996\n",
        "   - Meskipun lebih baik daripada Model 2, Model 3 masih tidak seakurat Model 1.\n",
        "\n",
        "### Analisis:\n",
        "\n",
        "- **MSE (Mean Squared Error)** mengukur rata-rata kuadrat dari kesalahan. Nilai yang lebih rendah menunjukkan bahwa kesalahan antara nilai prediksi dan aktual lebih kecil. Model 1 memiliki MSE terendah, menunjukkan bahwa kesalahan prediksinya secara umum lebih kecil.\n",
        "  \n",
        "- **MAE (Mean Absolute Error)** mengukur rata-rata kesalahan absolut. Sama seperti MSE, nilai yang lebih rendah menunjukkan hasil yang lebih baik. Model 1 juga unggul dalam hal ini, menunjukkan bahwa kesalahan prediksi pada umumnya lebih kecil.\n"
      ]
    },
    {
      "cell_type": "markdown",
      "metadata": {
        "id": "e0UIx494ur9Z"
      },
      "source": [
        "# KESIMPULAN\n",
        "Secara keseluruhan, Model 1 tampaknya merupakan pilihan terbaik dari ketiga model yang dieksplorasi berdasarkan metrik yang diberikan. Model 2 memiliki kinerja terendah sedangkan model 3 berada di tengah. Oleh karena itu, model 1 adalah pilihan terbaik berdasarkan evaluasi ini."
      ]
    }
  ],
  "metadata": {
    "colab": {
      "provenance": [],
      "toc_visible": true
    },
    "kernelspec": {
      "display_name": "Python 3",
      "name": "python3"
    },
    "language_info": {
      "name": "python"
    }
  },
  "nbformat": 4,
  "nbformat_minor": 0
}