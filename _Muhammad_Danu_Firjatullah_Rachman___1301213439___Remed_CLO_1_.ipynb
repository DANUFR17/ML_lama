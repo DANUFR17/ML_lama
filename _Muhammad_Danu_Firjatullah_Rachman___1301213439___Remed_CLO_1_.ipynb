{
  "nbformat": 4,
  "nbformat_minor": 0,
  "metadata": {
    "colab": {
      "provenance": []
    },
    "kernelspec": {
      "name": "python3",
      "display_name": "Python 3"
    },
    "language_info": {
      "name": "python"
    }
  },
  "cells": [
    {
      "cell_type": "code",
      "source": [
        "\"\"\"\n",
        "Nama  : ...\n",
        "\n",
        "NIM   : ...\n",
        "\n",
        "Kelas : ...\n",
        "\"\"\""
      ],
      "metadata": {
        "id": "n4bc5SzV4t78"
      },
      "execution_count": null,
      "outputs": []
    },
    {
      "cell_type": "markdown",
      "source": [
        "Nomor 1:Inisialisasi Populasi"
      ],
      "metadata": {
        "id": "d-UpRf78n_aB"
      }
    },
    {
      "cell_type": "code",
      "source": [
        "import numpy as np\n",
        "import random\n",
        "import math"
      ],
      "metadata": {
        "id": "AGrOsN7uKlVr"
      },
      "execution_count": null,
      "outputs": []
    },
    {
      "cell_type": "code",
      "execution_count": null,
      "metadata": {
        "id": "O3oPa9srKWTC"
      },
      "outputs": [],
      "source": [
        "# Inisialisasi\n",
        "def initialization(populasi, bit):\n",
        "  M = np.empty(shape=[populasi, bit])\n",
        "  for j in range(populasi):\n",
        "    for i in range(bit):\n",
        "      M[j][i]= ... # ISI DI SINI\n",
        "  return M"
      ]
    },
    {
      "cell_type": "code",
      "source": [
        "populasi = 10\n",
        "bit = ... # ISI DI SINI\n",
        "p = initialization(populasi, bit)\n",
        "print(p)"
      ],
      "metadata": {
        "id": "vXEKBBqgKoLg"
      },
      "execution_count": null,
      "outputs": []
    },
    {
      "cell_type": "markdown",
      "source": [
        "Nomor 2: Dekode Kromosom"
      ],
      "metadata": {
        "id": "H4XIYObZocXE"
      }
    },
    {
      "cell_type": "code",
      "source": [
        "# dekode\n",
        "def decode(min, max, N, kromosom):\n",
        "  sigma = 0\n",
        "  for i in range(1,int(N/2)+1):\n",
        "    sigma += 2**(-i)\n",
        "\n",
        "  x = min + ((max-min)/sigma*( kromosom[0]*2**-1 + kromosom[1]*2**-2 + kromosom[2]*2**-3))\n",
        "  y = min + ... # ISI DI SINI\n",
        "\n",
        "  return round(x,6),round(y,6)\n",
        "\n",
        "# dekode individu ke-10\n",
        "x, y = decode(-5,5,bit,p[9])\n",
        "print(...) # ISI DI SINI"
      ],
      "metadata": {
        "id": "2ZnV8YqwhKTM"
      },
      "execution_count": null,
      "outputs": []
    },
    {
      "cell_type": "markdown",
      "source": [
        "Nomor 3: Pemilihan Orang Tua"
      ],
      "metadata": {
        "id": "MyRP6yBBojD_"
      }
    },
    {
      "cell_type": "code",
      "source": [
        "# Fungsi fitness\n",
        "def fitness(x, y):\n",
        "    return float(math.cos(x) * math.sin(y))/(x**2 + y**2)\n",
        "\n",
        "print(fitness(x,y))"
      ],
      "metadata": {
        "id": "dxNjaF5Rrakm"
      },
      "execution_count": null,
      "outputs": []
    },
    {
      "cell_type": "code",
      "source": [
        "# Pemilihan Orang Tua\n",
        "# Mendefinisikan fungsi seleksi orang tua\n",
        "def select_parents(population):\n",
        "    parents = []\n",
        "    fitness_values = []\n",
        "    # Memilih dua orang tua secara acak dengan probabilitas yang sebanding dengan fitness mereka\n",
        "    # Menghitung nilai fitness dari setiap individu\n",
        "    for i in range(len(population)):\n",
        "      x, y = decode(-5,5,bit,population[i])\n",
        "      f = ... # ISI DI SINI\n",
        "      fitness_values.append(f)\n",
        "\n",
        "    # menghitung total nilai fitness\n",
        "    total_fitness = ... # ISI DI SINI\n",
        "\n",
        "    # menghitung probabilitas dari setiap individu untuk terpilih menjadi parent\n",
        "    probabilities = [fitness/total_fitness for fitness in fitness_values]\n",
        "    for i in range(2):\n",
        "        parents.append(random.choices(population, probabilities)[0])\n",
        "    return parents\n",
        "\n",
        "# parent yang terpilih\n",
        "parent = select_parents(p)\n",
        "for i in range(len(parent)):\n",
        "  print(parent[i])"
      ],
      "metadata": {
        "id": "AJvaczISjS11"
      },
      "execution_count": null,
      "outputs": []
    },
    {
      "cell_type": "markdown",
      "source": [
        "Nomor 4: Crossover(Pindah Silang)"
      ],
      "metadata": {
        "id": "YBIwDpRMorlN"
      }
    },
    {
      "cell_type": "code",
      "source": [
        "# Mendefinisikan fungsi crossover\n",
        "def crossover(parents):\n",
        "  child1 = parents[0]\n",
        "  child2 = parents[1]\n",
        "  # Menentukan titik potong \n",
        "  tp = math.ceil(random.uniform(0,1)*(bit-1))\n",
        "  # Membuat dua anak baru dengan gen x dan y dari masing-masing orang tua\n",
        "  # tukar bit dari x dan y sesuai titik potong\n",
        "  temp = child1[:tp]\n",
        "  child1[:tp] = ... # ISI DI SINI\n",
        "  child2[:tp] = ... # ISI DI SINI\n",
        "  return (child1, child2)\n",
        "\n",
        "# anak yang dihasilkan dari crossover parent\n",
        "offspring = crossover(parent)\n",
        "for i in range(len(offspring)):\n",
        "  print(offspring[i])"
      ],
      "metadata": {
        "id": "B2MO49cwrqQV"
      },
      "execution_count": null,
      "outputs": []
    },
    {
      "cell_type": "markdown",
      "source": [
        "Nomor 5: Mutasi"
      ],
      "metadata": {
        "id": "SIRx83LdouH8"
      }
    },
    {
      "cell_type": "code",
      "source": [
        "# Mendefinisikan fungsi mutasi\n",
        "def mutate(individual):\n",
        "  for i in range(len(individual)):\n",
        "    # Mengubah nilai x dan y dengan probabilitas kecil\n",
        "    if random.random() < 0.05:\n",
        "      if individual[i] == 0:\n",
        "        individual[i] = 1\n",
        "      else:\n",
        "        individual[i] = ... # ISI DI SINI\n",
        "  return individual\n",
        "\n",
        "# jika salah satu individu crossover dimutasi\n",
        "mutasi = mutate(offspring[1])\n",
        "print(...) # ISI DI SINI"
      ],
      "metadata": {
        "id": "s02edHG9xWjZ"
      },
      "execution_count": null,
      "outputs": []
    },
    {
      "cell_type": "markdown",
      "source": [
        "Nomor 6: Pergantian Generasi"
      ],
      "metadata": {
        "id": "mMvtGAlBoydX"
      }
    },
    {
      "cell_type": "code",
      "source": [
        "# Mendefinisikan fungsi evolusi generasi\n",
        "def evolve(population):\n",
        "    # Seleksi orang tua\n",
        "    parents = ... # ISI DI SINI\n",
        "    # Crossover\n",
        "    children = crossover(parents)\n",
        "    # Mutasi\n",
        "    mutated_children = [mutate(child) for child in children]\n",
        "    # Gabungkan populasi lama dan baru\n",
        "    new_population = np.concatenate((population,mutated_children))\n",
        "    new_population = new_population.tolist()\n",
        "    fitness_values= ... # ISI DI SINI\n",
        "    \n",
        "    for i in range(len(new_population)):\n",
        "      x, y = decode(-5,5,bit,new_population[i])\n",
        "      f = fitness(x,y)\n",
        "      fitness_values.append(f)\n",
        "    # Pilih 10 individu terbaik sebagai populasi baru\n",
        "    temp = list(zip(new_population, fitness_values))\n",
        "    new_population,fitness_values = zip(*sorted(temp, key=lambda x: x[1], reverse=True)[:10])\n",
        "    return new_population\n",
        "\n",
        "pNew = evolve(p)\n",
        "for i in range(len(pNew)):\n",
        "  print(pNew[i])"
      ],
      "metadata": {
        "id": "hca9y9DLkOsP"
      },
      "execution_count": null,
      "outputs": []
    },
    {
      "cell_type": "markdown",
      "source": [
        "Nomor 7: GA"
      ],
      "metadata": {
        "id": "BOCKkAqHo2BV"
      }
    },
    {
      "cell_type": "code",
      "source": [
        "# Main program\n",
        "ukuran_populasi = ... # ISI DI SINI\n",
        "bit = 6\n",
        "population = initialization(ukuran_populasi, bit)\n",
        "for i in range(...): # ISI DI SINI\n",
        "    population = evolve(population)\n",
        "    best_individual = decode(-5, 5, bit,population[0])\n",
        "    print(\"Generasi {}: x={}, y={}, fitness={}\".format(i+1, best_individual[0], best_individual[1], fitness(best_individual[0], best_individual[1])))"
      ],
      "metadata": {
        "id": "il1_x_as3YrE"
      },
      "execution_count": null,
      "outputs": []
    }
  ]
}